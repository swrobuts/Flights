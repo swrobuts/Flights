{
 "cells": [
  {
   "cell_type": "markdown",
   "metadata": {},
   "source": [
    "<p style='color: darkorange; font-size: 2.5em; font-weight: bold; text-align: left;'>\n",
    "    Verarbeiten großer Datenbestände mit DuckDB 🦆</p>"
   ]
  },
  {
   "cell_type": "markdown",
   "metadata": {},
   "source": [
    "### **Installation von DuckDB und Verbindung zu DuckDB (hier in-Memory-Verarbeitung)**"
   ]
  },
  {
   "cell_type": "code",
   "execution_count": 1,
   "metadata": {},
   "outputs": [],
   "source": [
    "%%capture\n",
    "%pip install duckdb"
   ]
  },
  {
   "cell_type": "code",
   "execution_count": 2,
   "metadata": {},
   "outputs": [],
   "source": [
    "import duckdb\n",
    "\n",
    "# Verbindung zur in-memory DuckDB-Datenbank (':memory:') herstellen; Voraussetzung: DuckDB muss installiert sein, ':memory:' muss als Vorgabe so gesetzt sein\n",
    "conn = duckdb.connect(':memory:')"
   ]
  },
  {
   "cell_type": "markdown",
   "metadata": {},
   "source": [
    "### **Inspektion der Daten via SQL**"
   ]
  },
  {
   "cell_type": "code",
   "execution_count": 3,
   "metadata": {},
   "outputs": [
    {
     "name": "stdout",
     "output_type": "stream",
     "text": [
      "('IATA_CODE', 'VARCHAR', 'YES', None, None, None)\n",
      "('AIRPORT', 'VARCHAR', 'YES', None, None, None)\n",
      "('CITY', 'VARCHAR', 'YES', None, None, None)\n",
      "('STATE', 'VARCHAR', 'YES', None, None, None)\n",
      "('COUNTRY', 'VARCHAR', 'YES', None, None, None)\n",
      "('LATITUDE', 'DOUBLE', 'YES', None, None, None)\n",
      "('LONGITUDE', 'DOUBLE', 'YES', None, None, None)\n"
     ]
    }
   ],
   "source": [
    "# Inspektion der Daten und Test der Verbindung zur Datenquelle, die über die untere URL zu erreichen ist\n",
    "result = conn.execute(\"\"\"\n",
    "DESCRIBE SELECT * FROM 'https://media.githubusercontent.com/media/swrobuts/Flights/main/airports.csv';\n",
    "\"\"\").fetchall()\n",
    "\n",
    "# Ausgabe des Ergebnisses\n",
    "for row in result:\n",
    "    print(row)"
   ]
  },
  {
   "cell_type": "markdown",
   "metadata": {},
   "source": [
    "### **Aufbau und Befüllen der Tabelle `airports`**"
   ]
  },
  {
   "cell_type": "code",
   "execution_count": 4,
   "metadata": {},
   "outputs": [
    {
     "data": {
      "text/html": [
       "<div>\n",
       "<style scoped>\n",
       "    .dataframe tbody tr th:only-of-type {\n",
       "        vertical-align: middle;\n",
       "    }\n",
       "\n",
       "    .dataframe tbody tr th {\n",
       "        vertical-align: top;\n",
       "    }\n",
       "\n",
       "    .dataframe thead th {\n",
       "        text-align: right;\n",
       "    }\n",
       "</style>\n",
       "<table border=\"1\" class=\"dataframe\">\n",
       "  <thead>\n",
       "    <tr style=\"text-align: right;\">\n",
       "      <th></th>\n",
       "      <th>airport_id</th>\n",
       "      <th>iata_code</th>\n",
       "      <th>airport</th>\n",
       "      <th>city</th>\n",
       "      <th>state</th>\n",
       "      <th>country</th>\n",
       "      <th>latitude</th>\n",
       "      <th>longitude</th>\n",
       "    </tr>\n",
       "  </thead>\n",
       "  <tbody>\n",
       "    <tr>\n",
       "      <th>0</th>\n",
       "      <td>278</td>\n",
       "      <td>APN</td>\n",
       "      <td>Alpena County Regional Airport</td>\n",
       "      <td>Alpena</td>\n",
       "      <td>MI</td>\n",
       "      <td>USA</td>\n",
       "      <td>45.07807</td>\n",
       "      <td>-83.56029</td>\n",
       "    </tr>\n",
       "    <tr>\n",
       "      <th>1</th>\n",
       "      <td>279</td>\n",
       "      <td>AZO</td>\n",
       "      <td>Kalamazoo/Battle Creek International Airport</td>\n",
       "      <td>Kalamazoo</td>\n",
       "      <td>MI</td>\n",
       "      <td>USA</td>\n",
       "      <td>42.23488</td>\n",
       "      <td>-85.55206</td>\n",
       "    </tr>\n",
       "    <tr>\n",
       "      <th>2</th>\n",
       "      <td>280</td>\n",
       "      <td>BET</td>\n",
       "      <td>Bethel Airport</td>\n",
       "      <td>Bethel</td>\n",
       "      <td>AK</td>\n",
       "      <td>USA</td>\n",
       "      <td>60.77978</td>\n",
       "      <td>-161.83800</td>\n",
       "    </tr>\n",
       "    <tr>\n",
       "      <th>3</th>\n",
       "      <td>281</td>\n",
       "      <td>BIS</td>\n",
       "      <td>Bismarck Municipal Airport</td>\n",
       "      <td>Bismarck</td>\n",
       "      <td>ND</td>\n",
       "      <td>USA</td>\n",
       "      <td>46.77411</td>\n",
       "      <td>-100.74672</td>\n",
       "    </tr>\n",
       "    <tr>\n",
       "      <th>4</th>\n",
       "      <td>282</td>\n",
       "      <td>BRD</td>\n",
       "      <td>Brainerd Lakes Regional Airport</td>\n",
       "      <td>Brainerd</td>\n",
       "      <td>MN</td>\n",
       "      <td>USA</td>\n",
       "      <td>46.39786</td>\n",
       "      <td>-94.13723</td>\n",
       "    </tr>\n",
       "  </tbody>\n",
       "</table>\n",
       "</div>"
      ],
      "text/plain": [
       "   airport_id iata_code                                       airport  \\\n",
       "0         278       APN                Alpena County Regional Airport   \n",
       "1         279       AZO  Kalamazoo/Battle Creek International Airport   \n",
       "2         280       BET                                Bethel Airport   \n",
       "3         281       BIS                    Bismarck Municipal Airport   \n",
       "4         282       BRD               Brainerd Lakes Regional Airport   \n",
       "\n",
       "        city state country  latitude  longitude  \n",
       "0     Alpena    MI     USA  45.07807  -83.56029  \n",
       "1  Kalamazoo    MI     USA  42.23488  -85.55206  \n",
       "2     Bethel    AK     USA  60.77978 -161.83800  \n",
       "3   Bismarck    ND     USA  46.77411 -100.74672  \n",
       "4   Brainerd    MN     USA  46.39786  -94.13723  "
      ]
     },
     "execution_count": 4,
     "metadata": {},
     "output_type": "execute_result"
    }
   ],
   "source": [
    "import pandas as pd\n",
    "\n",
    "# Verbindung zur in-memory DuckDB-Datenbank herstellen; Voraussetzung: DuckDB muss installiert sein\n",
    "conn = duckdb.connect(':memory:')\n",
    "\n",
    "# Sequenz und Tabelle \"airports\" erstellen\n",
    "conn.execute(\"\"\"\n",
    "CREATE SEQUENCE IF NOT EXISTS airport_id\n",
    "INCREMENT BY 1 MINVALUE 0;\n",
    "\"\"\")\n",
    "\n",
    "conn.execute(\"\"\"\n",
    "CREATE TABLE IF NOT EXISTS airports (\n",
    "    airport_id INTEGER PRIMARY KEY DEFAULT(nextval('airport_id')),\n",
    "    iata_code VARCHAR(5),\n",
    "    airport VARCHAR(255),\n",
    "    city VARCHAR(255),\n",
    "    state VARCHAR(255),\n",
    "    country VARCHAR(255),\n",
    "    latitude DOUBLE,\n",
    "    longitude DOUBLE,\n",
    "    CONSTRAINT airport_id UNIQUE (airport_id)\n",
    ");\n",
    "\"\"\")\n",
    "\n",
    "# Befüllen der angelegten Tabelle bzw. Relation \"airports\" aus der csv-Datei\n",
    "conn.execute(\"\"\"\n",
    "INSERT INTO airports(\"iata_code\", \"airport\",\"city\",\"state\",\"country\",\"latitude\",\"longitude\")\n",
    "SELECT DISTINCT \"IATA_CODE\", \"AIRPORT\", \"CITY\", \"STATE\",\"COUNTRY\",\"LATITUDE\",\"LONGITUDE\"\n",
    "FROM 'https://media.githubusercontent.com/media/swrobuts/Flights/main/airports.csv';\n",
    "\"\"\")\n",
    "\n",
    "# Überführt die Daten aus der Relation \"airports\" in ein pandas DataFrame\n",
    "airports_df = conn.execute(\"SELECT * FROM airports;\").df()\n",
    "\n",
    "# Einige Daten aus der Tabelle \"airports\" abfragen, um zu testen\n",
    "airports_df.head()"
   ]
  },
  {
   "cell_type": "markdown",
   "metadata": {},
   "source": [
    "### **Aufbau und Befüllen der Tabelle `airlines`**"
   ]
  },
  {
   "cell_type": "code",
   "execution_count": 5,
   "metadata": {},
   "outputs": [
    {
     "data": {
      "text/html": [
       "<div>\n",
       "<style scoped>\n",
       "    .dataframe tbody tr th:only-of-type {\n",
       "        vertical-align: middle;\n",
       "    }\n",
       "\n",
       "    .dataframe tbody tr th {\n",
       "        vertical-align: top;\n",
       "    }\n",
       "\n",
       "    .dataframe thead th {\n",
       "        text-align: right;\n",
       "    }\n",
       "</style>\n",
       "<table border=\"1\" class=\"dataframe\">\n",
       "  <thead>\n",
       "    <tr style=\"text-align: right;\">\n",
       "      <th></th>\n",
       "      <th>airline_id</th>\n",
       "      <th>iata_code</th>\n",
       "      <th>airline</th>\n",
       "    </tr>\n",
       "  </thead>\n",
       "  <tbody>\n",
       "    <tr>\n",
       "      <th>0</th>\n",
       "      <td>100</td>\n",
       "      <td>F9</td>\n",
       "      <td>Frontier Airlines Inc.</td>\n",
       "    </tr>\n",
       "    <tr>\n",
       "      <th>1</th>\n",
       "      <td>104</td>\n",
       "      <td>NK</td>\n",
       "      <td>Spirit Air Lines</td>\n",
       "    </tr>\n",
       "    <tr>\n",
       "      <th>2</th>\n",
       "      <td>105</td>\n",
       "      <td>MQ</td>\n",
       "      <td>American Eagle Airlines Inc.</td>\n",
       "    </tr>\n",
       "    <tr>\n",
       "      <th>3</th>\n",
       "      <td>102</td>\n",
       "      <td>AA</td>\n",
       "      <td>American Airlines Inc.</td>\n",
       "    </tr>\n",
       "    <tr>\n",
       "      <th>4</th>\n",
       "      <td>103</td>\n",
       "      <td>HA</td>\n",
       "      <td>Hawaiian Airlines Inc.</td>\n",
       "    </tr>\n",
       "  </tbody>\n",
       "</table>\n",
       "</div>"
      ],
      "text/plain": [
       "   airline_id iata_code                       airline\n",
       "0         100        F9        Frontier Airlines Inc.\n",
       "1         104        NK              Spirit Air Lines\n",
       "2         105        MQ  American Eagle Airlines Inc.\n",
       "3         102        AA        American Airlines Inc.\n",
       "4         103        HA        Hawaiian Airlines Inc."
      ]
     },
     "execution_count": 5,
     "metadata": {},
     "output_type": "execute_result"
    }
   ],
   "source": [
    "# Anlegen und Befüllen der Tabelle \"airlines\"\n",
    "conn.execute(\"\"\"\n",
    "CREATE SEQUENCE IF NOT EXISTS \"airline_id\"\n",
    "INCREMENT BY 1 MINVALUE 100;\n",
    "\n",
    "CREATE TABLE IF NOT EXISTS airlines\n",
    "(\n",
    "    \"airline_id\" INTEGER PRIMARY KEY DEFAULT(nextval('airline_id')),\n",
    "    \"iata_code\" VARCHAR(10),\n",
    "    \"airline\" VARCHAR(255),\n",
    "    CONSTRAINT \"airline_id\" UNIQUE (\"airline_id\")\n",
    "    );\n",
    "\n",
    "--- Befüllen der angelegten Tabelle \"airlines\"\n",
    "INSERT INTO airlines(\"iata_code\",\"airline\")\n",
    "SELECT DISTINCT \"IATA_CODE\", \"AIRLINE\"\n",
    "FROM read_csv('https://media.githubusercontent.com/media/swrobuts/Flights/main/airlines.csv', \n",
    "              delim = ',',\n",
    "              header = true,\n",
    "              Columns = {\n",
    "              'IATA_CODE': 'VARCHAR(5)',\n",
    "              'AIRLINE': 'VARCHAR(255)'\n",
    "              })\n",
    "\"\"\")\n",
    "\n",
    "# Überführt die Daten aus der Relation \"airlines\" in ein pandas DataFrame\n",
    "airlines_df = conn.execute(\"SELECT * FROM airlines;\").df()\n",
    "\n",
    "# Einige Daten aus der Tabelle \"airlines\" abfragen, um zu testen\n",
    "airlines_df.head()"
   ]
  },
  {
   "cell_type": "markdown",
   "metadata": {},
   "source": [
    "### **Anlegen und Befüllen der Tabelle `cancellation_reasons`**"
   ]
  },
  {
   "cell_type": "code",
   "execution_count": 6,
   "metadata": {},
   "outputs": [
    {
     "data": {
      "text/html": [
       "<div>\n",
       "<style scoped>\n",
       "    .dataframe tbody tr th:only-of-type {\n",
       "        vertical-align: middle;\n",
       "    }\n",
       "\n",
       "    .dataframe tbody tr th {\n",
       "        vertical-align: top;\n",
       "    }\n",
       "\n",
       "    .dataframe thead th {\n",
       "        text-align: right;\n",
       "    }\n",
       "</style>\n",
       "<table border=\"1\" class=\"dataframe\">\n",
       "  <thead>\n",
       "    <tr style=\"text-align: right;\">\n",
       "      <th></th>\n",
       "      <th>cr_id</th>\n",
       "      <th>reason</th>\n",
       "      <th>shortcut</th>\n",
       "    </tr>\n",
       "  </thead>\n",
       "  <tbody>\n",
       "    <tr>\n",
       "      <th>0</th>\n",
       "      <td>90</td>\n",
       "      <td>Airline/ Carrier</td>\n",
       "      <td>A</td>\n",
       "    </tr>\n",
       "    <tr>\n",
       "      <th>1</th>\n",
       "      <td>80</td>\n",
       "      <td>Weather</td>\n",
       "      <td>B</td>\n",
       "    </tr>\n",
       "    <tr>\n",
       "      <th>2</th>\n",
       "      <td>70</td>\n",
       "      <td>National Air System</td>\n",
       "      <td>C</td>\n",
       "    </tr>\n",
       "    <tr>\n",
       "      <th>3</th>\n",
       "      <td>60</td>\n",
       "      <td>Security</td>\n",
       "      <td>D</td>\n",
       "    </tr>\n",
       "    <tr>\n",
       "      <th>4</th>\n",
       "      <td>0</td>\n",
       "      <td>Keine Stornierung</td>\n",
       "      <td>No</td>\n",
       "    </tr>\n",
       "  </tbody>\n",
       "</table>\n",
       "</div>"
      ],
      "text/plain": [
       "   cr_id               reason shortcut\n",
       "0     90     Airline/ Carrier        A\n",
       "1     80              Weather        B\n",
       "2     70  National Air System        C\n",
       "3     60             Security        D\n",
       "4      0    Keine Stornierung       No"
      ]
     },
     "execution_count": 6,
     "metadata": {},
     "output_type": "execute_result"
    }
   ],
   "source": [
    "## Anlegen der Tabelle \"cancellation_reasons\"\n",
    "conn.execute(\"\"\"\n",
    "CREATE TABLE IF NOT EXISTS cancellation_reasons\n",
    "(\n",
    "    \"cr_id\" INTEGER PRIMARY KEY,\n",
    "    \"reason\" VARCHAR(255),\n",
    "    \"shortcut\" VARCHAR(5),\n",
    ");\n",
    "\n",
    "-- Manuelles Befüllen der Tabelle \"cancellations_reasons\", die IDs für den Primary Key sind willkürlich, sie müssen aber unterschiedlich sein\n",
    "INSERT INTO cancellation_reasons\n",
    "VALUES\n",
    "(90, 'Airline/ Carrier', 'A'),\n",
    "(80,'Weather', 'B'),\n",
    "(70,'National Air System', 'C'),\n",
    "(60,'Security', 'D'),\n",
    "(0, 'Keine Stornierung', 'No');\n",
    "\"\"\")\n",
    "\n",
    "# Überführt die Daten aus der angelegten Relation in ein pandas DataFrame\n",
    "cancellation_reasons_df = conn.execute(\"SELECT * FROM cancellation_reasons;\").df()\n",
    "\n",
    "# Testabfrage\n",
    "cancellation_reasons_df.head()"
   ]
  },
  {
   "cell_type": "markdown",
   "metadata": {},
   "source": [
    "### **Anlegen und Befüllen der Tabelle `flights`**\n",
    "\n",
    "Es werden aus der [Zeitreihe](https://www.kaggle.com/datasets/yuanyuwendymu/airline-delay-and-cancellation-data-2009-2018) die Daten für die Jahre 2014 und 2015 geladen, dieser Ausschnitt ist rein willkürlich. Hinweis: Das Attribut \"tail_number\" ist in den zugrunde liegenden Daten nicht vorhanden, es wird später aus einer anderen Datenquelle angereichert. Die \"tail_numer\" ist die individuelle Registrationsnummer eines jeden Flugzeugs."
   ]
  },
  {
   "cell_type": "markdown",
   "metadata": {},
   "source": [
    "**Load der Daten aus der Datei \"2014.csv\"**"
   ]
  },
  {
   "cell_type": "code",
   "execution_count": 7,
   "metadata": {},
   "outputs": [
    {
     "data": {
      "text/plain": [
       "<duckdb.duckdb.DuckDBPyConnection at 0x1f23e38d6b0>"
      ]
     },
     "execution_count": 7,
     "metadata": {},
     "output_type": "execute_result"
    }
   ],
   "source": [
    "# Anlegen der Tabelle \"flights\"\n",
    "conn.execute(\"\"\"\n",
    "CREATE SEQUENCE IF NOT EXISTS \"flight_id\"\n",
    "INCREMENT BY 1 MINVALUE 0;\n",
    "\n",
    "CREATE TABLE IF NOT EXISTS flights \n",
    "(   \"flight_id\" INTEGER PRIMARY KEY DEFAULT(nextval('flight_id')),\n",
    "    \"date\" DATE,\n",
    "    \"airline\" VARCHAR(10),\n",
    "    \"flight_number\" VARCHAR(255),\n",
    "    \"tail_number\" VARCHAR(255),\n",
    "    \"origin_airport\" VARCHAR(10),\n",
    "    \"destination_airport\" VARCHAR(10),\n",
    "    \"scheduled_departure\" VARCHAR(255),\n",
    "    \"departure_time\" VARCHAR(255),\n",
    "    \"departure_delay\" INTEGER,\n",
    "    \"taxi_out\" INTEGER,\n",
    "    \"wheels_off\" VARCHAR(255),\n",
    "    \"wheels_on\" VARCHAR(255),\n",
    "    \"taxi_in\" INTEGER,\n",
    "    \"scheduled_arrival\" VARCHAR(255),    \n",
    "    \"arrival_time\" VARCHAR(255),\n",
    "    \"arrival_delay\" INTEGER,\n",
    "    \"cancelled\" INTEGER,\n",
    "    \"cancellation_reason\" VARCHAR(255),             \n",
    "    \"diverted\" INTEGER,\n",
    "    \"scheduled_time\" INTEGER,             \n",
    "    \"elapsed_time\" INTEGER,             \n",
    "    \"air_time\" INTEGER,\n",
    "    \"distance\" INTEGER,\n",
    "    \"airline_delay\" INTEGER,             \n",
    "    \"weather_delay\" INTEGER,\n",
    "    \"air_system_delay\" INTEGER,\n",
    "    \"security_delay\" INTEGER,\n",
    "    \"late_aircraft_delay\" INTEGER,\n",
    "    CONSTRAINT \"flight_id\" UNIQUE (\"flight_id\")\n",
    ");\n",
    "\"\"\")\n",
    "\n",
    "# Befüllen der Tabelle aus \"2014.csv\". Die Daten werden nicht über http aus Performance-Gründen, sondern über eine\n",
    "# lokale csv-Datei geladen. Sie müssen den Pfad entsprechend dem Ihrigen anpassen\n",
    "conn.execute(\"\"\"\n",
    "INSERT INTO flights\n",
    "(\n",
    "    \"date\",\n",
    "    \"airline\",\n",
    "    \"flight_number\",\n",
    "    \"origin_airport\",\n",
    "    \"destination_airport\",\n",
    "    \"scheduled_departure\",\n",
    "    \"departure_time\",\n",
    "    \"departure_delay\",\n",
    "    \"taxi_out\",\n",
    "    \"wheels_off\",\n",
    "    \"wheels_on\",\n",
    "    \"taxi_in\",\n",
    "    \"scheduled_arrival\",    \n",
    "    \"arrival_time\",\n",
    "    \"arrival_delay\",\n",
    "    \"cancelled\",\n",
    "    \"cancellation_reason\",             \n",
    "    \"diverted\",\n",
    "    \"scheduled_time\",             \n",
    "    \"elapsed_time\",             \n",
    "    \"air_time\",\n",
    "    \"distance\",\n",
    "    \"airline_delay\",             \n",
    "    \"weather_delay\",\n",
    "    \"air_system_delay\",\n",
    "    \"security_delay\",\n",
    "    \"late_aircraft_delay\"\n",
    ")\n",
    "SELECT \n",
    "\"FL_DATE\",\n",
    "\"OP_CARRIER\",\n",
    "\"OP_CARRIER_FL_NUM\",\n",
    "\"ORIGIN\",\n",
    "\"DEST\",\n",
    "\"CRS_DEP_TIME\",\n",
    "\"DEP_TIME\",\n",
    "\"DEP_DELAY\",\n",
    "\"TAXI_OUT\",\n",
    "\"WHEELS_OFF\",\n",
    "\"WHEELS_ON\",\n",
    "\"TAXI_IN\",\n",
    "\"CRS_ARR_TIME\",\n",
    "\"ARR_TIME\",\n",
    "\"ARR_DELAY\",\n",
    "\"CANCELLED\",\n",
    "\"CANCELLATION_CODE\",\n",
    "\"DIVERTED\",\n",
    "\"CRS_ELAPSED_TIME\",\n",
    "\"ACTUAL_ELAPSED_TIME\",\n",
    "\"AIR_TIME\",\n",
    "\"DISTANCE\",\n",
    "\"CARRIER_DELAY\",\n",
    "\"WEATHER_DELAY\",\n",
    "\"NAS_DELAY\",\n",
    "\"SECURITY_DELAY\",\n",
    "\"LATE_AIRCRAFT_DELAY\"\n",
    "FROM read_csv_auto(\"C:/Users/rober/OneDrive/Vorlesungen/Datenbasierte Fallstudien/Visualisierungen/Flights/Flights/2014.csv\");\n",
    "\"\"\")"
   ]
  },
  {
   "cell_type": "markdown",
   "metadata": {},
   "source": [
    "**Load der Daten aus der Datei \"2015.csv\"**"
   ]
  },
  {
   "cell_type": "code",
   "execution_count": 8,
   "metadata": {},
   "outputs": [
    {
     "data": {
      "text/plain": [
       "<duckdb.duckdb.DuckDBPyConnection at 0x1f23e38d6b0>"
      ]
     },
     "execution_count": 8,
     "metadata": {},
     "output_type": "execute_result"
    }
   ],
   "source": [
    "# Anlegen der Tabelle \"flights\"\n",
    "conn.execute(\"\"\"\n",
    "CREATE SEQUENCE IF NOT EXISTS \"flight_id\"\n",
    "INCREMENT BY 1 MINVALUE 0;\n",
    "\n",
    "CREATE TABLE IF NOT EXISTS flights \n",
    "(   \"flight_id\" INTEGER PRIMARY KEY DEFAULT(nextval('flight_id')),\n",
    "    \"date\" DATE,\n",
    "    \"airline\" VARCHAR(10),\n",
    "    \"flight_number\" VARCHAR(255),\n",
    "    \"tail_number\" VARCHAR(255),\n",
    "    \"origin_airport\" VARCHAR(10),\n",
    "    \"destination_airport\" VARCHAR(10),\n",
    "    \"scheduled_departure\" VARCHAR(255),\n",
    "    \"departure_time\" VARCHAR(255),\n",
    "    \"departure_delay\" INTEGER,\n",
    "    \"taxi_out\" INTEGER,\n",
    "    \"wheels_off\" VARCHAR(255),\n",
    "    \"wheels_on\" VARCHAR(255),\n",
    "    \"taxi_in\" INTEGER,\n",
    "    \"scheduled_arrival\" VARCHAR(255),    \n",
    "    \"arrival_time\" VARCHAR(255),\n",
    "    \"arrival_delay\" INTEGER,\n",
    "    \"cancelled\" INTEGER,\n",
    "    \"cancellation_reason\" VARCHAR(255),             \n",
    "    \"diverted\" INTEGER,\n",
    "    \"scheduled_time\" INTEGER,             \n",
    "    \"elapsed_time\" INTEGER,             \n",
    "    \"air_time\" INTEGER,\n",
    "    \"distance\" INTEGER,\n",
    "    \"airline_delay\" INTEGER,             \n",
    "    \"weather_delay\" INTEGER,\n",
    "    \"air_system_delay\" INTEGER,\n",
    "    \"security_delay\" INTEGER,\n",
    "    \"late_aircraft_delay\" INTEGER,\n",
    "    CONSTRAINT \"flight_id\" UNIQUE (\"flight_id\")\n",
    ");\n",
    "\"\"\")\n",
    "\n",
    "# Befüllen der Tabelle aus \"2015.csv\". Die Daten werden nicht über http aus Performance-Gründen, sondern über eine\n",
    "# lokale csv-Datei geladen. Sie müssen den Pfad entsprechend dem Ihrigen anpassen\n",
    "conn.execute(\"\"\"\n",
    "INSERT INTO flights\n",
    "(\n",
    "    \"date\",\n",
    "    \"airline\",\n",
    "    \"flight_number\",\n",
    "    \"origin_airport\",\n",
    "    \"destination_airport\",\n",
    "    \"scheduled_departure\",\n",
    "    \"departure_time\",\n",
    "    \"departure_delay\",\n",
    "    \"taxi_out\",\n",
    "    \"wheels_off\",\n",
    "    \"wheels_on\",\n",
    "    \"taxi_in\",\n",
    "    \"scheduled_arrival\",    \n",
    "    \"arrival_time\",\n",
    "    \"arrival_delay\",\n",
    "    \"cancelled\",\n",
    "    \"cancellation_reason\",             \n",
    "    \"diverted\",\n",
    "    \"scheduled_time\",             \n",
    "    \"elapsed_time\",             \n",
    "    \"air_time\",\n",
    "    \"distance\",\n",
    "    \"airline_delay\",             \n",
    "    \"weather_delay\",\n",
    "    \"air_system_delay\",\n",
    "    \"security_delay\",\n",
    "    \"late_aircraft_delay\"\n",
    ")\n",
    "SELECT \n",
    "\"FL_DATE\",\n",
    "\"OP_CARRIER\",\n",
    "\"OP_CARRIER_FL_NUM\",\n",
    "\"ORIGIN\",\n",
    "\"DEST\",\n",
    "\"CRS_DEP_TIME\",\n",
    "\"DEP_TIME\",\n",
    "\"DEP_DELAY\",\n",
    "\"TAXI_OUT\",\n",
    "\"WHEELS_OFF\",\n",
    "\"WHEELS_ON\",\n",
    "\"TAXI_IN\",\n",
    "\"CRS_ARR_TIME\",\n",
    "\"ARR_TIME\",\n",
    "\"ARR_DELAY\",\n",
    "\"CANCELLED\",\n",
    "\"CANCELLATION_CODE\",\n",
    "\"DIVERTED\",\n",
    "\"CRS_ELAPSED_TIME\",\n",
    "\"ACTUAL_ELAPSED_TIME\",\n",
    "\"AIR_TIME\",\n",
    "\"DISTANCE\",\n",
    "\"CARRIER_DELAY\",\n",
    "\"WEATHER_DELAY\",\n",
    "\"NAS_DELAY\",\n",
    "\"SECURITY_DELAY\",\n",
    "\"LATE_AIRCRAFT_DELAY\"\n",
    "FROM read_csv_auto(\"C:/Users/rober/OneDrive/Vorlesungen/Datenbasierte Fallstudien/Visualisierungen/Flights/Flights/2015.csv\");\n",
    "\"\"\")"
   ]
  },
  {
   "cell_type": "markdown",
   "metadata": {},
   "source": [
    "### **Anlegen und Befüllen der Tabelle `time`**"
   ]
  },
  {
   "cell_type": "code",
   "execution_count": 9,
   "metadata": {},
   "outputs": [
    {
     "data": {
      "text/plain": [
       "<duckdb.duckdb.DuckDBPyConnection at 0x1f23e38d6b0>"
      ]
     },
     "execution_count": 9,
     "metadata": {},
     "output_type": "execute_result"
    }
   ],
   "source": [
    "# Anlegen der Tabelle \"time\" als eigenständige Zeit-Dimension\n",
    "conn.execute(\"\"\"\n",
    "    CREATE TABLE IF NOT EXISTS \"time\" (\n",
    "    \"date\" DATE,\n",
    "    \"year\" INTEGER,\n",
    "    \"month_int\" INTEGER,\n",
    "    \"quarter\" INTEGER,\n",
    "    \"week\" INTEGER,\n",
    "    \"weekday\" INTEGER,\n",
    "    \"weekday_name\" VARCHAR(255),\n",
    "    \"quarter_name\" VARCHAR(255),\n",
    "    \"month_name\" VARCHAR(255),\n",
    "    \"month\" VARCHAR(255),\n",
    "    \"week_name\" VARCHAR(255)\n",
    ");\n",
    "\n",
    "-- Befüllen der Tabelle aus der Spalte date\n",
    "INSERT INTO time (\"date\", \"year\", \"month_int\", \"quarter\", \"week\", \"weekday\", \"weekday_name\", \"quarter_name\", \"month_name\", \"month\", \"week_name\")\n",
    "SELECT \n",
    "    DISTINCT \"date\",\n",
    "    EXTRACT(YEAR FROM \"date\") AS \"year\",\n",
    "    EXTRACT(MONTH FROM \"date\") AS \"month_int\",\n",
    "    EXTRACT(QUARTER FROM \"date\") AS \"quarter\",\n",
    "    EXTRACT(WEEK FROM \"date\") AS \"week\",\n",
    "    EXTRACT(DOW FROM \"date\") AS \"weekday\",\n",
    "    -- Berechne den abgekürzten Wochentagnamen\n",
    "    CASE \n",
    "        WHEN EXTRACT(DOW FROM \"date\") = 0 THEN 'Sun'\n",
    "        WHEN EXTRACT(DOW FROM \"date\") = 1 THEN 'Mon'\n",
    "        WHEN EXTRACT(DOW FROM \"date\") = 2 THEN 'Tue'\n",
    "        WHEN EXTRACT(DOW FROM \"date\") = 3 THEN 'Wed'\n",
    "        WHEN EXTRACT(DOW FROM \"date\") = 4 THEN 'Thu'\n",
    "        WHEN EXTRACT(DOW FROM \"date\") = 5 THEN 'Fri'\n",
    "        WHEN EXTRACT(DOW FROM \"date\") = 6 THEN 'Sat'\n",
    "    END AS weekday_name,\n",
    "    -- Formatierung für Quartal\n",
    "    'Q' || EXTRACT(QUARTER FROM \"date\") || ' ' || EXTRACT(YEAR FROM \"date\") AS \"quarter_name\",\n",
    "    -- Formatierung für Monat\n",
    "    CASE EXTRACT(MONTH FROM \"date\")\n",
    "        WHEN 1 THEN 'Jan'\n",
    "        WHEN 2 THEN 'Feb'\n",
    "        WHEN 3 THEN 'Mar'\n",
    "        WHEN 4 THEN 'Apr'\n",
    "        WHEN 5 THEN 'May'\n",
    "        WHEN 6 THEN 'Jun'\n",
    "        WHEN 7 THEN 'Jul'\n",
    "        WHEN 8 THEN 'Aug'\n",
    "        WHEN 9 THEN 'Sep'\n",
    "        WHEN 10 THEN 'Oct'\n",
    "        WHEN 11 THEN 'Nov'\n",
    "        WHEN 12 THEN 'Dec'\n",
    "    END || ' ' || EXTRACT(YEAR FROM \"date\") AS \"month_name\",\n",
    "    CASE EXTRACT(MONTH FROM \"date\")\n",
    "        WHEN 1 THEN 'Jan'\n",
    "        WHEN 2 THEN 'Feb'\n",
    "        WHEN 3 THEN 'Mar'\n",
    "        WHEN 4 THEN 'Apr'\n",
    "        WHEN 5 THEN 'May'\n",
    "        WHEN 6 THEN 'Jun'\n",
    "        WHEN 7 THEN 'Jul'\n",
    "        WHEN 8 THEN 'Aug'\n",
    "        WHEN 9 THEN 'Sep'\n",
    "        WHEN 10 THEN 'Oct'\n",
    "        WHEN 11 THEN 'Nov'\n",
    "        WHEN 12 THEN 'Dec'\n",
    "    END AS month,\n",
    "    -- Formatierung für Kalenderwoche\n",
    "    'W' || EXTRACT(WEEK FROM \"date\") || ' ' || EXTRACT(YEAR FROM \"date\") AS \"week_name\"\n",
    "FROM flights\n",
    "ORDER BY \"date\";\n",
    "\"\"\")\n"
   ]
  },
  {
   "cell_type": "markdown",
   "metadata": {},
   "source": [
    "### **Data Preparation**"
   ]
  },
  {
   "cell_type": "code",
   "execution_count": 10,
   "metadata": {},
   "outputs": [
    {
     "data": {
      "text/plain": [
       "<duckdb.duckdb.DuckDBPyConnection at 0x1f23e38d6b0>"
      ]
     },
     "execution_count": 10,
     "metadata": {},
     "output_type": "execute_result"
    }
   ],
   "source": [
    "# Umformen der Werte wie \"0054\" in \"00:54:00\" und CAST in Datentype \"TIME\"\n",
    "conn.execute(\"\"\"\n",
    "UPDATE flights\n",
    "SET \n",
    "    \"scheduled_departure\" = CASE\n",
    "        WHEN \"scheduled_departure\" IS NULL OR \"scheduled_departure\" = '' THEN NULL\n",
    "        ELSE TRY_CAST(CONCAT(SUBSTRING(\"scheduled_departure\", 1, 2), ':', SUBSTRING(\"scheduled_departure\", 3, 2), ':00') AS TIME)\n",
    "    END,\n",
    "    \"departure_time\" = CASE\n",
    "        WHEN \"departure_time\" IS NULL OR \"departure_time\" = '' THEN NULL\n",
    "        ELSE TRY_CAST(CONCAT(SUBSTRING(\"departure_time\", 1, 2), ':', SUBSTRING(\"departure_time\", 3, 2), ':00') AS TIME)\n",
    "    END,\n",
    "    \"wheels_off\" = CASE\n",
    "        WHEN \"wheels_off\" IS NULL OR \"wheels_off\" = '' THEN NULL\n",
    "        ELSE TRY_CAST(CONCAT(SUBSTRING(\"wheels_off\", 1, 2), ':', SUBSTRING(\"wheels_off\", 3, 2), ':00') AS TIME)\n",
    "    END,\n",
    "    \"wheels_on\" = CASE\n",
    "        WHEN \"wheels_on\" IS NULL OR \"wheels_on\" = '' THEN NULL\n",
    "        ELSE TRY_CAST(CONCAT(SUBSTRING(\"wheels_on\", 1, 2), ':', SUBSTRING(\"wheels_on\", 3, 2), ':00') AS TIME)\n",
    "    END,\n",
    "    \"scheduled_arrival\" = CASE\n",
    "        WHEN \"scheduled_arrival\" IS NULL OR \"scheduled_arrival\" = '' THEN NULL\n",
    "        ELSE TRY_CAST(CONCAT(SUBSTRING(\"scheduled_arrival\", 1, 2), ':', SUBSTRING(\"scheduled_arrival\", 3, 2), ':00') AS TIME)\n",
    "    END,\n",
    "    \"arrival_time\" = CASE\n",
    "        WHEN \"arrival_time\" IS NULL OR \"arrival_time\" = '' THEN NULL\n",
    "        ELSE TRY_CAST(CONCAT(SUBSTRING(\"arrival_time\", 1, 2), ':', SUBSTRING(\"arrival_time\", 3, 2), ':00') AS TIME)\n",
    "    END\n",
    "WHERE \"scheduled_departure\" IS NOT NULL OR \"departure_time\" IS NOT NULL OR \"wheels_off\" IS NOT NULL OR \"wheels_on\" IS NOT NULL OR \"scheduled_arrival\" IS NOT NULL OR \"arrival_time\" IS NOT NULL;\n",
    "\"\"\")\n",
    "\n",
    "# Weitere Spalten in \"flights\" anlegen\n",
    "conn.execute(\"\"\"\n",
    "ALTER TABLE flights\n",
    "ADD COLUMN IF NOT EXISTS \"weekday_name\" VARCHAR(255);\n",
    "\n",
    "ALTER TABLE flights\n",
    "ADD COLUMN IF NOT EXISTS \"quarter_name\" VARCHAR(255);\n",
    "\n",
    "ALTER TABLE flights\n",
    "ADD COLUMN IF NOT EXISTS \"month_name\" VARCHAR(255);\n",
    "\n",
    "ALTER TABLE flights\n",
    "ADD COLUMN IF NOT EXISTS \"week_name\" VARCHAR(255);\n",
    "\n",
    "ALTER TABLE flights\n",
    "ADD COLUMN IF NOT EXISTS \"month_int\" INTEGER;    \n",
    "\n",
    "ALTER TABLE flights\n",
    "ADD COLUMN IF NOT EXISTS \"month\" VARCHAR(255);         \n",
    "\n",
    "ALTER TABLE flights\n",
    "ADD COLUMN IF NOT EXISTS \"year\" INTEGER;\n",
    "\"\"\")\n",
    "\n",
    "# Aktualisieren der Spalten in \"flights\"\n",
    "conn.execute(\"\"\"\n",
    "UPDATE flights\n",
    "SET \"weekday_name\" = t.\"weekday_name\"\n",
    "FROM \"time\" t\n",
    "WHERE t.\"date\" = flights.\"date\";\n",
    "\n",
    "UPDATE flights\n",
    "SET \"week_name\" = t.\"week_name\"\n",
    "FROM \"time\" t\n",
    "WHERE t.\"date\" = flights.\"date\";\n",
    "\n",
    "UPDATE flights\n",
    "SET \"month_name\" = t.\"month_name\"\n",
    "FROM \"time\" t\n",
    "WHERE t.\"date\" = flights.\"date\";\n",
    "\n",
    "UPDATE flights\n",
    "SET \"month\" = t.\"month\"\n",
    "FROM \"time\" t\n",
    "WHERE t.\"date\" = flights.\"date\";  \n",
    "             \n",
    "UPDATE flights\n",
    "SET \"month_int\" = t.\"month_int\"\n",
    "FROM \"time\" t\n",
    "WHERE t.\"date\" = flights.\"date\";  \n",
    "\n",
    "UPDATE flights\n",
    "SET \"quarter_name\" = t.\"quarter_name\"\n",
    "FROM \"time\" t\n",
    "WHERE t.\"date\" = flights.\"date\";\n",
    "             \n",
    "UPDATE flights\n",
    "SET \"year\" = t.\"year\"\n",
    "FROM \"time\" t\n",
    "WHERE t.\"date\" = flights.\"date\";             \n",
    "\n",
    "UPDATE flights \n",
    "SET \n",
    "\"cancellation_reason\" = cr.\"reason\"  \n",
    "FROM cancellation_reasons cr\n",
    "WHERE cr.\"shortcut\" = flights.\"cancellation_reason\";\n",
    "\"\"\")\n",
    "\n",
    "# Einfügen weiterer Spalten in \"flights\"\n",
    "conn.execute(\"\"\"\n",
    "ALTER TABLE flights\n",
    "ADD COLUMN IF NOT EXISTS \"origin_airport_lon\" DOUBLE;\n",
    "\n",
    "ALTER TABLE flights\n",
    "ADD COLUMN IF NOT EXISTS \"origin_airport_lat\" DOUBLE;\n",
    "\n",
    "ALTER TABLE flights\n",
    "ADD COLUMN IF NOT EXISTS \"destination_airport_lon\" DOUBLE;\n",
    "\n",
    "ALTER TABLE flights\n",
    "ADD COLUMN IF NOT EXISTS \"destination_airport_lat\" DOUBLE;\n",
    "\n",
    "ALTER TABLE flights\n",
    "ADD COLUMN IF NOT EXISTS \"origin_city\" VARCHAR(255);\n",
    "\n",
    "ALTER TABLE flights\n",
    "ADD COLUMN IF NOT EXISTS \"destination_city\" VARCHAR(255);\n",
    "\n",
    "ALTER TABLE flights\n",
    "ADD COLUMN IF NOT EXISTS \"airline_name\" VARCHAR(255);\n",
    "\"\"\")\n",
    "\n",
    "# Aktualisieren der Spalten\n",
    "conn.execute(\"\"\"\n",
    "UPDATE flights \n",
    "SET \"origin_airport_lon\" = ap.\"longitude\"\n",
    "FROM airports ap\n",
    "WHERE ap.\"iata_code\" = flights.\"origin_airport\";\n",
    "\n",
    "UPDATE flights \n",
    "SET \"origin_airport_lat\" = ap.\"latitude\"\n",
    "FROM airports ap\n",
    "WHERE ap.\"iata_code\" = flights.\"origin_airport\";\n",
    "\n",
    "UPDATE flights \n",
    "SET \"destination_airport_lon\" = ap.\"longitude\"\n",
    "FROM airports ap\n",
    "WHERE ap.\"iata_code\" = flights.\"destination_airport\";\n",
    "\n",
    "UPDATE flights \n",
    "SET \"destination_airport_lat\" = ap.\"latitude\"\n",
    "FROM airports ap\n",
    "WHERE ap.\"iata_code\" = flights.\"destination_airport\";\n",
    "\n",
    "UPDATE flights \n",
    "SET \"destination_city\" = ap.\"city\"\n",
    "FROM airports ap\n",
    "WHERE ap.\"iata_code\" = flights.\"destination_airport\";\n",
    "\n",
    "UPDATE flights \n",
    "SET \"origin_city\" = ap.\"city\"\n",
    "FROM airports ap\n",
    "WHERE ap.\"iata_code\" = flights.\"origin_airport\";\n",
    "\n",
    "UPDATE flights \n",
    "SET \"airline_name\" = al.\"airline\"\n",
    "FROM airlines al\n",
    "WHERE al.\"iata_code\" = flights.\"airline\";\n",
    "\"\"\")"
   ]
  },
  {
   "cell_type": "markdown",
   "metadata": {},
   "source": [
    "### **Erstellen von DB-Views und Überführen jeweils in ein `pandas DataFrame`**"
   ]
  },
  {
   "cell_type": "markdown",
   "metadata": {},
   "source": [
    "**One Big Table**\n",
    "\n",
    "Eine \"One Big Table\" ist ein Datenmodellierungskonzept, bei dem eine einzelne, denormalisierte Tabelle verwendet wird, um eine Vielzahl von Attributen oder Merkmalen zu speichern, die für analytische Abfragen oder Berichterstattungszwecke relevant sind. Dieses Modell aggregiert Daten aus mehreren Tabellen oder Datenquellen in einer einzigen Tabelle, indem es Normalisierungsprinzipien aufgibt, um eine vereinfachte Sicht zu schaffen, die schnelle und effiziente Abfragen ermöglicht."
   ]
  },
  {
   "cell_type": "code",
   "execution_count": 11,
   "metadata": {},
   "outputs": [
    {
     "data": {
      "text/plain": [
       "<duckdb.duckdb.DuckDBPyConnection at 0x1f23e38d6b0>"
      ]
     },
     "execution_count": 11,
     "metadata": {},
     "output_type": "execute_result"
    }
   ],
   "source": [
    "conn.execute(\"\"\"\n",
    "CREATE VIEW IF NOT EXISTS vw_OneBigTable AS\n",
    "SELECT\n",
    "    \"flight_id\",\n",
    "    \"year\",\n",
    "    \"date\",\n",
    "    \"weekday_name\",\n",
    "    \"quarter_name\",\n",
    "    \"month_name\",\n",
    "    \"month_int\",\n",
    "    \"month\",\n",
    "    \"week_name\",    \n",
    "    \"airline\" AS \"iata_airline\",\n",
    "    \"airline_name\" AS \"airline\",\n",
    "    \"flight_number\",\n",
    "    \"tail_number\",\n",
    "    \"origin_airport\",\n",
    "    \"origin_city\",\n",
    "    \"origin_airport_lon\",\n",
    "    \"origin_airport_lat\",\n",
    "    \"destination_airport\",\n",
    "    \"destination_city\",\n",
    "    \"destination_airport_lon\",\n",
    "    \"destination_airport_lat\",\n",
    "    \"scheduled_departure\",\n",
    "    \"departure_time\",\n",
    "    \"departure_delay\",\n",
    "    \"taxi_out\",\n",
    "    \"wheels_off\",\n",
    "    \"scheduled_time\",\n",
    "    \"elapsed_time\",\n",
    "    \"air_time\",\n",
    "    \"distance\"*1.60934 AS \"distance_km\",\n",
    "    \"wheels_on\",\n",
    "    \"taxi_in\",\n",
    "    \"scheduled_arrival\",\n",
    "    \"arrival_time\",\n",
    "    \"arrival_delay\",\n",
    "    \"diverted\",\n",
    "    \"cancelled\",\n",
    "    \"cancellation_reason\",\n",
    "    \"air_system_delay\",\n",
    "    \"security_delay\",\n",
    "    \"airline_delay\",\n",
    "    \"late_aircraft_delay\",\n",
    "    \"weather_delay\"\n",
    "FROM flights\n",
    "ORDER BY \"date\" ASC;\n",
    "\"\"\")\n",
    "\n",
    "# Der auskommentierte Code würde die DuckDB-Sicht \"vw_OneBigTable\" in ein pandas DataFrame überführen, aber im Prinzip ist dies nicht nötig, da über DuckDB im Folgenden analytische Sichten vorbereitet wurden\n",
    "# aus Performance-Sicht ist der Ansatz, analytische Sichten vorzubereiten ohnehin besser, als laufend eine One Big Table abzufragen\n",
    "\n",
    "# Überführt die Daten aus der angelegten Relation in ein pandas DataFrame\n",
    "#OBT_df = conn.execute(\"SELECT * FROM vw_OneBigTable;\").df()\n",
    "\n",
    "# Testabfrage\n",
    "#OBT_df.head()"
   ]
  },
  {
   "cell_type": "markdown",
   "metadata": {},
   "source": [
    "**Nur die durchgeführten (\"cancelled = 0\") Flüge als One Big Table. Diese dient als View für alle weiteren Analysen**"
   ]
  },
  {
   "cell_type": "code",
   "execution_count": 12,
   "metadata": {},
   "outputs": [
    {
     "data": {
      "text/plain": [
       "<duckdb.duckdb.DuckDBPyConnection at 0x1f23e38d6b0>"
      ]
     },
     "execution_count": 12,
     "metadata": {},
     "output_type": "execute_result"
    }
   ],
   "source": [
    "conn.execute(\"\"\"\n",
    "CREATE VIEW IF NOT EXISTS vw_ABT AS\n",
    "SELECT * FROM vw_OneBigTable\n",
    "WHERE \"cancelled\" = 0;\n",
    "\"\"\")"
   ]
  },
  {
   "cell_type": "markdown",
   "metadata": {},
   "source": [
    "**Analysen im Kontext \"airlines\"**\n",
    "\n",
    "Annahme Verspätung: https://ansperformance.eu/definition/punctuality/#:~:text=The%20share%20of%20IFR%20flights,departure%20time%20(airline%20schedules).\n",
    "\n",
    "Andere Quelle: *[A flight is counted as \"on time\" if it operated less than 15 minutes after the scheduled time shown in the carriers' Computerized Reservations Systems (CRS)](https://www.transportation.gov/sites/dot.gov/files/docs/2014DecemberATCR.pdf)*, p. 3."
   ]
  },
  {
   "cell_type": "code",
   "execution_count": 13,
   "metadata": {},
   "outputs": [
    {
     "data": {
      "text/html": [
       "<div>\n",
       "<style scoped>\n",
       "    .dataframe tbody tr th:only-of-type {\n",
       "        vertical-align: middle;\n",
       "    }\n",
       "\n",
       "    .dataframe tbody tr th {\n",
       "        vertical-align: top;\n",
       "    }\n",
       "\n",
       "    .dataframe thead th {\n",
       "        text-align: right;\n",
       "    }\n",
       "</style>\n",
       "<table border=\"1\" class=\"dataframe\">\n",
       "  <thead>\n",
       "    <tr style=\"text-align: right;\">\n",
       "      <th></th>\n",
       "      <th>airline</th>\n",
       "      <th>iata_airline</th>\n",
       "      <th>year</th>\n",
       "      <th>month</th>\n",
       "      <th>month_int</th>\n",
       "      <th>average_arrival_delay</th>\n",
       "      <th>median_arrival_delay</th>\n",
       "      <th>average_departure_delay</th>\n",
       "      <th>median_departure_delay</th>\n",
       "      <th>total_flights</th>\n",
       "      <th>distance_km</th>\n",
       "      <th>percent of departures on time</th>\n",
       "      <th>percent of arrivals on time</th>\n",
       "      <th>cancellation_rate_percent</th>\n",
       "      <th>cancellations</th>\n",
       "      <th>most_frequent_destination</th>\n",
       "      <th>most_frequent_origin</th>\n",
       "      <th>buffer_flight</th>\n",
       "    </tr>\n",
       "  </thead>\n",
       "  <tbody>\n",
       "    <tr>\n",
       "      <th>0</th>\n",
       "      <td>None</td>\n",
       "      <td>FL</td>\n",
       "      <td>2014</td>\n",
       "      <td>Nov</td>\n",
       "      <td>11</td>\n",
       "      <td>-5.172423</td>\n",
       "      <td>-9.0</td>\n",
       "      <td>2.642803</td>\n",
       "      <td>-2.0</td>\n",
       "      <td>3951</td>\n",
       "      <td>4074715.0</td>\n",
       "      <td>88.9</td>\n",
       "      <td>90.7</td>\n",
       "      <td>0.3</td>\n",
       "      <td>12.0</td>\n",
       "      <td>None</td>\n",
       "      <td>None</td>\n",
       "      <td>-7.9</td>\n",
       "    </tr>\n",
       "    <tr>\n",
       "      <th>1</th>\n",
       "      <td>Delta Air Lines Inc.</td>\n",
       "      <td>DL</td>\n",
       "      <td>2015</td>\n",
       "      <td>Oct</td>\n",
       "      <td>10</td>\n",
       "      <td>-5.011516</td>\n",
       "      <td>-9.0</td>\n",
       "      <td>3.215743</td>\n",
       "      <td>-2.0</td>\n",
       "      <td>75552</td>\n",
       "      <td>101764164.0</td>\n",
       "      <td>91.3</td>\n",
       "      <td>92.2</td>\n",
       "      <td>0.0</td>\n",
       "      <td>17.0</td>\n",
       "      <td>ATL</td>\n",
       "      <td>ATL</td>\n",
       "      <td>-8.2</td>\n",
       "    </tr>\n",
       "    <tr>\n",
       "      <th>2</th>\n",
       "      <td>Alaska Airlines Inc.</td>\n",
       "      <td>AS</td>\n",
       "      <td>2014</td>\n",
       "      <td>Jan</td>\n",
       "      <td>1</td>\n",
       "      <td>-3.973786</td>\n",
       "      <td>-8.0</td>\n",
       "      <td>0.724945</td>\n",
       "      <td>-4.0</td>\n",
       "      <td>12403</td>\n",
       "      <td>23756812.0</td>\n",
       "      <td>91.4</td>\n",
       "      <td>89.7</td>\n",
       "      <td>1.2</td>\n",
       "      <td>152.0</td>\n",
       "      <td>SEA</td>\n",
       "      <td>SEA</td>\n",
       "      <td>-3.1</td>\n",
       "    </tr>\n",
       "    <tr>\n",
       "      <th>3</th>\n",
       "      <td>American Eagle Airlines Inc.</td>\n",
       "      <td>MQ</td>\n",
       "      <td>2015</td>\n",
       "      <td>Oct</td>\n",
       "      <td>10</td>\n",
       "      <td>-3.735054</td>\n",
       "      <td>-11.0</td>\n",
       "      <td>3.457587</td>\n",
       "      <td>-4.0</td>\n",
       "      <td>21982</td>\n",
       "      <td>14152764.0</td>\n",
       "      <td>89.4</td>\n",
       "      <td>89.6</td>\n",
       "      <td>1.2</td>\n",
       "      <td>273.0</td>\n",
       "      <td>ORD</td>\n",
       "      <td>ORD</td>\n",
       "      <td>-7.1</td>\n",
       "    </tr>\n",
       "    <tr>\n",
       "      <th>4</th>\n",
       "      <td>Delta Air Lines Inc.</td>\n",
       "      <td>DL</td>\n",
       "      <td>2015</td>\n",
       "      <td>Sep</td>\n",
       "      <td>9</td>\n",
       "      <td>-3.703377</td>\n",
       "      <td>-9.0</td>\n",
       "      <td>3.514294</td>\n",
       "      <td>-2.0</td>\n",
       "      <td>72063</td>\n",
       "      <td>96742254.0</td>\n",
       "      <td>90.6</td>\n",
       "      <td>90.7</td>\n",
       "      <td>0.0</td>\n",
       "      <td>6.0</td>\n",
       "      <td>ATL</td>\n",
       "      <td>ATL</td>\n",
       "      <td>-7.2</td>\n",
       "    </tr>\n",
       "  </tbody>\n",
       "</table>\n",
       "</div>"
      ],
      "text/plain": [
       "                        airline iata_airline  year month  month_int  \\\n",
       "0                          None           FL  2014   Nov         11   \n",
       "1          Delta Air Lines Inc.           DL  2015   Oct         10   \n",
       "2          Alaska Airlines Inc.           AS  2014   Jan          1   \n",
       "3  American Eagle Airlines Inc.           MQ  2015   Oct         10   \n",
       "4          Delta Air Lines Inc.           DL  2015   Sep          9   \n",
       "\n",
       "   average_arrival_delay  median_arrival_delay  average_departure_delay  \\\n",
       "0              -5.172423                  -9.0                 2.642803   \n",
       "1              -5.011516                  -9.0                 3.215743   \n",
       "2              -3.973786                  -8.0                 0.724945   \n",
       "3              -3.735054                 -11.0                 3.457587   \n",
       "4              -3.703377                  -9.0                 3.514294   \n",
       "\n",
       "   median_departure_delay  total_flights  distance_km  \\\n",
       "0                    -2.0           3951    4074715.0   \n",
       "1                    -2.0          75552  101764164.0   \n",
       "2                    -4.0          12403   23756812.0   \n",
       "3                    -4.0          21982   14152764.0   \n",
       "4                    -2.0          72063   96742254.0   \n",
       "\n",
       "   percent of departures on time  percent of arrivals on time  \\\n",
       "0                           88.9                         90.7   \n",
       "1                           91.3                         92.2   \n",
       "2                           91.4                         89.7   \n",
       "3                           89.4                         89.6   \n",
       "4                           90.6                         90.7   \n",
       "\n",
       "   cancellation_rate_percent  cancellations most_frequent_destination  \\\n",
       "0                        0.3           12.0                      None   \n",
       "1                        0.0           17.0                       ATL   \n",
       "2                        1.2          152.0                       SEA   \n",
       "3                        1.2          273.0                       ORD   \n",
       "4                        0.0            6.0                       ATL   \n",
       "\n",
       "  most_frequent_origin  buffer_flight  \n",
       "0                 None           -7.9  \n",
       "1                  ATL           -8.2  \n",
       "2                  SEA           -3.1  \n",
       "3                  ORD           -7.1  \n",
       "4                  ATL           -7.2  "
      ]
     },
     "execution_count": 13,
     "metadata": {},
     "output_type": "execute_result"
    }
   ],
   "source": [
    "conn.execute(\"\"\"\n",
    "CREATE VIEW IF NOT EXISTS vw_airlines_metrics AS\n",
    "SELECT \n",
    "    \"airline\",\n",
    "    \"iata_airline\",\n",
    "    \"year\",\n",
    "    \"month\",\n",
    "    \"month_int\",            \n",
    "    AVG(\"arrival_delay\") AS \"average_arrival_delay\",\n",
    "    MEDIAN(\"arrival_delay\") AS \"median_arrival_delay\",\n",
    "    AVG(\"departure_delay\") AS \"average_departure_delay\",\n",
    "    MEDIAN(\"departure_delay\") AS \"median_departure_delay\",\n",
    "    COUNT(\"flight_id\") AS \"total_flights\",\n",
    "    ROUND(SUM(\"distance_km\"),0) AS distance_km,\n",
    "    ROUND((SUM(CASE \n",
    "        WHEN (\"departure_delay\" >= 15) AND \"cancelled\" = 0 THEN 0\n",
    "        ELSE 1\n",
    "        END) / COUNT(\"flight_id\")) * 100, 1) AS \"percent of departures on time\",\n",
    "    ROUND((SUM(CASE\n",
    "             WHEN (\"arrival_delay\" >=15 AND \"cancelled\" = 0) THEN 0\n",
    "             ELSE 1\n",
    "             END) / COUNT(\"flight_id\")) * 100, 1) AS \"percent of arrivals on time\",\n",
    "    ROUND((SUM(CASE \n",
    "        WHEN \"cancelled\" = 1 THEN 1\n",
    "        ELSE 0\n",
    "        END) / COUNT(\"flight_id\")) * 100, 1) AS \"cancellation_rate_percent\",\n",
    "    SUM(\"cancelled\") AS \"cancellations\",\n",
    "    (SELECT \"destination_airport\" \n",
    "        FROM \"vw_OneBigTable\" sub \n",
    "        WHERE sub.\"airline\" = vw_OneBigTable.\"airline\"\n",
    "        GROUP BY \"destination_airport\"\n",
    "        ORDER BY COUNT(*) DESC\n",
    "        LIMIT 1) AS \"most_frequent_destination\",\n",
    "    (SELECT \"origin_airport\" \n",
    "        FROM vw_OneBigTable sub \n",
    "        WHERE sub.\"airline\" = vw_OneBigTable.\"airline\"\n",
    "        GROUP BY \"origin_airport\"\n",
    "        ORDER BY COUNT(*) DESC\n",
    "        LIMIT 1) AS \"most_frequent_origin\",\n",
    "     ROUND((AVG(\"elapsed_time\")- AVG(\"scheduled_time\")),1) AS \"buffer_flight\"\n",
    "FROM vw_OneBigTable\n",
    "GROUP BY \"airline\", \"iata_airline\", \"year\", \"month\", \"month_int\"\n",
    "ORDER BY \"average_arrival_delay\";\n",
    "\"\"\")\n",
    "\n",
    "# Überführt die Daten aus der angelegten Relation in ein pandas DataFrame\n",
    "airlines_metrics_df = conn.execute(\"SELECT * FROM vw_airlines_metrics;\").df()\n",
    "\n",
    "# Testabfrage\n",
    "airlines_metrics_df.head()"
   ]
  },
  {
   "cell_type": "markdown",
   "metadata": {},
   "source": [
    "**Analysen im Kontext \"flights\"**"
   ]
  },
  {
   "cell_type": "code",
   "execution_count": 14,
   "metadata": {},
   "outputs": [
    {
     "data": {
      "text/html": [
       "<div>\n",
       "<style scoped>\n",
       "    .dataframe tbody tr th:only-of-type {\n",
       "        vertical-align: middle;\n",
       "    }\n",
       "\n",
       "    .dataframe tbody tr th {\n",
       "        vertical-align: top;\n",
       "    }\n",
       "\n",
       "    .dataframe thead th {\n",
       "        text-align: right;\n",
       "    }\n",
       "</style>\n",
       "<table border=\"1\" class=\"dataframe\">\n",
       "  <thead>\n",
       "    <tr style=\"text-align: right;\">\n",
       "      <th></th>\n",
       "      <th>tail_number</th>\n",
       "      <th>airline</th>\n",
       "      <th>origin_airport</th>\n",
       "      <th>year</th>\n",
       "      <th>month</th>\n",
       "      <th>total_flights</th>\n",
       "      <th>total_km</th>\n",
       "      <th>average_speed_km</th>\n",
       "    </tr>\n",
       "  </thead>\n",
       "  <tbody>\n",
       "    <tr>\n",
       "      <th>0</th>\n",
       "      <td>None</td>\n",
       "      <td>Delta Air Lines Inc.</td>\n",
       "      <td>ATL</td>\n",
       "      <td>2015</td>\n",
       "      <td>Aug</td>\n",
       "      <td>21624</td>\n",
       "      <td>23935093.0</td>\n",
       "      <td>701.5</td>\n",
       "    </tr>\n",
       "    <tr>\n",
       "      <th>1</th>\n",
       "      <td>None</td>\n",
       "      <td>Delta Air Lines Inc.</td>\n",
       "      <td>ATL</td>\n",
       "      <td>2015</td>\n",
       "      <td>Jul</td>\n",
       "      <td>21579</td>\n",
       "      <td>23941435.0</td>\n",
       "      <td>698.5</td>\n",
       "    </tr>\n",
       "    <tr>\n",
       "      <th>2</th>\n",
       "      <td>None</td>\n",
       "      <td>Delta Air Lines Inc.</td>\n",
       "      <td>ATL</td>\n",
       "      <td>2015</td>\n",
       "      <td>Oct</td>\n",
       "      <td>20968</td>\n",
       "      <td>22456069.0</td>\n",
       "      <td>688.9</td>\n",
       "    </tr>\n",
       "    <tr>\n",
       "      <th>3</th>\n",
       "      <td>None</td>\n",
       "      <td>Delta Air Lines Inc.</td>\n",
       "      <td>ATL</td>\n",
       "      <td>2015</td>\n",
       "      <td>Mar</td>\n",
       "      <td>20897</td>\n",
       "      <td>22451262.0</td>\n",
       "      <td>677.0</td>\n",
       "    </tr>\n",
       "    <tr>\n",
       "      <th>4</th>\n",
       "      <td>None</td>\n",
       "      <td>Delta Air Lines Inc.</td>\n",
       "      <td>ATL</td>\n",
       "      <td>2015</td>\n",
       "      <td>May</td>\n",
       "      <td>20835</td>\n",
       "      <td>22354565.0</td>\n",
       "      <td>686.7</td>\n",
       "    </tr>\n",
       "  </tbody>\n",
       "</table>\n",
       "</div>"
      ],
      "text/plain": [
       "  tail_number               airline origin_airport  year month  total_flights  \\\n",
       "0        None  Delta Air Lines Inc.            ATL  2015   Aug          21624   \n",
       "1        None  Delta Air Lines Inc.            ATL  2015   Jul          21579   \n",
       "2        None  Delta Air Lines Inc.            ATL  2015   Oct          20968   \n",
       "3        None  Delta Air Lines Inc.            ATL  2015   Mar          20897   \n",
       "4        None  Delta Air Lines Inc.            ATL  2015   May          20835   \n",
       "\n",
       "     total_km  average_speed_km  \n",
       "0  23935093.0             701.5  \n",
       "1  23941435.0             698.5  \n",
       "2  22456069.0             688.9  \n",
       "3  22451262.0             677.0  \n",
       "4  22354565.0             686.7  "
      ]
     },
     "execution_count": 14,
     "metadata": {},
     "output_type": "execute_result"
    }
   ],
   "source": [
    "conn.execute(\"\"\"\n",
    "CREATE VIEW IF NOT EXISTS vw_flight_metrics AS\n",
    "SELECT \n",
    "   \"tail_number\",\n",
    "   \"airline\",\n",
    "   \"origin_airport\",\n",
    "   \"year\",\n",
    "   \"month\",\n",
    "   COUNT(\"flight_id\") AS \"total_flights\",\n",
    "   ROUND(SUM(\"distance_km\"),0) AS \"total_km\",\n",
    "   ROUND((AVG(\"distance_km\") / AVG(\"air_time\" / 60.0)),1) AS \"average_speed_km\"\n",
    "FROM vw_ABT\n",
    "GROUP BY \"origin_airport\", \"tail_number\", \"airline\", \"year\", \"month\"\n",
    "ORDER BY \"total_flights\" DESC, \"total_km\" DESC;\n",
    "\"\"\")\n",
    "\n",
    "# Überführt die Daten aus der angelegten Relation in ein pandas DataFrame\n",
    "flight_metrics_df = conn.execute(\"SELECT * FROM vw_flight_metrics;\").df()\n",
    "\n",
    "# Testabfrage\n",
    "flight_metrics_df.head()"
   ]
  },
  {
   "cell_type": "markdown",
   "metadata": {},
   "source": [
    "**Analysen im Kontext \"flight routes\"**"
   ]
  },
  {
   "cell_type": "code",
   "execution_count": 15,
   "metadata": {},
   "outputs": [
    {
     "data": {
      "text/html": [
       "<div>\n",
       "<style scoped>\n",
       "    .dataframe tbody tr th:only-of-type {\n",
       "        vertical-align: middle;\n",
       "    }\n",
       "\n",
       "    .dataframe tbody tr th {\n",
       "        vertical-align: top;\n",
       "    }\n",
       "\n",
       "    .dataframe thead th {\n",
       "        text-align: right;\n",
       "    }\n",
       "</style>\n",
       "<table border=\"1\" class=\"dataframe\">\n",
       "  <thead>\n",
       "    <tr style=\"text-align: right;\">\n",
       "      <th></th>\n",
       "      <th>origin_airport</th>\n",
       "      <th>destination_airport</th>\n",
       "      <th>origin_city</th>\n",
       "      <th>destination_city</th>\n",
       "      <th>origin_airport_lon</th>\n",
       "      <th>origin_airport_lat</th>\n",
       "      <th>destination_airport_lon</th>\n",
       "      <th>destination_airport_lat</th>\n",
       "      <th>year</th>\n",
       "      <th>month</th>\n",
       "      <th>count(flight_id)</th>\n",
       "      <th>round(sum(distance_km), 0)</th>\n",
       "      <th>avg_distance_km</th>\n",
       "    </tr>\n",
       "  </thead>\n",
       "  <tbody>\n",
       "    <tr>\n",
       "      <th>0</th>\n",
       "      <td>LGB</td>\n",
       "      <td>LAS</td>\n",
       "      <td>Long Beach</td>\n",
       "      <td>Las Vegas</td>\n",
       "      <td>-118.15161</td>\n",
       "      <td>33.81772</td>\n",
       "      <td>-115.15233</td>\n",
       "      <td>36.08036</td>\n",
       "      <td>2015</td>\n",
       "      <td>Dec</td>\n",
       "      <td>93</td>\n",
       "      <td>34573.0</td>\n",
       "      <td>372.0</td>\n",
       "    </tr>\n",
       "    <tr>\n",
       "      <th>1</th>\n",
       "      <td>LAX</td>\n",
       "      <td>DFW</td>\n",
       "      <td>Los Angeles</td>\n",
       "      <td>Dallas-Fort Worth</td>\n",
       "      <td>-118.40807</td>\n",
       "      <td>33.94254</td>\n",
       "      <td>-97.03720</td>\n",
       "      <td>32.89595</td>\n",
       "      <td>2015</td>\n",
       "      <td>Dec</td>\n",
       "      <td>602</td>\n",
       "      <td>1196496.0</td>\n",
       "      <td>1988.0</td>\n",
       "    </tr>\n",
       "    <tr>\n",
       "      <th>2</th>\n",
       "      <td>DFW</td>\n",
       "      <td>MSY</td>\n",
       "      <td>Dallas-Fort Worth</td>\n",
       "      <td>New Orleans</td>\n",
       "      <td>-97.03720</td>\n",
       "      <td>32.89595</td>\n",
       "      <td>-90.25803</td>\n",
       "      <td>29.99339</td>\n",
       "      <td>2015</td>\n",
       "      <td>Dec</td>\n",
       "      <td>265</td>\n",
       "      <td>190634.0</td>\n",
       "      <td>719.0</td>\n",
       "    </tr>\n",
       "    <tr>\n",
       "      <th>3</th>\n",
       "      <td>DFW</td>\n",
       "      <td>FAT</td>\n",
       "      <td>Dallas-Fort Worth</td>\n",
       "      <td>Fresno</td>\n",
       "      <td>-97.03720</td>\n",
       "      <td>32.89595</td>\n",
       "      <td>-119.71814</td>\n",
       "      <td>36.77619</td>\n",
       "      <td>2015</td>\n",
       "      <td>Dec</td>\n",
       "      <td>55</td>\n",
       "      <td>116218.0</td>\n",
       "      <td>2113.0</td>\n",
       "    </tr>\n",
       "    <tr>\n",
       "      <th>4</th>\n",
       "      <td>IAD</td>\n",
       "      <td>MIA</td>\n",
       "      <td>Chantilly</td>\n",
       "      <td>Miami</td>\n",
       "      <td>-77.45581</td>\n",
       "      <td>38.94453</td>\n",
       "      <td>-80.29056</td>\n",
       "      <td>25.79325</td>\n",
       "      <td>2015</td>\n",
       "      <td>Dec</td>\n",
       "      <td>59</td>\n",
       "      <td>87450.0</td>\n",
       "      <td>1482.0</td>\n",
       "    </tr>\n",
       "  </tbody>\n",
       "</table>\n",
       "</div>"
      ],
      "text/plain": [
       "  origin_airport destination_airport        origin_city   destination_city  \\\n",
       "0            LGB                 LAS         Long Beach          Las Vegas   \n",
       "1            LAX                 DFW        Los Angeles  Dallas-Fort Worth   \n",
       "2            DFW                 MSY  Dallas-Fort Worth        New Orleans   \n",
       "3            DFW                 FAT  Dallas-Fort Worth             Fresno   \n",
       "4            IAD                 MIA          Chantilly              Miami   \n",
       "\n",
       "   origin_airport_lon  origin_airport_lat  destination_airport_lon  \\\n",
       "0          -118.15161            33.81772               -115.15233   \n",
       "1          -118.40807            33.94254                -97.03720   \n",
       "2           -97.03720            32.89595                -90.25803   \n",
       "3           -97.03720            32.89595               -119.71814   \n",
       "4           -77.45581            38.94453                -80.29056   \n",
       "\n",
       "   destination_airport_lat  year month  count(flight_id)  \\\n",
       "0                 36.08036  2015   Dec                93   \n",
       "1                 32.89595  2015   Dec               602   \n",
       "2                 29.99339  2015   Dec               265   \n",
       "3                 36.77619  2015   Dec                55   \n",
       "4                 25.79325  2015   Dec                59   \n",
       "\n",
       "   round(sum(distance_km), 0)  avg_distance_km  \n",
       "0                     34573.0            372.0  \n",
       "1                   1196496.0           1988.0  \n",
       "2                    190634.0            719.0  \n",
       "3                    116218.0           2113.0  \n",
       "4                     87450.0           1482.0  "
      ]
     },
     "execution_count": 15,
     "metadata": {},
     "output_type": "execute_result"
    }
   ],
   "source": [
    "conn.execute(\"\"\"\n",
    "CREATE VIEW IF NOT EXISTS vw_flight_routes AS\n",
    "SELECT\n",
    "            \"origin_airport\",\n",
    "            \"destination_airport\",\n",
    "            \"origin_city\",\n",
    "            \"destination_city\",\n",
    "            \"origin_airport_lon\",\n",
    "            \"origin_airport_lat\",\n",
    "            \"destination_airport_lon\",\n",
    "            \"destination_airport_lat\",\n",
    "            \"year\",\n",
    "            \"month\",\n",
    "            COUNT(\"flight_id\"),\n",
    "            ROUND(SUM(\"distance_km\"),0),\n",
    "            ROUND(AVG(\"distance_km\"),0) AS avg_distance_km\n",
    "FROM vw_ABT\n",
    "GROUP BY\n",
    "            \"origin_airport\",\n",
    "            \"destination_airport\",\n",
    "            \"origin_city\",\n",
    "            \"destination_city\",\n",
    "            \"origin_airport_lon\",\n",
    "            \"origin_airport_lat\",\n",
    "            \"destination_airport_lon\",\n",
    "            \"destination_airport_lat\",\n",
    "            \"year\",\n",
    "            \"month\";\n",
    "\"\"\")\n",
    "\n",
    "flight_routes_df = conn.execute(\"\"\"SELECT * FROM vw_flight_routes;\"\"\").df()\n",
    "\n",
    "# Testabfrage\n",
    "flight_routes_df.head()"
   ]
  },
  {
   "cell_type": "markdown",
   "metadata": {},
   "source": [
    "**Analysen im Kontext \"cancellations\"**"
   ]
  },
  {
   "cell_type": "code",
   "execution_count": 16,
   "metadata": {},
   "outputs": [
    {
     "data": {
      "text/html": [
       "<div>\n",
       "<style scoped>\n",
       "    .dataframe tbody tr th:only-of-type {\n",
       "        vertical-align: middle;\n",
       "    }\n",
       "\n",
       "    .dataframe tbody tr th {\n",
       "        vertical-align: top;\n",
       "    }\n",
       "\n",
       "    .dataframe thead th {\n",
       "        text-align: right;\n",
       "    }\n",
       "</style>\n",
       "<table border=\"1\" class=\"dataframe\">\n",
       "  <thead>\n",
       "    <tr style=\"text-align: right;\">\n",
       "      <th></th>\n",
       "      <th>airline</th>\n",
       "      <th>cancelled</th>\n",
       "      <th>cancellation_reason</th>\n",
       "      <th>year</th>\n",
       "      <th>month</th>\n",
       "      <th>cancellations</th>\n",
       "      <th>cancellation_rate</th>\n",
       "    </tr>\n",
       "  </thead>\n",
       "  <tbody>\n",
       "    <tr>\n",
       "      <th>0</th>\n",
       "      <td>Delta Air Lines Inc.</td>\n",
       "      <td>0</td>\n",
       "      <td>None</td>\n",
       "      <td>2015</td>\n",
       "      <td>Dec</td>\n",
       "      <td>0</td>\n",
       "      <td>0.0</td>\n",
       "    </tr>\n",
       "    <tr>\n",
       "      <th>1</th>\n",
       "      <td>United Air Lines Inc.</td>\n",
       "      <td>1</td>\n",
       "      <td>Airline/ Carrier</td>\n",
       "      <td>2015</td>\n",
       "      <td>Dec</td>\n",
       "      <td>211</td>\n",
       "      <td>100.0</td>\n",
       "    </tr>\n",
       "    <tr>\n",
       "      <th>2</th>\n",
       "      <td>Atlantic Southeast Airlines</td>\n",
       "      <td>1</td>\n",
       "      <td>Airline/ Carrier</td>\n",
       "      <td>2015</td>\n",
       "      <td>Dec</td>\n",
       "      <td>266</td>\n",
       "      <td>100.0</td>\n",
       "    </tr>\n",
       "    <tr>\n",
       "      <th>3</th>\n",
       "      <td>United Air Lines Inc.</td>\n",
       "      <td>1</td>\n",
       "      <td>Weather</td>\n",
       "      <td>2015</td>\n",
       "      <td>Dec</td>\n",
       "      <td>565</td>\n",
       "      <td>100.0</td>\n",
       "    </tr>\n",
       "    <tr>\n",
       "      <th>4</th>\n",
       "      <td>United Air Lines Inc.</td>\n",
       "      <td>1</td>\n",
       "      <td>Airline/ Carrier</td>\n",
       "      <td>2015</td>\n",
       "      <td>May</td>\n",
       "      <td>224</td>\n",
       "      <td>100.0</td>\n",
       "    </tr>\n",
       "  </tbody>\n",
       "</table>\n",
       "</div>"
      ],
      "text/plain": [
       "                       airline  cancelled cancellation_reason  year month  \\\n",
       "0         Delta Air Lines Inc.          0                None  2015   Dec   \n",
       "1        United Air Lines Inc.          1    Airline/ Carrier  2015   Dec   \n",
       "2  Atlantic Southeast Airlines          1    Airline/ Carrier  2015   Dec   \n",
       "3        United Air Lines Inc.          1             Weather  2015   Dec   \n",
       "4        United Air Lines Inc.          1    Airline/ Carrier  2015   May   \n",
       "\n",
       "   cancellations  cancellation_rate  \n",
       "0              0                0.0  \n",
       "1            211              100.0  \n",
       "2            266              100.0  \n",
       "3            565              100.0  \n",
       "4            224              100.0  "
      ]
     },
     "execution_count": 16,
     "metadata": {},
     "output_type": "execute_result"
    }
   ],
   "source": [
    "conn.execute(\"\"\"\n",
    "CREATE VIEW IF NOT EXISTS vw_cancellations AS\n",
    "SELECT\n",
    "    \"airline\",\n",
    "    \"cancelled\",\n",
    "    \"cancellation_reason\",\n",
    "    \"year\",\n",
    "    \"month\",\n",
    "    CAST(SUM(\"cancelled\") AS INT) AS \"cancellations\",\n",
    "    ROUND(SUM(\"cancelled\")::FLOAT/ COUNT(*) *100, 1) AS \"cancellation_rate\"\n",
    "FROM vw_OneBigTable\n",
    "GROUP BY\n",
    "            \"airline\",\n",
    "            \"cancelled\",\n",
    "            \"cancellation_reason\",\n",
    "            \"year\",\n",
    "            \"month\";\n",
    "\"\"\")\n",
    "\n",
    "# Überführt die Daten aus der angelegten Relation in ein pandas DataFrame\n",
    "cancellations_df = conn.execute(\"SELECT * FROM vw_cancellations;\").df()\n",
    "\n",
    "cancellations_df.head()"
   ]
  },
  {
   "cell_type": "markdown",
   "metadata": {},
   "source": [
    "**Analysen im Kontext \"time\"**"
   ]
  },
  {
   "cell_type": "code",
   "execution_count": 17,
   "metadata": {},
   "outputs": [
    {
     "data": {
      "text/html": [
       "<div>\n",
       "<style scoped>\n",
       "    .dataframe tbody tr th:only-of-type {\n",
       "        vertical-align: middle;\n",
       "    }\n",
       "\n",
       "    .dataframe tbody tr th {\n",
       "        vertical-align: top;\n",
       "    }\n",
       "\n",
       "    .dataframe thead th {\n",
       "        text-align: right;\n",
       "    }\n",
       "</style>\n",
       "<table border=\"1\" class=\"dataframe\">\n",
       "  <thead>\n",
       "    <tr style=\"text-align: right;\">\n",
       "      <th></th>\n",
       "      <th>year</th>\n",
       "      <th>quarter_name</th>\n",
       "      <th>month_name</th>\n",
       "      <th>weekday_name</th>\n",
       "      <th>airline</th>\n",
       "      <th>month_int</th>\n",
       "      <th>month</th>\n",
       "      <th>total_flights</th>\n",
       "      <th>med_departure_delay</th>\n",
       "      <th>med_arrival_delay</th>\n",
       "      <th>cancelled</th>\n",
       "      <th>cancellation_reason</th>\n",
       "    </tr>\n",
       "  </thead>\n",
       "  <tbody>\n",
       "    <tr>\n",
       "      <th>0</th>\n",
       "      <td>2015</td>\n",
       "      <td>Q4 2015</td>\n",
       "      <td>Dec 2015</td>\n",
       "      <td>Sat</td>\n",
       "      <td>Southwest Airlines Co.</td>\n",
       "      <td>12</td>\n",
       "      <td>Dec</td>\n",
       "      <td>174</td>\n",
       "      <td>108.0</td>\n",
       "      <td>NaN</td>\n",
       "      <td>1</td>\n",
       "      <td>Weather</td>\n",
       "    </tr>\n",
       "    <tr>\n",
       "      <th>1</th>\n",
       "      <td>2015</td>\n",
       "      <td>Q4 2015</td>\n",
       "      <td>Dec 2015</td>\n",
       "      <td>Sun</td>\n",
       "      <td>United Air Lines Inc.</td>\n",
       "      <td>12</td>\n",
       "      <td>Dec</td>\n",
       "      <td>5520</td>\n",
       "      <td>1.0</td>\n",
       "      <td>-7.0</td>\n",
       "      <td>0</td>\n",
       "      <td>None</td>\n",
       "    </tr>\n",
       "    <tr>\n",
       "      <th>2</th>\n",
       "      <td>2015</td>\n",
       "      <td>Q4 2015</td>\n",
       "      <td>Dec 2015</td>\n",
       "      <td>Mon</td>\n",
       "      <td>Southwest Airlines Co.</td>\n",
       "      <td>12</td>\n",
       "      <td>Dec</td>\n",
       "      <td>13848</td>\n",
       "      <td>1.0</td>\n",
       "      <td>-3.0</td>\n",
       "      <td>0</td>\n",
       "      <td>None</td>\n",
       "    </tr>\n",
       "    <tr>\n",
       "      <th>3</th>\n",
       "      <td>2015</td>\n",
       "      <td>Q4 2015</td>\n",
       "      <td>Dec 2015</td>\n",
       "      <td>Mon</td>\n",
       "      <td>Atlantic Southeast Airlines</td>\n",
       "      <td>12</td>\n",
       "      <td>Dec</td>\n",
       "      <td>218</td>\n",
       "      <td>49.0</td>\n",
       "      <td>NaN</td>\n",
       "      <td>1</td>\n",
       "      <td>Weather</td>\n",
       "    </tr>\n",
       "    <tr>\n",
       "      <th>4</th>\n",
       "      <td>2015</td>\n",
       "      <td>Q4 2015</td>\n",
       "      <td>Dec 2015</td>\n",
       "      <td>Wed</td>\n",
       "      <td>Southwest Airlines Co.</td>\n",
       "      <td>12</td>\n",
       "      <td>Dec</td>\n",
       "      <td>46</td>\n",
       "      <td>-1.0</td>\n",
       "      <td>NaN</td>\n",
       "      <td>1</td>\n",
       "      <td>Weather</td>\n",
       "    </tr>\n",
       "    <tr>\n",
       "      <th>5</th>\n",
       "      <td>2015</td>\n",
       "      <td>Q4 2015</td>\n",
       "      <td>Dec 2015</td>\n",
       "      <td>Wed</td>\n",
       "      <td>United Air Lines Inc.</td>\n",
       "      <td>12</td>\n",
       "      <td>Dec</td>\n",
       "      <td>57</td>\n",
       "      <td>2.0</td>\n",
       "      <td>NaN</td>\n",
       "      <td>1</td>\n",
       "      <td>Airline/ Carrier</td>\n",
       "    </tr>\n",
       "    <tr>\n",
       "      <th>6</th>\n",
       "      <td>2015</td>\n",
       "      <td>Q4 2015</td>\n",
       "      <td>Dec 2015</td>\n",
       "      <td>Thu</td>\n",
       "      <td>Spirit Air Lines</td>\n",
       "      <td>12</td>\n",
       "      <td>Dec</td>\n",
       "      <td>9</td>\n",
       "      <td>18.0</td>\n",
       "      <td>NaN</td>\n",
       "      <td>1</td>\n",
       "      <td>National Air System</td>\n",
       "    </tr>\n",
       "    <tr>\n",
       "      <th>7</th>\n",
       "      <td>2015</td>\n",
       "      <td>Q4 2015</td>\n",
       "      <td>Dec 2015</td>\n",
       "      <td>Thu</td>\n",
       "      <td>Skywest Airlines Inc.</td>\n",
       "      <td>12</td>\n",
       "      <td>Dec</td>\n",
       "      <td>20</td>\n",
       "      <td>79.0</td>\n",
       "      <td>NaN</td>\n",
       "      <td>1</td>\n",
       "      <td>Airline/ Carrier</td>\n",
       "    </tr>\n",
       "    <tr>\n",
       "      <th>8</th>\n",
       "      <td>2015</td>\n",
       "      <td>Q4 2015</td>\n",
       "      <td>Dec 2015</td>\n",
       "      <td>Fri</td>\n",
       "      <td>Virgin America</td>\n",
       "      <td>12</td>\n",
       "      <td>Dec</td>\n",
       "      <td>725</td>\n",
       "      <td>-1.0</td>\n",
       "      <td>-3.0</td>\n",
       "      <td>0</td>\n",
       "      <td>None</td>\n",
       "    </tr>\n",
       "    <tr>\n",
       "      <th>9</th>\n",
       "      <td>2015</td>\n",
       "      <td>Q4 2015</td>\n",
       "      <td>Dec 2015</td>\n",
       "      <td>Fri</td>\n",
       "      <td>Alaska Airlines Inc.</td>\n",
       "      <td>12</td>\n",
       "      <td>Dec</td>\n",
       "      <td>2</td>\n",
       "      <td>260.0</td>\n",
       "      <td>NaN</td>\n",
       "      <td>1</td>\n",
       "      <td>Airline/ Carrier</td>\n",
       "    </tr>\n",
       "    <tr>\n",
       "      <th>10</th>\n",
       "      <td>2015</td>\n",
       "      <td>Q4 2015</td>\n",
       "      <td>Dec 2015</td>\n",
       "      <td>Sun</td>\n",
       "      <td>United Air Lines Inc.</td>\n",
       "      <td>12</td>\n",
       "      <td>Dec</td>\n",
       "      <td>8</td>\n",
       "      <td>108.0</td>\n",
       "      <td>NaN</td>\n",
       "      <td>1</td>\n",
       "      <td>Airline/ Carrier</td>\n",
       "    </tr>\n",
       "    <tr>\n",
       "      <th>11</th>\n",
       "      <td>2015</td>\n",
       "      <td>Q4 2015</td>\n",
       "      <td>Dec 2015</td>\n",
       "      <td>Tue</td>\n",
       "      <td>Skywest Airlines Inc.</td>\n",
       "      <td>12</td>\n",
       "      <td>Dec</td>\n",
       "      <td>21</td>\n",
       "      <td>403.0</td>\n",
       "      <td>NaN</td>\n",
       "      <td>1</td>\n",
       "      <td>Airline/ Carrier</td>\n",
       "    </tr>\n",
       "    <tr>\n",
       "      <th>12</th>\n",
       "      <td>2015</td>\n",
       "      <td>Q4 2015</td>\n",
       "      <td>Dec 2015</td>\n",
       "      <td>Thu</td>\n",
       "      <td>Atlantic Southeast Airlines</td>\n",
       "      <td>12</td>\n",
       "      <td>Dec</td>\n",
       "      <td>115</td>\n",
       "      <td>289.0</td>\n",
       "      <td>NaN</td>\n",
       "      <td>1</td>\n",
       "      <td>Weather</td>\n",
       "    </tr>\n",
       "    <tr>\n",
       "      <th>13</th>\n",
       "      <td>2014</td>\n",
       "      <td>Q4 2014</td>\n",
       "      <td>Nov 2014</td>\n",
       "      <td>Sun</td>\n",
       "      <td>American Eagle Airlines Inc.</td>\n",
       "      <td>11</td>\n",
       "      <td>Nov</td>\n",
       "      <td>25</td>\n",
       "      <td>124.0</td>\n",
       "      <td>NaN</td>\n",
       "      <td>1</td>\n",
       "      <td>Airline/ Carrier</td>\n",
       "    </tr>\n",
       "    <tr>\n",
       "      <th>14</th>\n",
       "      <td>2014</td>\n",
       "      <td>Q4 2014</td>\n",
       "      <td>Nov 2014</td>\n",
       "      <td>Sun</td>\n",
       "      <td>United Air Lines Inc.</td>\n",
       "      <td>11</td>\n",
       "      <td>Nov</td>\n",
       "      <td>6737</td>\n",
       "      <td>2.0</td>\n",
       "      <td>-4.0</td>\n",
       "      <td>0</td>\n",
       "      <td>None</td>\n",
       "    </tr>\n",
       "  </tbody>\n",
       "</table>\n",
       "</div>"
      ],
      "text/plain": [
       "    year quarter_name month_name weekday_name                       airline  \\\n",
       "0   2015      Q4 2015   Dec 2015          Sat        Southwest Airlines Co.   \n",
       "1   2015      Q4 2015   Dec 2015          Sun         United Air Lines Inc.   \n",
       "2   2015      Q4 2015   Dec 2015          Mon        Southwest Airlines Co.   \n",
       "3   2015      Q4 2015   Dec 2015          Mon   Atlantic Southeast Airlines   \n",
       "4   2015      Q4 2015   Dec 2015          Wed        Southwest Airlines Co.   \n",
       "5   2015      Q4 2015   Dec 2015          Wed         United Air Lines Inc.   \n",
       "6   2015      Q4 2015   Dec 2015          Thu              Spirit Air Lines   \n",
       "7   2015      Q4 2015   Dec 2015          Thu         Skywest Airlines Inc.   \n",
       "8   2015      Q4 2015   Dec 2015          Fri                Virgin America   \n",
       "9   2015      Q4 2015   Dec 2015          Fri          Alaska Airlines Inc.   \n",
       "10  2015      Q4 2015   Dec 2015          Sun         United Air Lines Inc.   \n",
       "11  2015      Q4 2015   Dec 2015          Tue         Skywest Airlines Inc.   \n",
       "12  2015      Q4 2015   Dec 2015          Thu   Atlantic Southeast Airlines   \n",
       "13  2014      Q4 2014   Nov 2014          Sun  American Eagle Airlines Inc.   \n",
       "14  2014      Q4 2014   Nov 2014          Sun         United Air Lines Inc.   \n",
       "\n",
       "    month_int month  total_flights  med_departure_delay  med_arrival_delay  \\\n",
       "0          12   Dec            174                108.0                NaN   \n",
       "1          12   Dec           5520                  1.0               -7.0   \n",
       "2          12   Dec          13848                  1.0               -3.0   \n",
       "3          12   Dec            218                 49.0                NaN   \n",
       "4          12   Dec             46                 -1.0                NaN   \n",
       "5          12   Dec             57                  2.0                NaN   \n",
       "6          12   Dec              9                 18.0                NaN   \n",
       "7          12   Dec             20                 79.0                NaN   \n",
       "8          12   Dec            725                 -1.0               -3.0   \n",
       "9          12   Dec              2                260.0                NaN   \n",
       "10         12   Dec              8                108.0                NaN   \n",
       "11         12   Dec             21                403.0                NaN   \n",
       "12         12   Dec            115                289.0                NaN   \n",
       "13         11   Nov             25                124.0                NaN   \n",
       "14         11   Nov           6737                  2.0               -4.0   \n",
       "\n",
       "    cancelled  cancellation_reason  \n",
       "0           1              Weather  \n",
       "1           0                 None  \n",
       "2           0                 None  \n",
       "3           1              Weather  \n",
       "4           1              Weather  \n",
       "5           1     Airline/ Carrier  \n",
       "6           1  National Air System  \n",
       "7           1     Airline/ Carrier  \n",
       "8           0                 None  \n",
       "9           1     Airline/ Carrier  \n",
       "10          1     Airline/ Carrier  \n",
       "11          1     Airline/ Carrier  \n",
       "12          1              Weather  \n",
       "13          1     Airline/ Carrier  \n",
       "14          0                 None  "
      ]
     },
     "execution_count": 17,
     "metadata": {},
     "output_type": "execute_result"
    }
   ],
   "source": [
    "conn.execute(\"\"\"\n",
    "CREATE VIEW IF NOT EXISTS vw_time_analysis AS\n",
    "SELECT \n",
    "    \"year\", \n",
    "    \"quarter_name\", \n",
    "    \"month_name\", \n",
    "    \"weekday_name\", \n",
    "    \"airline\",\n",
    "    \"month_int\", \n",
    "    \"month\",\n",
    "    COUNT(*) AS total_flights,\n",
    "    ROUND(MEDIAN(\"departure_delay\"), 1) AS med_departure_delay,\n",
    "    ROUND(MEDIAN(\"arrival_delay\"), 1) AS med_arrival_delay,\n",
    "    \"cancelled\", \n",
    "    \"cancellation_reason\"\n",
    "FROM vw_OneBigTable\n",
    "GROUP BY \n",
    "    \"year\", \n",
    "    \"quarter_name\", \n",
    "    \"month_name\", \n",
    "    \"weekday_name\", \n",
    "    \"airline\",\n",
    "    \"month_int\",\n",
    "    \"month\",\n",
    "    \"cancelled\", \n",
    "    \"cancellation_reason\"\n",
    "HAVING AVG(\"departure_delay\") > 15;\n",
    "\"\"\")\n",
    "\n",
    "# Überführt die Daten aus der angelegten Relation in ein pandas DataFrame\n",
    "time_df = conn.execute(\"\"\"SELECT * FROM vw_time_analysis\"\"\").df()\n",
    "\n",
    "# Testabfrage\n",
    "time_df.head(15)"
   ]
  },
  {
   "cell_type": "markdown",
   "metadata": {},
   "source": [
    "### **Beenden der Verbindung zur Datenbank**"
   ]
  },
  {
   "cell_type": "code",
   "execution_count": 22,
   "metadata": {},
   "outputs": [],
   "source": [
    "# Beendet die Verbindung zur im Arbeitsspeicher liegenden in-Memory-DB. Dabei gehen auch alle Daten im Arbeitsspeicher verloren. Die DataFrames bleiben für die Dauer der Arbeitssitzung erhalten\n",
    "conn.close()"
   ]
  },
  {
   "cell_type": "markdown",
   "metadata": {},
   "source": [
    "## **Datenvisualisierung und -analyse**\n",
    "\n",
    "Wir haben die Verbindung zur in-Memory DB DuckDB geschlossen (spart Ressourcen) und führen nun die Analysen mit `pandas` durch. Über DuckDB haben wir DB-Views für die Analysen vorbereitet und jeweils in ein DataFrame überführt. Diese dienen als Grundlage für die weiterführenden Analysen.  "
   ]
  },
  {
   "cell_type": "code",
   "execution_count": 46,
   "metadata": {},
   "outputs": [
    {
     "name": "stdout",
     "output_type": "stream",
     "text": [
      "['_', '__', '___', 'airports_df', '_3', '_4', 'airlines_df', '_5', 'cancellation_reasons_df', '_6', 'airlines_metrics_df', '_17', 'flight_metrics_df', '_18', 'flight_routes_df', '_19', 'cancellations_df', '_20', 'time_df', '_21', 'cancellations_summary', '_24', 'cancellations_sorted', '_32', '_33', '_34', '_41', '_42', '_43', '_44', '_45']\n"
     ]
    }
   ],
   "source": [
    "# Auflisten aller DataFrames\n",
    "dfs = [var for var in globals() if isinstance(eval(var), pd.core.frame.DataFrame)]\n",
    "print(dfs)"
   ]
  },
  {
   "cell_type": "markdown",
   "metadata": {},
   "source": [
    "### **Statistiken zu den Fluggesellschaften**"
   ]
  },
  {
   "cell_type": "markdown",
   "metadata": {},
   "source": [
    "**Anzahl der Stornierungen pro Fluggesellschaft**"
   ]
  },
  {
   "cell_type": "code",
   "execution_count": 2,
   "metadata": {},
   "outputs": [
    {
     "ename": "NameError",
     "evalue": "name 'cancellations_df' is not defined",
     "output_type": "error",
     "traceback": [
      "\u001b[1;31m---------------------------------------------------------------------------\u001b[0m",
      "\u001b[1;31mNameError\u001b[0m                                 Traceback (most recent call last)",
      "Cell \u001b[1;32mIn[2], line 1\u001b[0m\n\u001b[1;32m----> 1\u001b[0m cancellations_summary \u001b[38;5;241m=\u001b[39m \u001b[43mcancellations_df\u001b[49m\u001b[38;5;241m.\u001b[39mgroupby([\u001b[38;5;124m'\u001b[39m\u001b[38;5;124mcancellation_reason\u001b[39m\u001b[38;5;124m'\u001b[39m, \u001b[38;5;124m'\u001b[39m\u001b[38;5;124mairline\u001b[39m\u001b[38;5;124m'\u001b[39m, \u001b[38;5;124m'\u001b[39m\u001b[38;5;124myear\u001b[39m\u001b[38;5;124m'\u001b[39m, \u001b[38;5;124m'\u001b[39m\u001b[38;5;124mmonth\u001b[39m\u001b[38;5;124m'\u001b[39m])[\u001b[38;5;124m'\u001b[39m\u001b[38;5;124mcancellations\u001b[39m\u001b[38;5;124m'\u001b[39m]\u001b[38;5;241m.\u001b[39msum()\u001b[38;5;241m.\u001b[39mreset_index()\n\u001b[0;32m      2\u001b[0m cancellations_summary[\u001b[38;5;124m'\u001b[39m\u001b[38;5;124mpercentage\u001b[39m\u001b[38;5;124m'\u001b[39m] \u001b[38;5;241m=\u001b[39m (cancellations_summary[\u001b[38;5;124m'\u001b[39m\u001b[38;5;124mcancellations\u001b[39m\u001b[38;5;124m'\u001b[39m] \u001b[38;5;241m/\u001b[39m cancellations_summary[\u001b[38;5;124m'\u001b[39m\u001b[38;5;124mcancellations\u001b[39m\u001b[38;5;124m'\u001b[39m]\u001b[38;5;241m.\u001b[39msum()) \u001b[38;5;241m*\u001b[39m \u001b[38;5;241m100\u001b[39m\n\u001b[0;32m      4\u001b[0m \u001b[38;5;66;03m# DataFrame als CSV speichern\u001b[39;00m\n",
      "\u001b[1;31mNameError\u001b[0m: name 'cancellations_df' is not defined"
     ]
    }
   ],
   "source": [
    "cancellations_summary = cancellations_df.groupby(['cancellation_reason', 'airline', 'year', 'month'])['cancellations'].sum().reset_index()\n",
    "cancellations_summary['percentage'] = (cancellations_summary['cancellations'] / cancellations_summary['cancellations'].sum()) * 100\n",
    "\n",
    "# DataFrame als CSV speichern\n",
    "cancellations_summary.to_csv(r\"C:\\Users\\rober\\OneDrive\\Vorlesungen\\Datenbasierte Fallstudien\\Visualisierungen\\Flights\\Flights\\cancellations_summary.csv\", index=False)\n",
    "\n",
    "cancellations_summary.head()"
   ]
  },
  {
   "cell_type": "code",
   "execution_count": 19,
   "metadata": {},
   "outputs": [
    {
     "data": {
      "text/html": [
       "<div>\n",
       "<style scoped>\n",
       "    .dataframe tbody tr th:only-of-type {\n",
       "        vertical-align: middle;\n",
       "    }\n",
       "\n",
       "    .dataframe tbody tr th {\n",
       "        vertical-align: top;\n",
       "    }\n",
       "\n",
       "    .dataframe thead th {\n",
       "        text-align: right;\n",
       "    }\n",
       "</style>\n",
       "<table border=\"1\" class=\"dataframe\">\n",
       "  <thead>\n",
       "    <tr style=\"text-align: right;\">\n",
       "      <th></th>\n",
       "      <th>airline</th>\n",
       "      <th>month</th>\n",
       "      <th>month_int</th>\n",
       "      <th>year</th>\n",
       "      <th>total_flights</th>\n",
       "      <th>percent of arrivals on time</th>\n",
       "      <th>percent of departures on time</th>\n",
       "      <th>cancellation_rate_percent</th>\n",
       "    </tr>\n",
       "  </thead>\n",
       "  <tbody>\n",
       "    <tr>\n",
       "      <th>0</th>\n",
       "      <td>Alaska Airlines Inc.</td>\n",
       "      <td>Apr</td>\n",
       "      <td>4</td>\n",
       "      <td>2014</td>\n",
       "      <td>12672</td>\n",
       "      <td>90.7</td>\n",
       "      <td>92.9</td>\n",
       "      <td>0.2</td>\n",
       "    </tr>\n",
       "    <tr>\n",
       "      <th>1</th>\n",
       "      <td>Alaska Airlines Inc.</td>\n",
       "      <td>Apr</td>\n",
       "      <td>4</td>\n",
       "      <td>2015</td>\n",
       "      <td>13974</td>\n",
       "      <td>89.9</td>\n",
       "      <td>91.4</td>\n",
       "      <td>0.5</td>\n",
       "    </tr>\n",
       "    <tr>\n",
       "      <th>2</th>\n",
       "      <td>Alaska Airlines Inc.</td>\n",
       "      <td>Aug</td>\n",
       "      <td>8</td>\n",
       "      <td>2014</td>\n",
       "      <td>15134</td>\n",
       "      <td>84.5</td>\n",
       "      <td>87.8</td>\n",
       "      <td>0.4</td>\n",
       "    </tr>\n",
       "    <tr>\n",
       "      <th>3</th>\n",
       "      <td>Alaska Airlines Inc.</td>\n",
       "      <td>Aug</td>\n",
       "      <td>8</td>\n",
       "      <td>2015</td>\n",
       "      <td>16095</td>\n",
       "      <td>83.3</td>\n",
       "      <td>86.2</td>\n",
       "      <td>0.2</td>\n",
       "    </tr>\n",
       "    <tr>\n",
       "      <th>4</th>\n",
       "      <td>Alaska Airlines Inc.</td>\n",
       "      <td>Dec</td>\n",
       "      <td>12</td>\n",
       "      <td>2014</td>\n",
       "      <td>13611</td>\n",
       "      <td>81.3</td>\n",
       "      <td>84.9</td>\n",
       "      <td>0.5</td>\n",
       "    </tr>\n",
       "  </tbody>\n",
       "</table>\n",
       "</div>"
      ],
      "text/plain": [
       "                airline month  month_int  year  total_flights  \\\n",
       "0  Alaska Airlines Inc.   Apr          4  2014          12672   \n",
       "1  Alaska Airlines Inc.   Apr          4  2015          13974   \n",
       "2  Alaska Airlines Inc.   Aug          8  2014          15134   \n",
       "3  Alaska Airlines Inc.   Aug          8  2015          16095   \n",
       "4  Alaska Airlines Inc.   Dec         12  2014          13611   \n",
       "\n",
       "   percent of arrivals on time  percent of departures on time  \\\n",
       "0                         90.7                           92.9   \n",
       "1                         89.9                           91.4   \n",
       "2                         84.5                           87.8   \n",
       "3                         83.3                           86.2   \n",
       "4                         81.3                           84.9   \n",
       "\n",
       "   cancellation_rate_percent  \n",
       "0                        0.2  \n",
       "1                        0.5  \n",
       "2                        0.4  \n",
       "3                        0.2  \n",
       "4                        0.5  "
      ]
     },
     "execution_count": 19,
     "metadata": {},
     "output_type": "execute_result"
    }
   ],
   "source": [
    "airlines_summary = airlines_metrics_df.groupby(['airline', 'month', 'month_int', 'year'])[['total_flights', 'percent of arrivals on time', 'percent of departures on time', 'cancellation_rate_percent']].sum().reset_index()\n",
    "\n",
    "# DataFrame als CSV speichern\n",
    "airlines_summary.to_csv(r\"C:\\Users\\rober\\OneDrive\\Vorlesungen\\Datenbasierte Fallstudien\\Visualisierungen\\Flights\\Flights\\airliness_summary.csv\", index=False)\n",
    "\n",
    "airlines_summary.head()"
   ]
  },
  {
   "cell_type": "code",
   "execution_count": 20,
   "metadata": {},
   "outputs": [
    {
     "data": {
      "text/html": [
       "<div>\n",
       "<style scoped>\n",
       "    .dataframe tbody tr th:only-of-type {\n",
       "        vertical-align: middle;\n",
       "    }\n",
       "\n",
       "    .dataframe tbody tr th {\n",
       "        vertical-align: top;\n",
       "    }\n",
       "\n",
       "    .dataframe thead th {\n",
       "        text-align: right;\n",
       "    }\n",
       "</style>\n",
       "<table border=\"1\" class=\"dataframe\">\n",
       "  <thead>\n",
       "    <tr style=\"text-align: right;\">\n",
       "      <th></th>\n",
       "      <th>airline</th>\n",
       "      <th>month</th>\n",
       "      <th>month_int</th>\n",
       "      <th>year</th>\n",
       "      <th>total_flights</th>\n",
       "      <th>percent of arrivals on time</th>\n",
       "      <th>percent of departures on time</th>\n",
       "      <th>cancellation_rate_percent</th>\n",
       "    </tr>\n",
       "  </thead>\n",
       "  <tbody>\n",
       "    <tr>\n",
       "      <th>0</th>\n",
       "      <td>Alaska Airlines Inc.</td>\n",
       "      <td>Apr</td>\n",
       "      <td>4</td>\n",
       "      <td>2014</td>\n",
       "      <td>12672</td>\n",
       "      <td>90.7</td>\n",
       "      <td>92.9</td>\n",
       "      <td>0.2</td>\n",
       "    </tr>\n",
       "    <tr>\n",
       "      <th>1</th>\n",
       "      <td>Alaska Airlines Inc.</td>\n",
       "      <td>Apr</td>\n",
       "      <td>4</td>\n",
       "      <td>2015</td>\n",
       "      <td>13974</td>\n",
       "      <td>89.9</td>\n",
       "      <td>91.4</td>\n",
       "      <td>0.5</td>\n",
       "    </tr>\n",
       "    <tr>\n",
       "      <th>2</th>\n",
       "      <td>Alaska Airlines Inc.</td>\n",
       "      <td>Aug</td>\n",
       "      <td>8</td>\n",
       "      <td>2014</td>\n",
       "      <td>15134</td>\n",
       "      <td>84.5</td>\n",
       "      <td>87.8</td>\n",
       "      <td>0.4</td>\n",
       "    </tr>\n",
       "    <tr>\n",
       "      <th>3</th>\n",
       "      <td>Alaska Airlines Inc.</td>\n",
       "      <td>Aug</td>\n",
       "      <td>8</td>\n",
       "      <td>2015</td>\n",
       "      <td>16095</td>\n",
       "      <td>83.3</td>\n",
       "      <td>86.2</td>\n",
       "      <td>0.2</td>\n",
       "    </tr>\n",
       "    <tr>\n",
       "      <th>4</th>\n",
       "      <td>Alaska Airlines Inc.</td>\n",
       "      <td>Dec</td>\n",
       "      <td>12</td>\n",
       "      <td>2014</td>\n",
       "      <td>13611</td>\n",
       "      <td>81.3</td>\n",
       "      <td>84.9</td>\n",
       "      <td>0.5</td>\n",
       "    </tr>\n",
       "    <tr>\n",
       "      <th>...</th>\n",
       "      <td>...</td>\n",
       "      <td>...</td>\n",
       "      <td>...</td>\n",
       "      <td>...</td>\n",
       "      <td>...</td>\n",
       "      <td>...</td>\n",
       "      <td>...</td>\n",
       "      <td>...</td>\n",
       "    </tr>\n",
       "    <tr>\n",
       "      <th>313</th>\n",
       "      <td>Virgin America</td>\n",
       "      <td>Nov</td>\n",
       "      <td>11</td>\n",
       "      <td>2015</td>\n",
       "      <td>5414</td>\n",
       "      <td>84.8</td>\n",
       "      <td>85.7</td>\n",
       "      <td>1.1</td>\n",
       "    </tr>\n",
       "    <tr>\n",
       "      <th>314</th>\n",
       "      <td>Virgin America</td>\n",
       "      <td>Oct</td>\n",
       "      <td>10</td>\n",
       "      <td>2014</td>\n",
       "      <td>4722</td>\n",
       "      <td>83.7</td>\n",
       "      <td>85.2</td>\n",
       "      <td>0.0</td>\n",
       "    </tr>\n",
       "    <tr>\n",
       "      <th>315</th>\n",
       "      <td>Virgin America</td>\n",
       "      <td>Oct</td>\n",
       "      <td>10</td>\n",
       "      <td>2015</td>\n",
       "      <td>5464</td>\n",
       "      <td>83.8</td>\n",
       "      <td>84.3</td>\n",
       "      <td>0.4</td>\n",
       "    </tr>\n",
       "    <tr>\n",
       "      <th>316</th>\n",
       "      <td>Virgin America</td>\n",
       "      <td>Sep</td>\n",
       "      <td>9</td>\n",
       "      <td>2014</td>\n",
       "      <td>4554</td>\n",
       "      <td>84.4</td>\n",
       "      <td>85.8</td>\n",
       "      <td>0.2</td>\n",
       "    </tr>\n",
       "    <tr>\n",
       "      <th>317</th>\n",
       "      <td>Virgin America</td>\n",
       "      <td>Sep</td>\n",
       "      <td>9</td>\n",
       "      <td>2015</td>\n",
       "      <td>5154</td>\n",
       "      <td>86.7</td>\n",
       "      <td>88.6</td>\n",
       "      <td>0.2</td>\n",
       "    </tr>\n",
       "  </tbody>\n",
       "</table>\n",
       "<p>318 rows × 8 columns</p>\n",
       "</div>"
      ],
      "text/plain": [
       "                  airline month  month_int  year  total_flights  \\\n",
       "0    Alaska Airlines Inc.   Apr          4  2014          12672   \n",
       "1    Alaska Airlines Inc.   Apr          4  2015          13974   \n",
       "2    Alaska Airlines Inc.   Aug          8  2014          15134   \n",
       "3    Alaska Airlines Inc.   Aug          8  2015          16095   \n",
       "4    Alaska Airlines Inc.   Dec         12  2014          13611   \n",
       "..                    ...   ...        ...   ...            ...   \n",
       "313        Virgin America   Nov         11  2015           5414   \n",
       "314        Virgin America   Oct         10  2014           4722   \n",
       "315        Virgin America   Oct         10  2015           5464   \n",
       "316        Virgin America   Sep          9  2014           4554   \n",
       "317        Virgin America   Sep          9  2015           5154   \n",
       "\n",
       "     percent of arrivals on time  percent of departures on time  \\\n",
       "0                           90.7                           92.9   \n",
       "1                           89.9                           91.4   \n",
       "2                           84.5                           87.8   \n",
       "3                           83.3                           86.2   \n",
       "4                           81.3                           84.9   \n",
       "..                           ...                            ...   \n",
       "313                         84.8                           85.7   \n",
       "314                         83.7                           85.2   \n",
       "315                         83.8                           84.3   \n",
       "316                         84.4                           85.8   \n",
       "317                         86.7                           88.6   \n",
       "\n",
       "     cancellation_rate_percent  \n",
       "0                          0.2  \n",
       "1                          0.5  \n",
       "2                          0.4  \n",
       "3                          0.2  \n",
       "4                          0.5  \n",
       "..                         ...  \n",
       "313                        1.1  \n",
       "314                        0.0  \n",
       "315                        0.4  \n",
       "316                        0.2  \n",
       "317                        0.2  \n",
       "\n",
       "[318 rows x 8 columns]"
      ]
     },
     "execution_count": 20,
     "metadata": {},
     "output_type": "execute_result"
    }
   ],
   "source": [
    "airlines_summary"
   ]
  },
  {
   "cell_type": "code",
   "execution_count": 21,
   "metadata": {},
   "outputs": [
    {
     "data": {
      "text/html": [
       "<div>\n",
       "<style scoped>\n",
       "    .dataframe tbody tr th:only-of-type {\n",
       "        vertical-align: middle;\n",
       "    }\n",
       "\n",
       "    .dataframe tbody tr th {\n",
       "        vertical-align: top;\n",
       "    }\n",
       "\n",
       "    .dataframe thead th {\n",
       "        text-align: right;\n",
       "    }\n",
       "</style>\n",
       "<table border=\"1\" class=\"dataframe\">\n",
       "  <thead>\n",
       "    <tr style=\"text-align: right;\">\n",
       "      <th></th>\n",
       "      <th>airline</th>\n",
       "      <th>iata_airline</th>\n",
       "      <th>year</th>\n",
       "      <th>month</th>\n",
       "      <th>month_int</th>\n",
       "      <th>average_arrival_delay</th>\n",
       "      <th>median_arrival_delay</th>\n",
       "      <th>average_departure_delay</th>\n",
       "      <th>median_departure_delay</th>\n",
       "      <th>total_flights</th>\n",
       "      <th>distance_km</th>\n",
       "      <th>percent of departures on time</th>\n",
       "      <th>percent of arrivals on time</th>\n",
       "      <th>cancellation_rate_percent</th>\n",
       "      <th>cancellations</th>\n",
       "      <th>most_frequent_destination</th>\n",
       "      <th>most_frequent_origin</th>\n",
       "      <th>buffer_flight</th>\n",
       "    </tr>\n",
       "  </thead>\n",
       "  <tbody>\n",
       "    <tr>\n",
       "      <th>0</th>\n",
       "      <td>None</td>\n",
       "      <td>FL</td>\n",
       "      <td>2014</td>\n",
       "      <td>Nov</td>\n",
       "      <td>11</td>\n",
       "      <td>-5.172423</td>\n",
       "      <td>-9.0</td>\n",
       "      <td>2.642803</td>\n",
       "      <td>-2.0</td>\n",
       "      <td>3951</td>\n",
       "      <td>4074715.0</td>\n",
       "      <td>88.9</td>\n",
       "      <td>90.7</td>\n",
       "      <td>0.3</td>\n",
       "      <td>12.0</td>\n",
       "      <td>None</td>\n",
       "      <td>None</td>\n",
       "      <td>-7.9</td>\n",
       "    </tr>\n",
       "    <tr>\n",
       "      <th>1</th>\n",
       "      <td>Delta Air Lines Inc.</td>\n",
       "      <td>DL</td>\n",
       "      <td>2015</td>\n",
       "      <td>Oct</td>\n",
       "      <td>10</td>\n",
       "      <td>-5.011516</td>\n",
       "      <td>-9.0</td>\n",
       "      <td>3.215743</td>\n",
       "      <td>-2.0</td>\n",
       "      <td>75552</td>\n",
       "      <td>101764164.0</td>\n",
       "      <td>91.3</td>\n",
       "      <td>92.2</td>\n",
       "      <td>0.0</td>\n",
       "      <td>17.0</td>\n",
       "      <td>ATL</td>\n",
       "      <td>ATL</td>\n",
       "      <td>-8.2</td>\n",
       "    </tr>\n",
       "    <tr>\n",
       "      <th>2</th>\n",
       "      <td>Alaska Airlines Inc.</td>\n",
       "      <td>AS</td>\n",
       "      <td>2014</td>\n",
       "      <td>Jan</td>\n",
       "      <td>1</td>\n",
       "      <td>-3.973786</td>\n",
       "      <td>-8.0</td>\n",
       "      <td>0.724945</td>\n",
       "      <td>-4.0</td>\n",
       "      <td>12403</td>\n",
       "      <td>23756812.0</td>\n",
       "      <td>91.4</td>\n",
       "      <td>89.7</td>\n",
       "      <td>1.2</td>\n",
       "      <td>152.0</td>\n",
       "      <td>SEA</td>\n",
       "      <td>SEA</td>\n",
       "      <td>-3.1</td>\n",
       "    </tr>\n",
       "    <tr>\n",
       "      <th>3</th>\n",
       "      <td>American Eagle Airlines Inc.</td>\n",
       "      <td>MQ</td>\n",
       "      <td>2015</td>\n",
       "      <td>Oct</td>\n",
       "      <td>10</td>\n",
       "      <td>-3.735054</td>\n",
       "      <td>-11.0</td>\n",
       "      <td>3.457587</td>\n",
       "      <td>-4.0</td>\n",
       "      <td>21982</td>\n",
       "      <td>14152764.0</td>\n",
       "      <td>89.4</td>\n",
       "      <td>89.6</td>\n",
       "      <td>1.2</td>\n",
       "      <td>273.0</td>\n",
       "      <td>ORD</td>\n",
       "      <td>ORD</td>\n",
       "      <td>-7.1</td>\n",
       "    </tr>\n",
       "    <tr>\n",
       "      <th>4</th>\n",
       "      <td>Delta Air Lines Inc.</td>\n",
       "      <td>DL</td>\n",
       "      <td>2015</td>\n",
       "      <td>Sep</td>\n",
       "      <td>9</td>\n",
       "      <td>-3.703377</td>\n",
       "      <td>-9.0</td>\n",
       "      <td>3.514294</td>\n",
       "      <td>-2.0</td>\n",
       "      <td>72063</td>\n",
       "      <td>96742254.0</td>\n",
       "      <td>90.6</td>\n",
       "      <td>90.7</td>\n",
       "      <td>0.0</td>\n",
       "      <td>6.0</td>\n",
       "      <td>ATL</td>\n",
       "      <td>ATL</td>\n",
       "      <td>-7.2</td>\n",
       "    </tr>\n",
       "    <tr>\n",
       "      <th>...</th>\n",
       "      <td>...</td>\n",
       "      <td>...</td>\n",
       "      <td>...</td>\n",
       "      <td>...</td>\n",
       "      <td>...</td>\n",
       "      <td>...</td>\n",
       "      <td>...</td>\n",
       "      <td>...</td>\n",
       "      <td>...</td>\n",
       "      <td>...</td>\n",
       "      <td>...</td>\n",
       "      <td>...</td>\n",
       "      <td>...</td>\n",
       "      <td>...</td>\n",
       "      <td>...</td>\n",
       "      <td>...</td>\n",
       "      <td>...</td>\n",
       "      <td>...</td>\n",
       "    </tr>\n",
       "    <tr>\n",
       "      <th>325</th>\n",
       "      <td>Spirit Air Lines</td>\n",
       "      <td>NK</td>\n",
       "      <td>2015</td>\n",
       "      <td>May</td>\n",
       "      <td>5</td>\n",
       "      <td>22.397347</td>\n",
       "      <td>4.0</td>\n",
       "      <td>23.607441</td>\n",
       "      <td>2.0</td>\n",
       "      <td>10051</td>\n",
       "      <td>15699712.0</td>\n",
       "      <td>65.5</td>\n",
       "      <td>63.7</td>\n",
       "      <td>2.2</td>\n",
       "      <td>225.0</td>\n",
       "      <td>FLL</td>\n",
       "      <td>FLL</td>\n",
       "      <td>-1.2</td>\n",
       "    </tr>\n",
       "    <tr>\n",
       "      <th>326</th>\n",
       "      <td>Frontier Airlines Inc.</td>\n",
       "      <td>F9</td>\n",
       "      <td>2014</td>\n",
       "      <td>Jan</td>\n",
       "      <td>1</td>\n",
       "      <td>22.431379</td>\n",
       "      <td>6.0</td>\n",
       "      <td>20.058730</td>\n",
       "      <td>2.0</td>\n",
       "      <td>5736</td>\n",
       "      <td>7871937.0</td>\n",
       "      <td>68.4</td>\n",
       "      <td>63.4</td>\n",
       "      <td>1.5</td>\n",
       "      <td>84.0</td>\n",
       "      <td>DEN</td>\n",
       "      <td>DEN</td>\n",
       "      <td>2.4</td>\n",
       "    </tr>\n",
       "    <tr>\n",
       "      <th>327</th>\n",
       "      <td>JetBlue Airways</td>\n",
       "      <td>B6</td>\n",
       "      <td>2014</td>\n",
       "      <td>Jan</td>\n",
       "      <td>1</td>\n",
       "      <td>25.271179</td>\n",
       "      <td>3.0</td>\n",
       "      <td>26.939032</td>\n",
       "      <td>1.0</td>\n",
       "      <td>20219</td>\n",
       "      <td>34834541.0</td>\n",
       "      <td>70.2</td>\n",
       "      <td>68.0</td>\n",
       "      <td>10.7</td>\n",
       "      <td>2164.0</td>\n",
       "      <td>JFK</td>\n",
       "      <td>JFK</td>\n",
       "      <td>-1.9</td>\n",
       "    </tr>\n",
       "    <tr>\n",
       "      <th>328</th>\n",
       "      <td>Frontier Airlines Inc.</td>\n",
       "      <td>F9</td>\n",
       "      <td>2015</td>\n",
       "      <td>Feb</td>\n",
       "      <td>2</td>\n",
       "      <td>27.424179</td>\n",
       "      <td>6.0</td>\n",
       "      <td>25.710005</td>\n",
       "      <td>1.0</td>\n",
       "      <td>5809</td>\n",
       "      <td>8968409.0</td>\n",
       "      <td>66.0</td>\n",
       "      <td>60.9</td>\n",
       "      <td>1.9</td>\n",
       "      <td>108.0</td>\n",
       "      <td>DEN</td>\n",
       "      <td>DEN</td>\n",
       "      <td>1.7</td>\n",
       "    </tr>\n",
       "    <tr>\n",
       "      <th>329</th>\n",
       "      <td>Spirit Air Lines</td>\n",
       "      <td>NK</td>\n",
       "      <td>2015</td>\n",
       "      <td>Jun</td>\n",
       "      <td>6</td>\n",
       "      <td>35.561501</td>\n",
       "      <td>12.0</td>\n",
       "      <td>36.161787</td>\n",
       "      <td>10.0</td>\n",
       "      <td>9826</td>\n",
       "      <td>15309384.0</td>\n",
       "      <td>56.5</td>\n",
       "      <td>55.0</td>\n",
       "      <td>4.9</td>\n",
       "      <td>479.0</td>\n",
       "      <td>FLL</td>\n",
       "      <td>FLL</td>\n",
       "      <td>-0.4</td>\n",
       "    </tr>\n",
       "  </tbody>\n",
       "</table>\n",
       "<p>330 rows × 18 columns</p>\n",
       "</div>"
      ],
      "text/plain": [
       "                          airline iata_airline  year month  month_int  \\\n",
       "0                            None           FL  2014   Nov         11   \n",
       "1            Delta Air Lines Inc.           DL  2015   Oct         10   \n",
       "2            Alaska Airlines Inc.           AS  2014   Jan          1   \n",
       "3    American Eagle Airlines Inc.           MQ  2015   Oct         10   \n",
       "4            Delta Air Lines Inc.           DL  2015   Sep          9   \n",
       "..                            ...          ...   ...   ...        ...   \n",
       "325              Spirit Air Lines           NK  2015   May          5   \n",
       "326        Frontier Airlines Inc.           F9  2014   Jan          1   \n",
       "327               JetBlue Airways           B6  2014   Jan          1   \n",
       "328        Frontier Airlines Inc.           F9  2015   Feb          2   \n",
       "329              Spirit Air Lines           NK  2015   Jun          6   \n",
       "\n",
       "     average_arrival_delay  median_arrival_delay  average_departure_delay  \\\n",
       "0                -5.172423                  -9.0                 2.642803   \n",
       "1                -5.011516                  -9.0                 3.215743   \n",
       "2                -3.973786                  -8.0                 0.724945   \n",
       "3                -3.735054                 -11.0                 3.457587   \n",
       "4                -3.703377                  -9.0                 3.514294   \n",
       "..                     ...                   ...                      ...   \n",
       "325              22.397347                   4.0                23.607441   \n",
       "326              22.431379                   6.0                20.058730   \n",
       "327              25.271179                   3.0                26.939032   \n",
       "328              27.424179                   6.0                25.710005   \n",
       "329              35.561501                  12.0                36.161787   \n",
       "\n",
       "     median_departure_delay  total_flights  distance_km  \\\n",
       "0                      -2.0           3951    4074715.0   \n",
       "1                      -2.0          75552  101764164.0   \n",
       "2                      -4.0          12403   23756812.0   \n",
       "3                      -4.0          21982   14152764.0   \n",
       "4                      -2.0          72063   96742254.0   \n",
       "..                      ...            ...          ...   \n",
       "325                     2.0          10051   15699712.0   \n",
       "326                     2.0           5736    7871937.0   \n",
       "327                     1.0          20219   34834541.0   \n",
       "328                     1.0           5809    8968409.0   \n",
       "329                    10.0           9826   15309384.0   \n",
       "\n",
       "     percent of departures on time  percent of arrivals on time  \\\n",
       "0                             88.9                         90.7   \n",
       "1                             91.3                         92.2   \n",
       "2                             91.4                         89.7   \n",
       "3                             89.4                         89.6   \n",
       "4                             90.6                         90.7   \n",
       "..                             ...                          ...   \n",
       "325                           65.5                         63.7   \n",
       "326                           68.4                         63.4   \n",
       "327                           70.2                         68.0   \n",
       "328                           66.0                         60.9   \n",
       "329                           56.5                         55.0   \n",
       "\n",
       "     cancellation_rate_percent  cancellations most_frequent_destination  \\\n",
       "0                          0.3           12.0                      None   \n",
       "1                          0.0           17.0                       ATL   \n",
       "2                          1.2          152.0                       SEA   \n",
       "3                          1.2          273.0                       ORD   \n",
       "4                          0.0            6.0                       ATL   \n",
       "..                         ...            ...                       ...   \n",
       "325                        2.2          225.0                       FLL   \n",
       "326                        1.5           84.0                       DEN   \n",
       "327                       10.7         2164.0                       JFK   \n",
       "328                        1.9          108.0                       DEN   \n",
       "329                        4.9          479.0                       FLL   \n",
       "\n",
       "    most_frequent_origin  buffer_flight  \n",
       "0                   None           -7.9  \n",
       "1                    ATL           -8.2  \n",
       "2                    SEA           -3.1  \n",
       "3                    ORD           -7.1  \n",
       "4                    ATL           -7.2  \n",
       "..                   ...            ...  \n",
       "325                  FLL           -1.2  \n",
       "326                  DEN            2.4  \n",
       "327                  JFK           -1.9  \n",
       "328                  DEN            1.7  \n",
       "329                  FLL           -0.4  \n",
       "\n",
       "[330 rows x 18 columns]"
      ]
     },
     "execution_count": 21,
     "metadata": {},
     "output_type": "execute_result"
    }
   ],
   "source": [
    "airlines_metrics_df"
   ]
  },
  {
   "cell_type": "code",
   "execution_count": 50,
   "metadata": {},
   "outputs": [
    {
     "data": {
      "image/png": "[encoded data removed]",
      "text/plain": [
       "<Figure size 700x450 with 1 Axes>"
      ]
     },
     "metadata": {},
     "output_type": "display_data"
    }
   ],
   "source": [
    "import pandas as pd\n",
    "import seaborn as sns\n",
    "import matplotlib.pyplot as plt\n",
    "import matplotlib.ticker as ticker\n",
    "\n",
    "# //Test// Filtern nach dem Jahr 2015\n",
    "# cancellations_2015 = cancellations_summary[cancellations_summary['year'] == 2015]\n",
    "\n",
    "# Gruppieren nach Airline, Summieren der Stornierungen, und Sortieren in absteigender Reihenfolge\n",
    "cancellations_sorted = cancellations_summary.groupby('airline', as_index=False)['cancellations'].sum().sort_values(by='cancellations', ascending=False)\n",
    "\n",
    "\n",
    "# Visualisierung des DataFrames als liegendes Balkendiagramm\n",
    "plt.figure(figsize=(7, 4.5))\n",
    "barplot = sns.barplot(\n",
    "    data=cancellations_sorted,\n",
    "    y='airline',\n",
    "    x='cancellations',\n",
    "    orient='h',\n",
    "    color='#49a9db',  # Spezifische Farbe für die Balken\n",
    "    edgecolor='#3984aa',  # Farbe der Linien der Balken\n",
    "    alpha=0.6  # Angepasste Transparenz für eine klare Farbangabe\n",
    ")\n",
    "\n",
    "# Rahmen (Spines) links, oben und unten entfernen\n",
    "sns.despine(left=True, bottom=True, top=True)\n",
    "\n",
    "# Entferne die x-Achse\n",
    "barplot.get_xaxis().set_visible(False)\n",
    "\n",
    "# Entferne den Titel der y-Achse\n",
    "barplot.set_ylabel('')\n",
    "\n",
    "# Tick Marks an der y-Achse entfernen, ohne die Beschriftung zu beeinflussen\n",
    "barplot.tick_params(axis='y', which='both', length=0)  # Setzt die Länge der Tick Marks auf 0\n",
    "\n",
    "# Erhöhe den Abstand zum Balken für die Datenlabels\n",
    "label_padding = 200  \n",
    "\n",
    "# Füge Datenlabels im deutschen Zahlenformat hinzu, ohne Nachkommastellen\n",
    "for index, value in enumerate(cancellations_sorted['cancellations']):\n",
    "    formatted_value = \"{:,.0f}\".format(value).replace(\",\", \".\")\n",
    "    plt.text(value + label_padding, index, formatted_value, va='center', color='black')\n",
    "\n",
    "# Titel hinzufügen\n",
    "plt.title('Stornierungen (\"cancellations\") nach Fluggesellschaften (\"airline\")', pad=20)\n",
    "\n",
    "plt.tight_layout()\n",
    "plt.show()\n"
   ]
  },
  {
   "cell_type": "code",
   "execution_count": 67,
   "metadata": {},
   "outputs": [],
   "source": [
    "current_year_data = cancellations_summary[cancellations_summary['year'] == 2015].groupby('airline', as_index=False)['cancellations'].sum().astype({'cancellations': 'float'})\n",
    "\n",
    "previous_year_data = cancellations_summary[cancellations_summary['year'] == 2014].groupby('airline', as_index=False)['cancellations'].sum().astype({'cancellations': 'float'})\n",
    "   \n",
    "if not previous_year_data.empty:\n",
    "        deviation_data = current_year_data.merge(previous_year_data, on='airline', suffixes=('_current', '_previous'), how='left')\n",
    "        deviation_data['cancellations_previous'] = deviation_data['cancellations_previous'].fillna(0)\n",
    "        deviation_data['dev_abs'] = ((deviation_data['cancellations_current'] - deviation_data['cancellations_previous'])/deviation_data['cancellations_previous'])*100\n",
    "\n",
    "def calculate_deviation(row):\n",
    "    if row['cancellations_previous'] == 0:\n",
    "        if row['cancellations_current'] == 0:\n",
    "            return 0  # Keine Veränderung, da beide Jahre 0 Stornierungen hatten\n",
    "        else:\n",
    "            return 100  # Unendliche Steigerung, da von 0 auf einen positiven Wert\n",
    "    else:\n",
    "        return (row['cancellations_current'] - row['cancellations_previous'])\n",
    "\n",
    "\n"
   ]
  },
  {
   "cell_type": "code",
   "execution_count": 68,
   "metadata": {},
   "outputs": [
    {
     "data": {
      "text/html": [
       "<div>\n",
       "<style scoped>\n",
       "    .dataframe tbody tr th:only-of-type {\n",
       "        vertical-align: middle;\n",
       "    }\n",
       "\n",
       "    .dataframe tbody tr th {\n",
       "        vertical-align: top;\n",
       "    }\n",
       "\n",
       "    .dataframe thead th {\n",
       "        text-align: right;\n",
       "    }\n",
       "</style>\n",
       "<table border=\"1\" class=\"dataframe\">\n",
       "  <thead>\n",
       "    <tr style=\"text-align: right;\">\n",
       "      <th></th>\n",
       "      <th>airline</th>\n",
       "      <th>cancellations_current</th>\n",
       "      <th>cancellations_previous</th>\n",
       "      <th>dev_abs</th>\n",
       "    </tr>\n",
       "  </thead>\n",
       "  <tbody>\n",
       "    <tr>\n",
       "      <th>0</th>\n",
       "      <td>Alaska Airlines Inc.</td>\n",
       "      <td>669.0</td>\n",
       "      <td>759.0</td>\n",
       "      <td>-11.857708</td>\n",
       "    </tr>\n",
       "    <tr>\n",
       "      <th>1</th>\n",
       "      <td>American Airlines Inc.</td>\n",
       "      <td>10919.0</td>\n",
       "      <td>8457.0</td>\n",
       "      <td>29.111978</td>\n",
       "    </tr>\n",
       "    <tr>\n",
       "      <th>2</th>\n",
       "      <td>American Eagle Airlines Inc.</td>\n",
       "      <td>15025.0</td>\n",
       "      <td>21156.0</td>\n",
       "      <td>-28.979958</td>\n",
       "    </tr>\n",
       "    <tr>\n",
       "      <th>3</th>\n",
       "      <td>Atlantic Southeast Airlines</td>\n",
       "      <td>15231.0</td>\n",
       "      <td>34128.0</td>\n",
       "      <td>-55.370956</td>\n",
       "    </tr>\n",
       "    <tr>\n",
       "      <th>4</th>\n",
       "      <td>Delta Air Lines Inc.</td>\n",
       "      <td>3824.0</td>\n",
       "      <td>6502.0</td>\n",
       "      <td>-41.187327</td>\n",
       "    </tr>\n",
       "    <tr>\n",
       "      <th>5</th>\n",
       "      <td>Frontier Airlines Inc.</td>\n",
       "      <td>588.0</td>\n",
       "      <td>357.0</td>\n",
       "      <td>64.705882</td>\n",
       "    </tr>\n",
       "    <tr>\n",
       "      <th>6</th>\n",
       "      <td>Hawaiian Airlines Inc.</td>\n",
       "      <td>171.0</td>\n",
       "      <td>158.0</td>\n",
       "      <td>8.227848</td>\n",
       "    </tr>\n",
       "    <tr>\n",
       "      <th>7</th>\n",
       "      <td>JetBlue Airways</td>\n",
       "      <td>4276.0</td>\n",
       "      <td>6076.0</td>\n",
       "      <td>-29.624753</td>\n",
       "    </tr>\n",
       "    <tr>\n",
       "      <th>8</th>\n",
       "      <td>Skywest Airlines Inc.</td>\n",
       "      <td>9960.0</td>\n",
       "      <td>18308.0</td>\n",
       "      <td>-45.597553</td>\n",
       "    </tr>\n",
       "    <tr>\n",
       "      <th>9</th>\n",
       "      <td>Southwest Airlines Co.</td>\n",
       "      <td>16043.0</td>\n",
       "      <td>15165.0</td>\n",
       "      <td>5.789647</td>\n",
       "    </tr>\n",
       "    <tr>\n",
       "      <th>10</th>\n",
       "      <td>Spirit Air Lines</td>\n",
       "      <td>2004.0</td>\n",
       "      <td>0.0</td>\n",
       "      <td>inf</td>\n",
       "    </tr>\n",
       "    <tr>\n",
       "      <th>11</th>\n",
       "      <td>US Airways Inc.</td>\n",
       "      <td>4067.0</td>\n",
       "      <td>6737.0</td>\n",
       "      <td>-39.631884</td>\n",
       "    </tr>\n",
       "    <tr>\n",
       "      <th>12</th>\n",
       "      <td>United Air Lines Inc.</td>\n",
       "      <td>6573.0</td>\n",
       "      <td>7330.0</td>\n",
       "      <td>-10.327422</td>\n",
       "    </tr>\n",
       "    <tr>\n",
       "      <th>13</th>\n",
       "      <td>Virgin America</td>\n",
       "      <td>534.0</td>\n",
       "      <td>335.0</td>\n",
       "      <td>59.402985</td>\n",
       "    </tr>\n",
       "  </tbody>\n",
       "</table>\n",
       "</div>"
      ],
      "text/plain": [
       "                         airline  cancellations_current  \\\n",
       "0           Alaska Airlines Inc.                  669.0   \n",
       "1         American Airlines Inc.                10919.0   \n",
       "2   American Eagle Airlines Inc.                15025.0   \n",
       "3    Atlantic Southeast Airlines                15231.0   \n",
       "4           Delta Air Lines Inc.                 3824.0   \n",
       "5         Frontier Airlines Inc.                  588.0   \n",
       "6         Hawaiian Airlines Inc.                  171.0   \n",
       "7                JetBlue Airways                 4276.0   \n",
       "8          Skywest Airlines Inc.                 9960.0   \n",
       "9         Southwest Airlines Co.                16043.0   \n",
       "10              Spirit Air Lines                 2004.0   \n",
       "11               US Airways Inc.                 4067.0   \n",
       "12         United Air Lines Inc.                 6573.0   \n",
       "13                Virgin America                  534.0   \n",
       "\n",
       "    cancellations_previous    dev_abs  \n",
       "0                    759.0 -11.857708  \n",
       "1                   8457.0  29.111978  \n",
       "2                  21156.0 -28.979958  \n",
       "3                  34128.0 -55.370956  \n",
       "4                   6502.0 -41.187327  \n",
       "5                    357.0  64.705882  \n",
       "6                    158.0   8.227848  \n",
       "7                   6076.0 -29.624753  \n",
       "8                  18308.0 -45.597553  \n",
       "9                  15165.0   5.789647  \n",
       "10                     0.0        inf  \n",
       "11                  6737.0 -39.631884  \n",
       "12                  7330.0 -10.327422  \n",
       "13                   335.0  59.402985  "
      ]
     },
     "execution_count": 68,
     "metadata": {},
     "output_type": "execute_result"
    }
   ],
   "source": [
    "deviation_data"
   ]
  },
  {
   "cell_type": "code",
   "execution_count": 1,
   "metadata": {},
   "outputs": [
    {
     "ename": "NameError",
     "evalue": "name 'cancellations_summary' is not defined",
     "output_type": "error",
     "traceback": [
      "\u001b[1;31m---------------------------------------------------------------------------\u001b[0m",
      "\u001b[1;31mNameError\u001b[0m                                 Traceback (most recent call last)",
      "Cell \u001b[1;32mIn[1], line 1\u001b[0m\n\u001b[1;32m----> 1\u001b[0m \u001b[43mcancellations_summary\u001b[49m\n",
      "\u001b[1;31mNameError\u001b[0m: name 'cancellations_summary' is not defined"
     ]
    }
   ],
   "source": [
    "cancellations_summary"
   ]
  },
  {
   "cell_type": "code",
   "execution_count": 92,
   "metadata": {},
   "outputs": [
    {
     "data": {
      "application/vnd.plotly.v1+json": {
       "config": {
        "plotlyServerURL": "https://plot.ly"
       },
       "data": [
        {
         "alignmentgroup": "True",
         "hovertemplate": "cancellations=%{x}<br>airline=%{y}<br>formatted_cancellations=%{text}<extra></extra>",
         "legendgroup": "",
         "marker": {
          "color": "#49a9db",
          "pattern": {
           "shape": ""
          }
         },
         "name": "",
         "offsetgroup": "",
         "orientation": "h",
         "showlegend": false,
         "text": [
          "171",
          "534",
          "588",
          "669",
          "2.004",
          "3.824",
          "4.067",
          "4.276",
          "6.573",
          "9.960",
          "10.919",
          "15.025",
          "15.231",
          "16.043"
         ],
         "textposition": "outside",
         "type": "bar",
         "x": [
          171,
          534,
          588,
          669,
          2004,
          3824,
          4067,
          4276,
          6573,
          9960,
          10919,
          15025,
          15231,
          16043
         ],
         "xaxis": "x",
         "y": [
          "Hawaiian Airlines Inc.",
          "Virgin America",
          "Frontier Airlines Inc.",
          "Alaska Airlines Inc.",
          "Spirit Air Lines",
          "Delta Air Lines Inc.",
          "US Airways Inc.",
          "JetBlue Airways",
          "United Air Lines Inc.",
          "Skywest Airlines Inc.",
          "American Airlines Inc.",
          "American Eagle Airlines Inc.",
          "Atlantic Southeast Airlines",
          "Southwest Airlines Co."
         ],
         "yaxis": "y"
        }
       ],
       "layout": {
        "barmode": "relative",
        "height": 450,
        "legend": {
         "tracegroupgap": 0
        },
        "margin": {
         "t": 60
        },
        "plot_bgcolor": "rgba(0,0,0,0)",
        "template": {
         "data": {
          "bar": [
           {
            "error_x": {
             "color": "#2a3f5f"
            },
            "error_y": {
             "color": "#2a3f5f"
            },
            "marker": {
             "line": {
              "color": "#E5ECF6",
              "width": 0.5
             },
             "pattern": {
              "fillmode": "overlay",
              "size": 10,
              "solidity": 0.2
             }
            },
            "type": "bar"
           }
          ],
          "barpolar": [
           {
            "marker": {
             "line": {
              "color": "#E5ECF6",
              "width": 0.5
             },
             "pattern": {
              "fillmode": "overlay",
              "size": 10,
              "solidity": 0.2
             }
            },
            "type": "barpolar"
           }
          ],
          "carpet": [
           {
            "aaxis": {
             "endlinecolor": "#2a3f5f",
             "gridcolor": "white",
             "linecolor": "white",
             "minorgridcolor": "white",
             "startlinecolor": "#2a3f5f"
            },
            "baxis": {
             "endlinecolor": "#2a3f5f",
             "gridcolor": "white",
             "linecolor": "white",
             "minorgridcolor": "white",
             "startlinecolor": "#2a3f5f"
            },
            "type": "carpet"
           }
          ],
          "choropleth": [
           {
            "colorbar": {
             "outlinewidth": 0,
             "ticks": ""
            },
            "type": "choropleth"
           }
          ],
          "contour": [
           {
            "colorbar": {
             "outlinewidth": 0,
             "ticks": ""
            },
            "colorscale": [
             [
              0,
              "#0d0887"
             ],
             [
              0.1111111111111111,
              "#46039f"
             ],
             [
              0.2222222222222222,
              "#7201a8"
             ],
             [
              0.3333333333333333,
              "#9c179e"
             ],
             [
              0.4444444444444444,
              "#bd3786"
             ],
             [
              0.5555555555555556,
              "#d8576b"
             ],
             [
              0.6666666666666666,
              "#ed7953"
             ],
             [
              0.7777777777777778,
              "#fb9f3a"
             ],
             [
              0.8888888888888888,
              "#fdca26"
             ],
             [
              1,
              "#f0f921"
             ]
            ],
            "type": "contour"
           }
          ],
          "contourcarpet": [
           {
            "colorbar": {
             "outlinewidth": 0,
             "ticks": ""
            },
            "type": "contourcarpet"
           }
          ],
          "heatmap": [
           {
            "colorbar": {
             "outlinewidth": 0,
             "ticks": ""
            },
            "colorscale": [
             [
              0,
              "#0d0887"
             ],
             [
              0.1111111111111111,
              "#46039f"
             ],
             [
              0.2222222222222222,
              "#7201a8"
             ],
             [
              0.3333333333333333,
              "#9c179e"
             ],
             [
              0.4444444444444444,
              "#bd3786"
             ],
             [
              0.5555555555555556,
              "#d8576b"
             ],
             [
              0.6666666666666666,
              "#ed7953"
             ],
             [
              0.7777777777777778,
              "#fb9f3a"
             ],
             [
              0.8888888888888888,
              "#fdca26"
             ],
             [
              1,
              "#f0f921"
             ]
            ],
            "type": "heatmap"
           }
          ],
          "heatmapgl": [
           {
            "colorbar": {
             "outlinewidth": 0,
             "ticks": ""
            },
            "colorscale": [
             [
              0,
              "#0d0887"
             ],
             [
              0.1111111111111111,
              "#46039f"
             ],
             [
              0.2222222222222222,
              "#7201a8"
             ],
             [
              0.3333333333333333,
              "#9c179e"
             ],
             [
              0.4444444444444444,
              "#bd3786"
             ],
             [
              0.5555555555555556,
              "#d8576b"
             ],
             [
              0.6666666666666666,
              "#ed7953"
             ],
             [
              0.7777777777777778,
              "#fb9f3a"
             ],
             [
              0.8888888888888888,
              "#fdca26"
             ],
             [
              1,
              "#f0f921"
             ]
            ],
            "type": "heatmapgl"
           }
          ],
          "histogram": [
           {
            "marker": {
             "pattern": {
              "fillmode": "overlay",
              "size": 10,
              "solidity": 0.2
             }
            },
            "type": "histogram"
           }
          ],
          "histogram2d": [
           {
            "colorbar": {
             "outlinewidth": 0,
             "ticks": ""
            },
            "colorscale": [
             [
              0,
              "#0d0887"
             ],
             [
              0.1111111111111111,
              "#46039f"
             ],
             [
              0.2222222222222222,
              "#7201a8"
             ],
             [
              0.3333333333333333,
              "#9c179e"
             ],
             [
              0.4444444444444444,
              "#bd3786"
             ],
             [
              0.5555555555555556,
              "#d8576b"
             ],
             [
              0.6666666666666666,
              "#ed7953"
             ],
             [
              0.7777777777777778,
              "#fb9f3a"
             ],
             [
              0.8888888888888888,
              "#fdca26"
             ],
             [
              1,
              "#f0f921"
             ]
            ],
            "type": "histogram2d"
           }
          ],
          "histogram2dcontour": [
           {
            "colorbar": {
             "outlinewidth": 0,
             "ticks": ""
            },
            "colorscale": [
             [
              0,
              "#0d0887"
             ],
             [
              0.1111111111111111,
              "#46039f"
             ],
             [
              0.2222222222222222,
              "#7201a8"
             ],
             [
              0.3333333333333333,
              "#9c179e"
             ],
             [
              0.4444444444444444,
              "#bd3786"
             ],
             [
              0.5555555555555556,
              "#d8576b"
             ],
             [
              0.6666666666666666,
              "#ed7953"
             ],
             [
              0.7777777777777778,
              "#fb9f3a"
             ],
             [
              0.8888888888888888,
              "#fdca26"
             ],
             [
              1,
              "#f0f921"
             ]
            ],
            "type": "histogram2dcontour"
           }
          ],
          "mesh3d": [
           {
            "colorbar": {
             "outlinewidth": 0,
             "ticks": ""
            },
            "type": "mesh3d"
           }
          ],
          "parcoords": [
           {
            "line": {
             "colorbar": {
              "outlinewidth": 0,
              "ticks": ""
             }
            },
            "type": "parcoords"
           }
          ],
          "pie": [
           {
            "automargin": true,
            "type": "pie"
           }
          ],
          "scatter": [
           {
            "fillpattern": {
             "fillmode": "overlay",
             "size": 10,
             "solidity": 0.2
            },
            "type": "scatter"
           }
          ],
          "scatter3d": [
           {
            "line": {
             "colorbar": {
              "outlinewidth": 0,
              "ticks": ""
             }
            },
            "marker": {
             "colorbar": {
              "outlinewidth": 0,
              "ticks": ""
             }
            },
            "type": "scatter3d"
           }
          ],
          "scattercarpet": [
           {
            "marker": {
             "colorbar": {
              "outlinewidth": 0,
              "ticks": ""
             }
            },
            "type": "scattercarpet"
           }
          ],
          "scattergeo": [
           {
            "marker": {
             "colorbar": {
              "outlinewidth": 0,
              "ticks": ""
             }
            },
            "type": "scattergeo"
           }
          ],
          "scattergl": [
           {
            "marker": {
             "colorbar": {
              "outlinewidth": 0,
              "ticks": ""
             }
            },
            "type": "scattergl"
           }
          ],
          "scattermapbox": [
           {
            "marker": {
             "colorbar": {
              "outlinewidth": 0,
              "ticks": ""
             }
            },
            "type": "scattermapbox"
           }
          ],
          "scatterpolar": [
           {
            "marker": {
             "colorbar": {
              "outlinewidth": 0,
              "ticks": ""
             }
            },
            "type": "scatterpolar"
           }
          ],
          "scatterpolargl": [
           {
            "marker": {
             "colorbar": {
              "outlinewidth": 0,
              "ticks": ""
             }
            },
            "type": "scatterpolargl"
           }
          ],
          "scatterternary": [
           {
            "marker": {
             "colorbar": {
              "outlinewidth": 0,
              "ticks": ""
             }
            },
            "type": "scatterternary"
           }
          ],
          "surface": [
           {
            "colorbar": {
             "outlinewidth": 0,
             "ticks": ""
            },
            "colorscale": [
             [
              0,
              "#0d0887"
             ],
             [
              0.1111111111111111,
              "#46039f"
             ],
             [
              0.2222222222222222,
              "#7201a8"
             ],
             [
              0.3333333333333333,
              "#9c179e"
             ],
             [
              0.4444444444444444,
              "#bd3786"
             ],
             [
              0.5555555555555556,
              "#d8576b"
             ],
             [
              0.6666666666666666,
              "#ed7953"
             ],
             [
              0.7777777777777778,
              "#fb9f3a"
             ],
             [
              0.8888888888888888,
              "#fdca26"
             ],
             [
              1,
              "#f0f921"
             ]
            ],
            "type": "surface"
           }
          ],
          "table": [
           {
            "cells": {
             "fill": {
              "color": "#EBF0F8"
             },
             "line": {
              "color": "white"
             }
            },
            "header": {
             "fill": {
              "color": "#C8D4E3"
             },
             "line": {
              "color": "white"
             }
            },
            "type": "table"
           }
          ]
         },
         "layout": {
          "annotationdefaults": {
           "arrowcolor": "#2a3f5f",
           "arrowhead": 0,
           "arrowwidth": 1
          },
          "autotypenumbers": "strict",
          "coloraxis": {
           "colorbar": {
            "outlinewidth": 0,
            "ticks": ""
           }
          },
          "colorscale": {
           "diverging": [
            [
             0,
             "#8e0152"
            ],
            [
             0.1,
             "#c51b7d"
            ],
            [
             0.2,
             "#de77ae"
            ],
            [
             0.3,
             "#f1b6da"
            ],
            [
             0.4,
             "#fde0ef"
            ],
            [
             0.5,
             "#f7f7f7"
            ],
            [
             0.6,
             "#e6f5d0"
            ],
            [
             0.7,
             "#b8e186"
            ],
            [
             0.8,
             "#7fbc41"
            ],
            [
             0.9,
             "#4d9221"
            ],
            [
             1,
             "#276419"
            ]
           ],
           "sequential": [
            [
             0,
             "#0d0887"
            ],
            [
             0.1111111111111111,
             "#46039f"
            ],
            [
             0.2222222222222222,
             "#7201a8"
            ],
            [
             0.3333333333333333,
             "#9c179e"
            ],
            [
             0.4444444444444444,
             "#bd3786"
            ],
            [
             0.5555555555555556,
             "#d8576b"
            ],
            [
             0.6666666666666666,
             "#ed7953"
            ],
            [
             0.7777777777777778,
             "#fb9f3a"
            ],
            [
             0.8888888888888888,
             "#fdca26"
            ],
            [
             1,
             "#f0f921"
            ]
           ],
           "sequentialminus": [
            [
             0,
             "#0d0887"
            ],
            [
             0.1111111111111111,
             "#46039f"
            ],
            [
             0.2222222222222222,
             "#7201a8"
            ],
            [
             0.3333333333333333,
             "#9c179e"
            ],
            [
             0.4444444444444444,
             "#bd3786"
            ],
            [
             0.5555555555555556,
             "#d8576b"
            ],
            [
             0.6666666666666666,
             "#ed7953"
            ],
            [
             0.7777777777777778,
             "#fb9f3a"
            ],
            [
             0.8888888888888888,
             "#fdca26"
            ],
            [
             1,
             "#f0f921"
            ]
           ]
          },
          "colorway": [
           "#636efa",
           "#EF553B",
           "#00cc96",
           "#ab63fa",
           "#FFA15A",
           "#19d3f3",
           "#FF6692",
           "#B6E880",
           "#FF97FF",
           "#FECB52"
          ],
          "font": {
           "color": "#2a3f5f"
          },
          "geo": {
           "bgcolor": "white",
           "lakecolor": "white",
           "landcolor": "#E5ECF6",
           "showlakes": true,
           "showland": true,
           "subunitcolor": "white"
          },
          "hoverlabel": {
           "align": "left"
          },
          "hovermode": "closest",
          "mapbox": {
           "style": "light"
          },
          "paper_bgcolor": "white",
          "plot_bgcolor": "#E5ECF6",
          "polar": {
           "angularaxis": {
            "gridcolor": "white",
            "linecolor": "white",
            "ticks": ""
           },
           "bgcolor": "#E5ECF6",
           "radialaxis": {
            "gridcolor": "white",
            "linecolor": "white",
            "ticks": ""
           }
          },
          "scene": {
           "xaxis": {
            "backgroundcolor": "#E5ECF6",
            "gridcolor": "white",
            "gridwidth": 2,
            "linecolor": "white",
            "showbackground": true,
            "ticks": "",
            "zerolinecolor": "white"
           },
           "yaxis": {
            "backgroundcolor": "#E5ECF6",
            "gridcolor": "white",
            "gridwidth": 2,
            "linecolor": "white",
            "showbackground": true,
            "ticks": "",
            "zerolinecolor": "white"
           },
           "zaxis": {
            "backgroundcolor": "#E5ECF6",
            "gridcolor": "white",
            "gridwidth": 2,
            "linecolor": "white",
            "showbackground": true,
            "ticks": "",
            "zerolinecolor": "white"
           }
          },
          "shapedefaults": {
           "line": {
            "color": "#2a3f5f"
           }
          },
          "ternary": {
           "aaxis": {
            "gridcolor": "white",
            "linecolor": "white",
            "ticks": ""
           },
           "baxis": {
            "gridcolor": "white",
            "linecolor": "white",
            "ticks": ""
           },
           "bgcolor": "#E5ECF6",
           "caxis": {
            "gridcolor": "white",
            "linecolor": "white",
            "ticks": ""
           }
          },
          "title": {
           "x": 0.05
          },
          "xaxis": {
           "automargin": true,
           "gridcolor": "white",
           "linecolor": "white",
           "ticks": "",
           "title": {
            "standoff": 15
           },
           "zerolinecolor": "white",
           "zerolinewidth": 2
          },
          "yaxis": {
           "automargin": true,
           "gridcolor": "white",
           "linecolor": "white",
           "ticks": "",
           "title": {
            "standoff": 15
           },
           "zerolinecolor": "white",
           "zerolinewidth": 2
          }
         }
        },
        "title": {
         "text": "Stornierungen (\"cancellations\") nach Fluggesellschaften (\"airline\")"
        },
        "width": 700,
        "xaxis": {
         "anchor": "y",
         "domain": [
          0,
          1
         ],
         "range": [
          0,
          19251.6
         ],
         "showgrid": false,
         "showticklabels": false,
         "title": {
          "text": ""
         },
         "zeroline": false
        },
        "yaxis": {
         "anchor": "x",
         "domain": [
          0,
          1
         ],
         "showgrid": false,
         "showticklabels": true,
         "title": {
          "text": ""
         },
         "zeroline": false
        }
       }
      }
     },
     "metadata": {},
     "output_type": "display_data"
    }
   ],
   "source": [
    "import pandas as pd\n",
    "import plotly.express as px\n",
    "\n",
    "# Angenommen, `cancellations_summary` ist bereits definiert\n",
    "cancellations_sorted = cancellations_summary.groupby('airline', as_index=False)['cancellations'].sum().sort_values(by='cancellations', ascending=True)\n",
    "\n",
    "# Formatieren der 'cancellations' für das deutsche Zahlenformat (mit Punkt als Tausendertrennzeichen)\n",
    "cancellations_sorted['formatted_cancellations'] = cancellations_sorted['cancellations'].apply(lambda x: \"{:,.0f}\".format(x).replace(\",\", \".\"))\n",
    "\n",
    "# Visualisierung des DataFrames als liegendes Balkendiagramm mit Plotly Express\n",
    "fig = px.bar(\n",
    "    cancellations_sorted, \n",
    "    y='airline', \n",
    "    x='cancellations', \n",
    "    orientation='h', \n",
    "    color_discrete_sequence=['#49a9db'],  # Spezifische Farbe für die Balken\n",
    "    text='formatted_cancellations'  # Verwendet die vorformatierten Datenlabels\n",
    ")\n",
    "\n",
    "# Rahmen (Spines) entfernen und Layout anpassen\n",
    "fig.update_layout(\n",
    "    xaxis=dict(showgrid=False, zeroline=False, showticklabels=False),  # X-Achse anpassen\n",
    "    yaxis=dict(showgrid=False, zeroline=False),  # Y-Achse anpassen\n",
    "    plot_bgcolor='rgba(0,0,0,0)',  # Hintergrundfarbe des Plots\n",
    "    title_text='Stornierungen (\"cancellations\") nach Fluggesellschaften (\"airline\")',  # Titel hinzufügen\n",
    "    width=700,  # Breite des Diagramms\n",
    "    height=450  # Höhe des Diagramms\n",
    ")\n",
    "\n",
    "# Den maximalen Wert von 'cancellations' ermitteln/ Justierung der Beschriftung\n",
    "max_cancellations = cancellations_sorted['cancellations'].max()\n",
    "\n",
    "# Einen zusätzlichen Platz zum maximalen Wert hinzufügen, um Platz für Datenlabels zu schaffen\n",
    "padding = max_cancellations * 0.2  # Skalierungsfaktor\n",
    "\n",
    "# Textposition für die Datenlabels \n",
    "fig.update_traces(textposition='outside')\n",
    "\n",
    "# Diagramm-Layout anpassen, um den Bereich der x-Achse zu erweitern\n",
    "fig.update_layout(\n",
    "    xaxis=dict(\n",
    "        range=[0, max_cancellations + padding],  # Setze das Range-Ende auf den maximalen Wert plus Padding\n",
    "    )\n",
    ")\n",
    "\n",
    "# Aktualisiere das Layout, um Achsenbeschriftungen und Achsentitel zu entfernen\n",
    "fig.update_layout(\n",
    "    xaxis=dict(\n",
    "        showticklabels=False,  \n",
    "        title_text='',  \n",
    "    ),\n",
    "    yaxis=dict(\n",
    "        showticklabels=True,  \n",
    "        title_text='',  \n",
    "    )\n",
    ")\n",
    "\n",
    "\n",
    "# Diagramm anzeigen\n",
    "fig.show()\n",
    "\n",
    "\n",
    "\n"
   ]
  },
  {
   "cell_type": "markdown",
   "metadata": {},
   "source": [
    "**Gründe für Stornierungen**"
   ]
  },
  {
   "cell_type": "code",
   "execution_count": 30,
   "metadata": {},
   "outputs": [
    {
     "data": {
      "application/vnd.plotly.v1+json": {
       "config": {
        "plotlyServerURL": "https://plot.ly"
       },
       "data": [
        {
         "direction": "clockwise",
         "hole": 0.6,
         "hoverinfo": "label+percent",
         "hovertemplate": [
          "<b> %{label}</b><b> | Anzahl der Vorfälle nach Airline</b><br>Alaska Airlines Inc.: 334<br>American Airlines Inc.: 2879<br>American Eagle Airlines Inc.: 2475<br>Atlantic Southeast Airlines: 3604<br>Delta Air Lines Inc.: 594<br>Frontier Airlines Inc.: 308<br>Hawaiian Airlines Inc.: 170<br>JetBlue Airways: 883<br>Skywest Airlines Inc.: 3205<br>Southwest Airlines Co.: 6122<br>Spirit Air Lines: 654<br>US Airways Inc.: 1007<br>United Air Lines Inc.: 2870<br>Virgin America: 157<extra></extra>",
          "<b> %{label}</b><b> | Anzahl der Vorfälle nach Airline</b><br>Alaska Airlines Inc.: 18<br>American Airlines Inc.: 730<br>American Eagle Airlines Inc.: 3385<br>Atlantic Southeast Airlines: 6544<br>Delta Air Lines Inc.: 257<br>JetBlue Airways: 928<br>Skywest Airlines Inc.: 1216<br>Southwest Airlines Co.: 1066<br>Spirit Air Lines: 279<br>US Airways Inc.: 570<br>United Air Lines Inc.: 391<br>Virgin America: 365<extra></extra>",
          "<b> %{label}</b><b> | Anzahl der Vorfälle nach Airline</b><br>American Airlines Inc.: 4<br>American Eagle Airlines Inc.: 1<br>Atlantic Southeast Airlines: 1<br>JetBlue Airways: 1<br>Southwest Airlines Co.: 12<br>Spirit Air Lines: 3<extra></extra>",
          "<b> %{label}</b><b> | Anzahl der Vorfälle nach Airline</b><br>Alaska Airlines Inc.: 317<br>American Airlines Inc.: 7306<br>American Eagle Airlines Inc.: 9164<br>Atlantic Southeast Airlines: 5082<br>Delta Air Lines Inc.: 2973<br>Frontier Airlines Inc.: 280<br>Hawaiian Airlines Inc.: 1<br>JetBlue Airways: 2464<br>Skywest Airlines Inc.: 5539<br>Southwest Airlines Co.: 8843<br>Spirit Air Lines: 1068<br>US Airways Inc.: 2490<br>United Air Lines Inc.: 3312<br>Virgin America: 12<extra></extra>"
         ],
         "labels": [
          "Airline/ Carrier",
          "National Air System",
          "Security",
          "Weather"
         ],
         "marker": {
          "colors": [
           "rgba(236, 81, 26, 0.65)",
           "rgba(248, 125, 7, 0.65)",
           "rgba(255, 166, 0, 0.65)",
           "rgba(219, 13, 39, 0.65)"
          ]
         },
         "rotation": 194,
         "sort": false,
         "text": [
          "<b>Airline/ Carrier</b><br>25.262<br>(28.1 %)",
          "<b>National Air System</b><br>15.749<br>(17.5 %)",
          "<b>Security</b><br>22<br>(0.0 %)",
          "<b>Weather</b><br>48.851<br>(54.3 %)"
         ],
         "textfont": {
          "size": 13
         },
         "textinfo": "text",
         "type": "pie",
         "values": [
          25262,
          15749,
          22,
          48851
         ]
        }
       ],
       "layout": {
        "height": 400,
        "showlegend": false,
        "template": {
         "data": {
          "bar": [
           {
            "error_x": {
             "color": "#2a3f5f"
            },
            "error_y": {
             "color": "#2a3f5f"
            },
            "marker": {
             "line": {
              "color": "#E5ECF6",
              "width": 0.5
             },
             "pattern": {
              "fillmode": "overlay",
              "size": 10,
              "solidity": 0.2
             }
            },
            "type": "bar"
           }
          ],
          "barpolar": [
           {
            "marker": {
             "line": {
              "color": "#E5ECF6",
              "width": 0.5
             },
             "pattern": {
              "fillmode": "overlay",
              "size": 10,
              "solidity": 0.2
             }
            },
            "type": "barpolar"
           }
          ],
          "carpet": [
           {
            "aaxis": {
             "endlinecolor": "#2a3f5f",
             "gridcolor": "white",
             "linecolor": "white",
             "minorgridcolor": "white",
             "startlinecolor": "#2a3f5f"
            },
            "baxis": {
             "endlinecolor": "#2a3f5f",
             "gridcolor": "white",
             "linecolor": "white",
             "minorgridcolor": "white",
             "startlinecolor": "#2a3f5f"
            },
            "type": "carpet"
           }
          ],
          "choropleth": [
           {
            "colorbar": {
             "outlinewidth": 0,
             "ticks": ""
            },
            "type": "choropleth"
           }
          ],
          "contour": [
           {
            "colorbar": {
             "outlinewidth": 0,
             "ticks": ""
            },
            "colorscale": [
             [
              0,
              "#0d0887"
             ],
             [
              0.1111111111111111,
              "#46039f"
             ],
             [
              0.2222222222222222,
              "#7201a8"
             ],
             [
              0.3333333333333333,
              "#9c179e"
             ],
             [
              0.4444444444444444,
              "#bd3786"
             ],
             [
              0.5555555555555556,
              "#d8576b"
             ],
             [
              0.6666666666666666,
              "#ed7953"
             ],
             [
              0.7777777777777778,
              "#fb9f3a"
             ],
             [
              0.8888888888888888,
              "#fdca26"
             ],
             [
              1,
              "#f0f921"
             ]
            ],
            "type": "contour"
           }
          ],
          "contourcarpet": [
           {
            "colorbar": {
             "outlinewidth": 0,
             "ticks": ""
            },
            "type": "contourcarpet"
           }
          ],
          "heatmap": [
           {
            "colorbar": {
             "outlinewidth": 0,
             "ticks": ""
            },
            "colorscale": [
             [
              0,
              "#0d0887"
             ],
             [
              0.1111111111111111,
              "#46039f"
             ],
             [
              0.2222222222222222,
              "#7201a8"
             ],
             [
              0.3333333333333333,
              "#9c179e"
             ],
             [
              0.4444444444444444,
              "#bd3786"
             ],
             [
              0.5555555555555556,
              "#d8576b"
             ],
             [
              0.6666666666666666,
              "#ed7953"
             ],
             [
              0.7777777777777778,
              "#fb9f3a"
             ],
             [
              0.8888888888888888,
              "#fdca26"
             ],
             [
              1,
              "#f0f921"
             ]
            ],
            "type": "heatmap"
           }
          ],
          "heatmapgl": [
           {
            "colorbar": {
             "outlinewidth": 0,
             "ticks": ""
            },
            "colorscale": [
             [
              0,
              "#0d0887"
             ],
             [
              0.1111111111111111,
              "#46039f"
             ],
             [
              0.2222222222222222,
              "#7201a8"
             ],
             [
              0.3333333333333333,
              "#9c179e"
             ],
             [
              0.4444444444444444,
              "#bd3786"
             ],
             [
              0.5555555555555556,
              "#d8576b"
             ],
             [
              0.6666666666666666,
              "#ed7953"
             ],
             [
              0.7777777777777778,
              "#fb9f3a"
             ],
             [
              0.8888888888888888,
              "#fdca26"
             ],
             [
              1,
              "#f0f921"
             ]
            ],
            "type": "heatmapgl"
           }
          ],
          "histogram": [
           {
            "marker": {
             "pattern": {
              "fillmode": "overlay",
              "size": 10,
              "solidity": 0.2
             }
            },
            "type": "histogram"
           }
          ],
          "histogram2d": [
           {
            "colorbar": {
             "outlinewidth": 0,
             "ticks": ""
            },
            "colorscale": [
             [
              0,
              "#0d0887"
             ],
             [
              0.1111111111111111,
              "#46039f"
             ],
             [
              0.2222222222222222,
              "#7201a8"
             ],
             [
              0.3333333333333333,
              "#9c179e"
             ],
             [
              0.4444444444444444,
              "#bd3786"
             ],
             [
              0.5555555555555556,
              "#d8576b"
             ],
             [
              0.6666666666666666,
              "#ed7953"
             ],
             [
              0.7777777777777778,
              "#fb9f3a"
             ],
             [
              0.8888888888888888,
              "#fdca26"
             ],
             [
              1,
              "#f0f921"
             ]
            ],
            "type": "histogram2d"
           }
          ],
          "histogram2dcontour": [
           {
            "colorbar": {
             "outlinewidth": 0,
             "ticks": ""
            },
            "colorscale": [
             [
              0,
              "#0d0887"
             ],
             [
              0.1111111111111111,
              "#46039f"
             ],
             [
              0.2222222222222222,
              "#7201a8"
             ],
             [
              0.3333333333333333,
              "#9c179e"
             ],
             [
              0.4444444444444444,
              "#bd3786"
             ],
             [
              0.5555555555555556,
              "#d8576b"
             ],
             [
              0.6666666666666666,
              "#ed7953"
             ],
             [
              0.7777777777777778,
              "#fb9f3a"
             ],
             [
              0.8888888888888888,
              "#fdca26"
             ],
             [
              1,
              "#f0f921"
             ]
            ],
            "type": "histogram2dcontour"
           }
          ],
          "mesh3d": [
           {
            "colorbar": {
             "outlinewidth": 0,
             "ticks": ""
            },
            "type": "mesh3d"
           }
          ],
          "parcoords": [
           {
            "line": {
             "colorbar": {
              "outlinewidth": 0,
              "ticks": ""
             }
            },
            "type": "parcoords"
           }
          ],
          "pie": [
           {
            "automargin": true,
            "type": "pie"
           }
          ],
          "scatter": [
           {
            "fillpattern": {
             "fillmode": "overlay",
             "size": 10,
             "solidity": 0.2
            },
            "type": "scatter"
           }
          ],
          "scatter3d": [
           {
            "line": {
             "colorbar": {
              "outlinewidth": 0,
              "ticks": ""
             }
            },
            "marker": {
             "colorbar": {
              "outlinewidth": 0,
              "ticks": ""
             }
            },
            "type": "scatter3d"
           }
          ],
          "scattercarpet": [
           {
            "marker": {
             "colorbar": {
              "outlinewidth": 0,
              "ticks": ""
             }
            },
            "type": "scattercarpet"
           }
          ],
          "scattergeo": [
           {
            "marker": {
             "colorbar": {
              "outlinewidth": 0,
              "ticks": ""
             }
            },
            "type": "scattergeo"
           }
          ],
          "scattergl": [
           {
            "marker": {
             "colorbar": {
              "outlinewidth": 0,
              "ticks": ""
             }
            },
            "type": "scattergl"
           }
          ],
          "scattermapbox": [
           {
            "marker": {
             "colorbar": {
              "outlinewidth": 0,
              "ticks": ""
             }
            },
            "type": "scattermapbox"
           }
          ],
          "scatterpolar": [
           {
            "marker": {
             "colorbar": {
              "outlinewidth": 0,
              "ticks": ""
             }
            },
            "type": "scatterpolar"
           }
          ],
          "scatterpolargl": [
           {
            "marker": {
             "colorbar": {
              "outlinewidth": 0,
              "ticks": ""
             }
            },
            "type": "scatterpolargl"
           }
          ],
          "scatterternary": [
           {
            "marker": {
             "colorbar": {
              "outlinewidth": 0,
              "ticks": ""
             }
            },
            "type": "scatterternary"
           }
          ],
          "surface": [
           {
            "colorbar": {
             "outlinewidth": 0,
             "ticks": ""
            },
            "colorscale": [
             [
              0,
              "#0d0887"
             ],
             [
              0.1111111111111111,
              "#46039f"
             ],
             [
              0.2222222222222222,
              "#7201a8"
             ],
             [
              0.3333333333333333,
              "#9c179e"
             ],
             [
              0.4444444444444444,
              "#bd3786"
             ],
             [
              0.5555555555555556,
              "#d8576b"
             ],
             [
              0.6666666666666666,
              "#ed7953"
             ],
             [
              0.7777777777777778,
              "#fb9f3a"
             ],
             [
              0.8888888888888888,
              "#fdca26"
             ],
             [
              1,
              "#f0f921"
             ]
            ],
            "type": "surface"
           }
          ],
          "table": [
           {
            "cells": {
             "fill": {
              "color": "#EBF0F8"
             },
             "line": {
              "color": "white"
             }
            },
            "header": {
             "fill": {
              "color": "#C8D4E3"
             },
             "line": {
              "color": "white"
             }
            },
            "type": "table"
           }
          ]
         },
         "layout": {
          "annotationdefaults": {
           "arrowcolor": "#2a3f5f",
           "arrowhead": 0,
           "arrowwidth": 1
          },
          "autotypenumbers": "strict",
          "coloraxis": {
           "colorbar": {
            "outlinewidth": 0,
            "ticks": ""
           }
          },
          "colorscale": {
           "diverging": [
            [
             0,
             "#8e0152"
            ],
            [
             0.1,
             "#c51b7d"
            ],
            [
             0.2,
             "#de77ae"
            ],
            [
             0.3,
             "#f1b6da"
            ],
            [
             0.4,
             "#fde0ef"
            ],
            [
             0.5,
             "#f7f7f7"
            ],
            [
             0.6,
             "#e6f5d0"
            ],
            [
             0.7,
             "#b8e186"
            ],
            [
             0.8,
             "#7fbc41"
            ],
            [
             0.9,
             "#4d9221"
            ],
            [
             1,
             "#276419"
            ]
           ],
           "sequential": [
            [
             0,
             "#0d0887"
            ],
            [
             0.1111111111111111,
             "#46039f"
            ],
            [
             0.2222222222222222,
             "#7201a8"
            ],
            [
             0.3333333333333333,
             "#9c179e"
            ],
            [
             0.4444444444444444,
             "#bd3786"
            ],
            [
             0.5555555555555556,
             "#d8576b"
            ],
            [
             0.6666666666666666,
             "#ed7953"
            ],
            [
             0.7777777777777778,
             "#fb9f3a"
            ],
            [
             0.8888888888888888,
             "#fdca26"
            ],
            [
             1,
             "#f0f921"
            ]
           ],
           "sequentialminus": [
            [
             0,
             "#0d0887"
            ],
            [
             0.1111111111111111,
             "#46039f"
            ],
            [
             0.2222222222222222,
             "#7201a8"
            ],
            [
             0.3333333333333333,
             "#9c179e"
            ],
            [
             0.4444444444444444,
             "#bd3786"
            ],
            [
             0.5555555555555556,
             "#d8576b"
            ],
            [
             0.6666666666666666,
             "#ed7953"
            ],
            [
             0.7777777777777778,
             "#fb9f3a"
            ],
            [
             0.8888888888888888,
             "#fdca26"
            ],
            [
             1,
             "#f0f921"
            ]
           ]
          },
          "colorway": [
           "#636efa",
           "#EF553B",
           "#00cc96",
           "#ab63fa",
           "#FFA15A",
           "#19d3f3",
           "#FF6692",
           "#B6E880",
           "#FF97FF",
           "#FECB52"
          ],
          "font": {
           "color": "#2a3f5f"
          },
          "geo": {
           "bgcolor": "white",
           "lakecolor": "white",
           "landcolor": "#E5ECF6",
           "showlakes": true,
           "showland": true,
           "subunitcolor": "white"
          },
          "hoverlabel": {
           "align": "left"
          },
          "hovermode": "closest",
          "mapbox": {
           "style": "light"
          },
          "paper_bgcolor": "white",
          "plot_bgcolor": "#E5ECF6",
          "polar": {
           "angularaxis": {
            "gridcolor": "white",
            "linecolor": "white",
            "ticks": ""
           },
           "bgcolor": "#E5ECF6",
           "radialaxis": {
            "gridcolor": "white",
            "linecolor": "white",
            "ticks": ""
           }
          },
          "scene": {
           "xaxis": {
            "backgroundcolor": "#E5ECF6",
            "gridcolor": "white",
            "gridwidth": 2,
            "linecolor": "white",
            "showbackground": true,
            "ticks": "",
            "zerolinecolor": "white"
           },
           "yaxis": {
            "backgroundcolor": "#E5ECF6",
            "gridcolor": "white",
            "gridwidth": 2,
            "linecolor": "white",
            "showbackground": true,
            "ticks": "",
            "zerolinecolor": "white"
           },
           "zaxis": {
            "backgroundcolor": "#E5ECF6",
            "gridcolor": "white",
            "gridwidth": 2,
            "linecolor": "white",
            "showbackground": true,
            "ticks": "",
            "zerolinecolor": "white"
           }
          },
          "shapedefaults": {
           "line": {
            "color": "#2a3f5f"
           }
          },
          "ternary": {
           "aaxis": {
            "gridcolor": "white",
            "linecolor": "white",
            "ticks": ""
           },
           "baxis": {
            "gridcolor": "white",
            "linecolor": "white",
            "ticks": ""
           },
           "bgcolor": "#E5ECF6",
           "caxis": {
            "gridcolor": "white",
            "linecolor": "white",
            "ticks": ""
           }
          },
          "title": {
           "x": 0.05
          },
          "xaxis": {
           "automargin": true,
           "gridcolor": "white",
           "linecolor": "white",
           "ticks": "",
           "title": {
            "standoff": 15
           },
           "zerolinecolor": "white",
           "zerolinewidth": 2
          },
          "yaxis": {
           "automargin": true,
           "gridcolor": "white",
           "linecolor": "white",
           "ticks": "",
           "title": {
            "standoff": 15
           },
           "zerolinecolor": "white",
           "zerolinewidth": 2
          }
         }
        },
        "width": 450
       }
      }
     },
     "metadata": {},
     "output_type": "display_data"
    }
   ],
   "source": [
    "import pandas as pd\n",
    "import plotly.graph_objects as go\n",
    "\n",
    "# Daten vorbereiten und nach 'cancellations' sortieren\n",
    "sorted_data = cancellations_summary.groupby('cancellation_reason', as_index=False)['cancellations'].sum().sort_values(by='cancellations', ascending=False)\n",
    "sorted_data['percentage'] = (sorted_data['cancellations'] / sorted_data['cancellations'].sum() * 100).round(1)\n",
    "sorted_data['text'] = sorted_data.apply(lambda x: f\"{x['cancellation_reason']}<br>{x['cancellations']:,}\".replace(\",\", \".\") + f\"<br>({x['percentage']}%)\", axis=1)\n",
    "\n",
    "\n",
    "# Gruppierung der Fluggesellschaften und Berechnung der Gesamtanteile\n",
    "grouped_data = cancellations_summary.groupby(['cancellation_reason', 'airline'], as_index=False)['cancellations'].sum()\n",
    "hover_texts = grouped_data.groupby('cancellation_reason').apply(\n",
    "    lambda x: \"<br>\".join([f\"{row['airline']}: {row['cancellations']}\" for index, row in x.iterrows()])\n",
    ").reset_index(name='info')\n",
    "\n",
    "# Füge den vorbereiteten Hover-Text den ursprünglichen Daten hinzu\n",
    "final_data = cancellations_summary.groupby('cancellation_reason', as_index=False)['cancellations'].sum()\n",
    "final_data = final_data.merge(hover_texts, on='cancellation_reason', how='left')\n",
    "\n",
    "# Prozentwerte und formatierten Text zu 'final_data' hinzufügen\n",
    "final_data['percentage'] = (final_data['cancellations'] / final_data['cancellations'].sum() * 100).round(1)\n",
    "final_data['text'] = final_data.apply(lambda x: f\"<b>{x['cancellation_reason']}</b><br>{x['cancellations']:,}\".replace(\",\", \".\") + f\"<br>({x['percentage']} %)\", axis=1)\n",
    "\n",
    "\n",
    "# Farbschema mit Alpha-Wert\n",
    "colors_hex = [\"rgba(236, 81, 26, 0.65)\", \"rgba(248, 125, 7, 0.65)\", \n",
    "              \"rgba(255, 166, 0, 0.65)\", \"rgba(219, 13, 39, 0.65)\"]\n",
    "\n",
    "# Erstellung des Kreisdiagramms\n",
    "fig = go.Figure(data=[go.Pie(labels=final_data['cancellation_reason'], values=final_data['cancellations'],\n",
    "                             hoverinfo='label+percent', text=final_data['text'],  # Verwende 'final_data' für 'text'\n",
    "                             textinfo='text',\n",
    "                             marker=dict(colors=colors_hex),\n",
    "                             rotation=194,\n",
    "                             direction=\"clockwise\",\n",
    "                             hovertemplate=final_data['info'].apply(lambda x: f'<b> %{{label}}</b><b> | Anzahl der Vorfälle nach Airline</b><br>{x}<extra></extra>'),\n",
    "                             hole=.6,\n",
    "                             sort=False)])\n",
    "\n",
    "# Anpassen der Fontsize bei den Labels\n",
    "fig.update_traces(textfont_size=13) \n",
    "\n",
    "# Anpassen der Größe des Diagramms und Legende entfernen\n",
    "fig.update_layout(width=450, height=400, showlegend=False)\n",
    "\n",
    "\n",
    "# Diagramm anzeigen\n",
    "fig.show()"
   ]
  },
  {
   "cell_type": "code",
   "execution_count": 48,
   "metadata": {},
   "outputs": [],
   "source": [
    "import pandas as pd\n",
    "import pygwalker as pyg"
   ]
  },
  {
   "cell_type": "code",
   "execution_count": 49,
   "metadata": {},
   "outputs": [
    {
     "data": {
      "application/vnd.jupyter.widget-view+json": {
       "model_id": "e8a341237e12435989a534c687562cd1",
       "version_major": 2,
       "version_minor": 0
      },
      "text/plain": [
       "Box(children=(HTML(value='<div id=\"ifr-pyg-0006159177f9ec91MTPaZlujANx4bryq\" style=\"height: auto\">\\n    <head>…"
      ]
     },
     "metadata": {},
     "output_type": "display_data"
    },
    {
     "data": {
      "text/html": [],
      "text/plain": [
       "<IPython.core.display.HTML object>"
      ]
     },
     "metadata": {},
     "output_type": "display_data"
    }
   ],
   "source": [
    "walker = pyg.walk(cancellations_df)"
   ]
  },
  {
   "cell_type": "markdown",
   "metadata": {},
   "source": [
    "## **Erstellen einer Streamlit-Anwendung**"
   ]
  },
  {
   "cell_type": "markdown",
   "metadata": {},
   "source": [
    "Da es einigen konfigurativen Aufwand bedeutet, eine Streamlit-App aus einem Jupyter-Notebook heraus zu starten, wird eine eigene py-Datei dafür aufgesetzt, die sich leichter als Streamlit-App deployen lässt. "
   ]
  }
 ],
 "metadata": {
  "kernelspec": {
   "display_name": "base",
   "language": "python",
   "name": "python3"
  },
  "language_info": {
   "codemirror_mode": {
    "name": "ipython",
    "version": 3
   },
   "file_extension": ".py",
   "mimetype": "text/x-python",
   "name": "python",
   "nbconvert_exporter": "python",
   "pygments_lexer": "ipython3",
   "version": "3.10.14"
  }
 },
 "nbformat": 4,
 "nbformat_minor": 2
}
