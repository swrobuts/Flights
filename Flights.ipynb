{
 "cells": [
  {
   "cell_type": "markdown",
   "metadata": {},
   "source": [
    "<p style='color: darkorange; font-size: 2.5em; font-weight: bold; text-align: left;'>\n",
    "    Verarbeiten großer Datenbestände mit DuckDB 🦆</p>"
   ]
  },
  {
   "cell_type": "markdown",
   "metadata": {},
   "source": [
    "### **Installation von DuckDB und Verbindung zu DuckDB (hier in-Memory-Verarbeitung)**"
   ]
  },
  {
   "cell_type": "code",
   "execution_count": 1,
   "metadata": {},
   "outputs": [],
   "source": [
    "%%capture\n",
    "%pip install duckdb"
   ]
  },
  {
   "cell_type": "code",
   "execution_count": 2,
   "metadata": {},
   "outputs": [],
   "source": [
    "import duckdb\n",
    "\n",
    "# Verbindung zur in-memory DuckDB-Datenbank (':memory:') herstellen; Voraussetzung: DuckDB muss installiert sein, ':memory:' muss als Vorgabe so gesetzt sein\n",
    "conn = duckdb.connect(':memory:')"
   ]
  },
  {
   "cell_type": "markdown",
   "metadata": {},
   "source": [
    "### **Inspektion der Daten via SQL**"
   ]
  },
  {
   "cell_type": "code",
   "execution_count": 3,
   "metadata": {},
   "outputs": [
    {
     "name": "stdout",
     "output_type": "stream",
     "text": [
      "('IATA_CODE', 'VARCHAR', 'YES', None, None, None)\n",
      "('AIRPORT', 'VARCHAR', 'YES', None, None, None)\n",
      "('CITY', 'VARCHAR', 'YES', None, None, None)\n",
      "('STATE', 'VARCHAR', 'YES', None, None, None)\n",
      "('COUNTRY', 'VARCHAR', 'YES', None, None, None)\n",
      "('LATITUDE', 'DOUBLE', 'YES', None, None, None)\n",
      "('LONGITUDE', 'DOUBLE', 'YES', None, None, None)\n"
     ]
    }
   ],
   "source": [
    "# Inspektion der Daten und Test der Verbindung zur Datenquelle, die über die untere URL zu erreichen ist\n",
    "result = conn.execute(\"\"\"\n",
    "DESCRIBE SELECT * FROM 'https://media.githubusercontent.com/media/swrobuts/Flights/main/airports.csv';\n",
    "\"\"\").fetchall()\n",
    "\n",
    "# Ausgabe des Ergebnisses\n",
    "for row in result:\n",
    "    print(row)"
   ]
  },
  {
   "cell_type": "markdown",
   "metadata": {},
   "source": [
    "### **Aufbau und Befüllen der Tabelle `airports`**"
   ]
  },
  {
   "cell_type": "code",
   "execution_count": 4,
   "metadata": {},
   "outputs": [
    {
     "data": {
      "text/html": [
       "<div>\n",
       "<style scoped>\n",
       "    .dataframe tbody tr th:only-of-type {\n",
       "        vertical-align: middle;\n",
       "    }\n",
       "\n",
       "    .dataframe tbody tr th {\n",
       "        vertical-align: top;\n",
       "    }\n",
       "\n",
       "    .dataframe thead th {\n",
       "        text-align: right;\n",
       "    }\n",
       "</style>\n",
       "<table border=\"1\" class=\"dataframe\">\n",
       "  <thead>\n",
       "    <tr style=\"text-align: right;\">\n",
       "      <th></th>\n",
       "      <th>airport_id</th>\n",
       "      <th>iata_code</th>\n",
       "      <th>airport</th>\n",
       "      <th>city</th>\n",
       "      <th>state</th>\n",
       "      <th>country</th>\n",
       "      <th>latitude</th>\n",
       "      <th>longitude</th>\n",
       "    </tr>\n",
       "  </thead>\n",
       "  <tbody>\n",
       "    <tr>\n",
       "      <th>0</th>\n",
       "      <td>86</td>\n",
       "      <td>AEX</td>\n",
       "      <td>Alexandria International Airport</td>\n",
       "      <td>Alexandria</td>\n",
       "      <td>LA</td>\n",
       "      <td>USA</td>\n",
       "      <td>31.32737</td>\n",
       "      <td>-92.54856</td>\n",
       "    </tr>\n",
       "    <tr>\n",
       "      <th>1</th>\n",
       "      <td>87</td>\n",
       "      <td>ALB</td>\n",
       "      <td>Albany International Airport</td>\n",
       "      <td>Albany</td>\n",
       "      <td>NY</td>\n",
       "      <td>USA</td>\n",
       "      <td>42.74812</td>\n",
       "      <td>-73.80298</td>\n",
       "    </tr>\n",
       "    <tr>\n",
       "      <th>2</th>\n",
       "      <td>88</td>\n",
       "      <td>ALO</td>\n",
       "      <td>Waterloo Regional Airport</td>\n",
       "      <td>Waterloo</td>\n",
       "      <td>IA</td>\n",
       "      <td>USA</td>\n",
       "      <td>42.55708</td>\n",
       "      <td>-92.40034</td>\n",
       "    </tr>\n",
       "    <tr>\n",
       "      <th>3</th>\n",
       "      <td>89</td>\n",
       "      <td>ANC</td>\n",
       "      <td>Ted Stevens Anchorage International Airport</td>\n",
       "      <td>Anchorage</td>\n",
       "      <td>AK</td>\n",
       "      <td>USA</td>\n",
       "      <td>61.17432</td>\n",
       "      <td>-149.99619</td>\n",
       "    </tr>\n",
       "    <tr>\n",
       "      <th>4</th>\n",
       "      <td>90</td>\n",
       "      <td>ATW</td>\n",
       "      <td>Appleton International Airport</td>\n",
       "      <td>Appleton</td>\n",
       "      <td>WI</td>\n",
       "      <td>USA</td>\n",
       "      <td>44.25741</td>\n",
       "      <td>-88.51948</td>\n",
       "    </tr>\n",
       "  </tbody>\n",
       "</table>\n",
       "</div>"
      ],
      "text/plain": [
       "   airport_id iata_code                                      airport  \\\n",
       "0          86       AEX             Alexandria International Airport   \n",
       "1          87       ALB                 Albany International Airport   \n",
       "2          88       ALO                    Waterloo Regional Airport   \n",
       "3          89       ANC  Ted Stevens Anchorage International Airport   \n",
       "4          90       ATW               Appleton International Airport   \n",
       "\n",
       "         city state country  latitude  longitude  \n",
       "0  Alexandria    LA     USA  31.32737  -92.54856  \n",
       "1      Albany    NY     USA  42.74812  -73.80298  \n",
       "2    Waterloo    IA     USA  42.55708  -92.40034  \n",
       "3   Anchorage    AK     USA  61.17432 -149.99619  \n",
       "4    Appleton    WI     USA  44.25741  -88.51948  "
      ]
     },
     "execution_count": 4,
     "metadata": {},
     "output_type": "execute_result"
    }
   ],
   "source": [
    "import pandas as pd\n",
    "\n",
    "# Verbindung zur in-memory DuckDB-Datenbank herstellen; Voraussetzung: DuckDB muss installiert sein\n",
    "conn = duckdb.connect(':memory:')\n",
    "\n",
    "# Sequenz und Tabelle \"airports\" erstellen\n",
    "conn.execute(\"\"\"\n",
    "CREATE SEQUENCE IF NOT EXISTS airport_id\n",
    "INCREMENT BY 1 MINVALUE 0;\n",
    "\"\"\")\n",
    "\n",
    "conn.execute(\"\"\"\n",
    "CREATE TABLE IF NOT EXISTS airports (\n",
    "    airport_id INTEGER PRIMARY KEY DEFAULT(nextval('airport_id')),\n",
    "    iata_code VARCHAR(5),\n",
    "    airport VARCHAR(255),\n",
    "    city VARCHAR(255),\n",
    "    state VARCHAR(255),\n",
    "    country VARCHAR(255),\n",
    "    latitude DOUBLE,\n",
    "    longitude DOUBLE,\n",
    "    CONSTRAINT airport_id UNIQUE (airport_id)\n",
    ");\n",
    "\"\"\")\n",
    "\n",
    "# Befüllen der angelegten Tabelle bzw. Relation \"airports\" aus der csv-Datei\n",
    "conn.execute(\"\"\"\n",
    "INSERT INTO airports(\"iata_code\", \"airport\",\"city\",\"state\",\"country\",\"latitude\",\"longitude\")\n",
    "SELECT DISTINCT \"IATA_CODE\", \"AIRPORT\", \"CITY\", \"STATE\",\"COUNTRY\",\"LATITUDE\",\"LONGITUDE\"\n",
    "FROM 'https://media.githubusercontent.com/media/swrobuts/Flights/main/airports.csv';\n",
    "\"\"\")\n",
    "\n",
    "# Überführt die Daten aus der Relation \"airports\" in ein pandas DataFrame\n",
    "airports_df = conn.execute(\"SELECT * FROM airports;\").df()\n",
    "\n",
    "# Einige Daten aus der Tabelle \"airports\" abfragen, um zu testen\n",
    "airports_df.head()"
   ]
  },
  {
   "cell_type": "markdown",
   "metadata": {},
   "source": [
    "### **Aufbau und Befüllen der Tabelle `airlines`**"
   ]
  },
  {
   "cell_type": "code",
   "execution_count": 5,
   "metadata": {},
   "outputs": [
    {
     "data": {
      "text/html": [
       "<div>\n",
       "<style scoped>\n",
       "    .dataframe tbody tr th:only-of-type {\n",
       "        vertical-align: middle;\n",
       "    }\n",
       "\n",
       "    .dataframe tbody tr th {\n",
       "        vertical-align: top;\n",
       "    }\n",
       "\n",
       "    .dataframe thead th {\n",
       "        text-align: right;\n",
       "    }\n",
       "</style>\n",
       "<table border=\"1\" class=\"dataframe\">\n",
       "  <thead>\n",
       "    <tr style=\"text-align: right;\">\n",
       "      <th></th>\n",
       "      <th>airline_id</th>\n",
       "      <th>iata_code</th>\n",
       "      <th>airline</th>\n",
       "    </tr>\n",
       "  </thead>\n",
       "  <tbody>\n",
       "    <tr>\n",
       "      <th>0</th>\n",
       "      <td>107</td>\n",
       "      <td>NK</td>\n",
       "      <td>Spirit Air Lines</td>\n",
       "    </tr>\n",
       "    <tr>\n",
       "      <th>1</th>\n",
       "      <td>108</td>\n",
       "      <td>MQ</td>\n",
       "      <td>American Eagle Airlines Inc.</td>\n",
       "    </tr>\n",
       "    <tr>\n",
       "      <th>2</th>\n",
       "      <td>100</td>\n",
       "      <td>F9</td>\n",
       "      <td>Frontier Airlines Inc.</td>\n",
       "    </tr>\n",
       "    <tr>\n",
       "      <th>3</th>\n",
       "      <td>101</td>\n",
       "      <td>OO</td>\n",
       "      <td>Skywest Airlines Inc.</td>\n",
       "    </tr>\n",
       "    <tr>\n",
       "      <th>4</th>\n",
       "      <td>102</td>\n",
       "      <td>AA</td>\n",
       "      <td>American Airlines Inc.</td>\n",
       "    </tr>\n",
       "  </tbody>\n",
       "</table>\n",
       "</div>"
      ],
      "text/plain": [
       "   airline_id iata_code                       airline\n",
       "0         107        NK              Spirit Air Lines\n",
       "1         108        MQ  American Eagle Airlines Inc.\n",
       "2         100        F9        Frontier Airlines Inc.\n",
       "3         101        OO         Skywest Airlines Inc.\n",
       "4         102        AA        American Airlines Inc."
      ]
     },
     "execution_count": 5,
     "metadata": {},
     "output_type": "execute_result"
    }
   ],
   "source": [
    "# Anlegen und Befüllen der Tabelle \"airlines\"\n",
    "conn.execute(\"\"\"\n",
    "CREATE SEQUENCE IF NOT EXISTS \"airline_id\"\n",
    "INCREMENT BY 1 MINVALUE 100;\n",
    "\n",
    "CREATE TABLE IF NOT EXISTS airlines\n",
    "(\n",
    "    \"airline_id\" INTEGER PRIMARY KEY DEFAULT(nextval('airline_id')),\n",
    "    \"iata_code\" VARCHAR(10),\n",
    "    \"airline\" VARCHAR(255),\n",
    "    CONSTRAINT \"airline_id\" UNIQUE (\"airline_id\")\n",
    "    );\n",
    "\n",
    "--- Befüllen der angelegten Tabelle \"airlines\"\n",
    "INSERT INTO airlines(\"iata_code\",\"airline\")\n",
    "SELECT DISTINCT \"IATA_CODE\", \"AIRLINE\"\n",
    "FROM read_csv('https://media.githubusercontent.com/media/swrobuts/Flights/main/airlines.csv', \n",
    "              delim = ',',\n",
    "              header = true,\n",
    "              Columns = {\n",
    "              'IATA_CODE': 'VARCHAR(5)',\n",
    "              'AIRLINE': 'VARCHAR(255)'\n",
    "              })\n",
    "\"\"\")\n",
    "\n",
    "# Überführt die Daten aus der Relation \"airlines\" in ein pandas DataFrame\n",
    "airlines_df = conn.execute(\"SELECT * FROM airlines;\").df()\n",
    "\n",
    "# Einige Daten aus der Tabelle \"airlines\" abfragen, um zu testen\n",
    "airlines_df.head()"
   ]
  },
  {
   "cell_type": "markdown",
   "metadata": {},
   "source": [
    "### **Anlegen und Befüllen der Tabelle `cancellation_reasons`**"
   ]
  },
  {
   "cell_type": "code",
   "execution_count": 6,
   "metadata": {},
   "outputs": [
    {
     "data": {
      "text/html": [
       "<div>\n",
       "<style scoped>\n",
       "    .dataframe tbody tr th:only-of-type {\n",
       "        vertical-align: middle;\n",
       "    }\n",
       "\n",
       "    .dataframe tbody tr th {\n",
       "        vertical-align: top;\n",
       "    }\n",
       "\n",
       "    .dataframe thead th {\n",
       "        text-align: right;\n",
       "    }\n",
       "</style>\n",
       "<table border=\"1\" class=\"dataframe\">\n",
       "  <thead>\n",
       "    <tr style=\"text-align: right;\">\n",
       "      <th></th>\n",
       "      <th>cr_id</th>\n",
       "      <th>reason</th>\n",
       "      <th>shortcut</th>\n",
       "    </tr>\n",
       "  </thead>\n",
       "  <tbody>\n",
       "    <tr>\n",
       "      <th>0</th>\n",
       "      <td>90</td>\n",
       "      <td>Airline/ Carrier</td>\n",
       "      <td>A</td>\n",
       "    </tr>\n",
       "    <tr>\n",
       "      <th>1</th>\n",
       "      <td>80</td>\n",
       "      <td>Weather</td>\n",
       "      <td>B</td>\n",
       "    </tr>\n",
       "    <tr>\n",
       "      <th>2</th>\n",
       "      <td>70</td>\n",
       "      <td>National Air System</td>\n",
       "      <td>C</td>\n",
       "    </tr>\n",
       "    <tr>\n",
       "      <th>3</th>\n",
       "      <td>60</td>\n",
       "      <td>Security</td>\n",
       "      <td>D</td>\n",
       "    </tr>\n",
       "    <tr>\n",
       "      <th>4</th>\n",
       "      <td>0</td>\n",
       "      <td>Keine Stornierung</td>\n",
       "      <td>No</td>\n",
       "    </tr>\n",
       "  </tbody>\n",
       "</table>\n",
       "</div>"
      ],
      "text/plain": [
       "   cr_id               reason shortcut\n",
       "0     90     Airline/ Carrier        A\n",
       "1     80              Weather        B\n",
       "2     70  National Air System        C\n",
       "3     60             Security        D\n",
       "4      0    Keine Stornierung       No"
      ]
     },
     "execution_count": 6,
     "metadata": {},
     "output_type": "execute_result"
    }
   ],
   "source": [
    "## Anlegen der Tabelle \"cancellation_reasons\"\n",
    "conn.execute(\"\"\"\n",
    "CREATE TABLE IF NOT EXISTS cancellation_reasons\n",
    "(\n",
    "    \"cr_id\" INTEGER PRIMARY KEY,\n",
    "    \"reason\" VARCHAR(255),\n",
    "    \"shortcut\" VARCHAR(5),\n",
    ");\n",
    "\n",
    "-- Manuelles Befüllen der Tabelle \"cancellations_reasons\", die IDs für den Primary Key sind willkürlich, sie müssen aber unterschiedlich sein\n",
    "INSERT INTO cancellation_reasons\n",
    "VALUES\n",
    "(90, 'Airline/ Carrier', 'A'),\n",
    "(80,'Weather', 'B'),\n",
    "(70,'National Air System', 'C'),\n",
    "(60,'Security', 'D'),\n",
    "(0, 'Keine Stornierung', 'No');\n",
    "\"\"\")\n",
    "\n",
    "# Überführt die Daten aus der angelegten Relation in ein pandas DataFrame\n",
    "cancellation_reasons_df = conn.execute(\"SELECT * FROM cancellation_reasons;\").df()\n",
    "\n",
    "# Testabfrage\n",
    "cancellation_reasons_df.head()"
   ]
  },
  {
   "cell_type": "markdown",
   "metadata": {},
   "source": [
    "### **Anlegen und Befüllen der Tabelle `flights`**"
   ]
  },
  {
   "cell_type": "code",
   "execution_count": 7,
   "metadata": {},
   "outputs": [
    {
     "data": {
      "application/vnd.jupyter.widget-view+json": {
       "model_id": "78755dfe70ac452bb0af0bf2e2d1ae59",
       "version_major": 2,
       "version_minor": 0
      },
      "text/plain": [
       "FloatProgress(value=0.0, layout=Layout(width='auto'), style=ProgressStyle(bar_color='black'))"
      ]
     },
     "metadata": {},
     "output_type": "display_data"
    },
    {
     "data": {
      "text/plain": [
       "<duckdb.duckdb.DuckDBPyConnection at 0x276518637f0>"
      ]
     },
     "execution_count": 7,
     "metadata": {},
     "output_type": "execute_result"
    }
   ],
   "source": [
    "# Anlegen der Tabelle \"flights\"\n",
    "conn.execute(\"\"\"\n",
    "CREATE SEQUENCE IF NOT EXISTS \"flight_id\"\n",
    "INCREMENT BY 1 MINVALUE 0;\n",
    "\n",
    "CREATE TABLE IF NOT EXISTS flights \n",
    "(   \"flight_id\" INTEGER PRIMARY KEY DEFAULT(nextval('flight_id')),\n",
    "    \"year\" INTEGER,\n",
    "    \"month\" INTEGER,\n",
    "    \"day\" INTEGER,\n",
    "    \"day_of_week\" INTEGER,\n",
    "    \"airline\" VARCHAR(10),\n",
    "    \"flight_number\" VARCHAR(255),\n",
    "    \"tail_number\" VARCHAR(255),\n",
    "    \"origin_airport\" VARCHAR(10),\n",
    "    \"destination_airport\" VARCHAR(10),\n",
    "    \"scheduled_departure\" VARCHAR(255),\n",
    "    \"departure_time\" VARCHAR(255),\n",
    "    \"departure_delay\" INTEGER,\n",
    "    \"taxi_out\" INTEGER,\n",
    "    \"wheels_off\" VARCHAR(255),\n",
    "    \"scheduled_time\" INTEGER,\n",
    "    \"elapsed_time\" INTEGER,\n",
    "    \"air_time\" INTEGER,\n",
    "    \"distance\" INTEGER,\n",
    "    \"wheels_on\" VARCHAR(255),\n",
    "    \"taxi_in\" INTEGER,\n",
    "    \"scheduled_arrival\" VARCHAR(255),\n",
    "    \"arrival_time\" VARCHAR(255),\n",
    "    \"arrival_delay\" INTEGER,\n",
    "    \"diverted\" INTEGER,\n",
    "    \"cancelled\" INTEGER,\n",
    "    \"cancellation_reason\" VARCHAR(255),\n",
    "    \"air_system_delay\" INTEGER,\n",
    "    \"security_delay\" INTEGER,\n",
    "    \"airline_delay\" INTEGER,\n",
    "    \"late_aircraft_delay\" INTEGER,\n",
    "    \"weather_delay\" INTEGER,\n",
    "    CONSTRAINT \"flight_id\" UNIQUE (\"flight_id\")\n",
    ");\n",
    "\"\"\")\n",
    "\n",
    "# Befüllen der Tabelle aus \"flights.csv\". Die Daten werden nicht über http aus Performance-Gründen, sondern über eine\n",
    "# lokale csv-Datei geladen. Sie müssen den Pfad entsprechend dem Ihrigen anpassen\n",
    "conn.execute(\"\"\"\n",
    "INSERT INTO flights\n",
    "(\n",
    "\"year\",\n",
    "\"month\",\n",
    "\"day\",\n",
    "\"day_of_week\",\n",
    "\"airline\",\n",
    "\"flight_number\",\n",
    "\"tail_number\",\n",
    "\"origin_airport\",\n",
    "\"destination_airport\",\n",
    "\"scheduled_departure\",\n",
    "\"departure_time\",\n",
    "\"departure_delay\",\n",
    "\"taxi_out\",\n",
    "\"wheels_off\",\n",
    "\"scheduled_time\",\n",
    "\"elapsed_time\",\n",
    "\"air_time\",\n",
    "\"distance\",\n",
    "\"wheels_on\",\n",
    "\"taxi_in\",\n",
    "\"scheduled_arrival\",\n",
    "\"arrival_time\",\n",
    "\"arrival_delay\",\n",
    "\"diverted\",\n",
    "\"cancelled\",\n",
    "\"cancellation_reason\",\n",
    "\"air_system_delay\",\n",
    "\"security_delay\",\n",
    "\"airline_delay\",\n",
    "\"late_aircraft_delay\",\n",
    "\"weather_delay\"\n",
    ")\n",
    "SELECT \n",
    "\"YEAR\",\n",
    "\"MONTH\",\n",
    "\"DAY\",\n",
    "\"DAY_OF_WEEK\",\n",
    "\"AIRLINE\",\n",
    "\"FLIGHT_NUMBER\",\n",
    "\"TAIL_NUMBER\",\n",
    "\"ORIGIN_AIRPORT\",\n",
    "\"DESTINATION_AIRPORT\",\n",
    "\"SCHEDULED_DEPARTURE\",\n",
    "\"DEPARTURE_TIME\",\n",
    "\"DEPARTURE_DELAY\",\n",
    "\"TAXI_OUT\",\n",
    "\"WHEELS_OFF\",\n",
    "\"SCHEDULED_TIME\",\n",
    "\"ELAPSED_TIME\",\n",
    "\"AIR_TIME\",\n",
    "\"DISTANCE\",\n",
    "\"WHEELS_ON\",\n",
    "\"TAXI_IN\",\n",
    "\"SCHEDULED_ARRIVAL\",\n",
    "\"ARRIVAL_TIME\",\n",
    "\"ARRIVAL_DELAY\",\n",
    "\"DIVERTED\",\n",
    "\"CANCELLED\",\n",
    "\"CANCELLATION_REASON\",\n",
    "\"AIR_SYSTEM_DELAY\",\n",
    "\"SECURITY_DELAY\",\n",
    "\"AIRLINE_DELAY\",\n",
    "\"LATE_AIRCRAFT_DELAY\",\n",
    "\"WEATHER_DELAY\"\n",
    "FROM read_csv_auto(\"C:/Users/rober/OneDrive/Vorlesungen/Datenbasierte Fallstudien/Visualisierungen/Flights/Flights/flights.csv\");\n",
    "\"\"\")"
   ]
  },
  {
   "cell_type": "markdown",
   "metadata": {},
   "source": [
    "### **Anlegen und Befüllen der Tabelle `time`**"
   ]
  },
  {
   "cell_type": "code",
   "execution_count": 8,
   "metadata": {},
   "outputs": [
    {
     "data": {
      "text/plain": [
       "<duckdb.duckdb.DuckDBPyConnection at 0x276518637f0>"
      ]
     },
     "execution_count": 8,
     "metadata": {},
     "output_type": "execute_result"
    }
   ],
   "source": [
    "# \"date\"\" als eigene Spalte in \"flights\" anlegen und Befüllen der Spalte \"date\" mit einem qualifizierten Datum in Notation \"YYYY-MM-DD\"\n",
    "conn.execute(\"\"\"\n",
    "ALTER TABLE flights\n",
    "ADD COLUMN IF NOT EXISTS \"date\" DATE;\n",
    "             \n",
    "UPDATE flights\n",
    "SET date = MAKE_DATE(\"year\", \"month\", \"day\");             \n",
    "\"\"\")\n",
    "\n",
    "# Anlegen der Tabelle \"time\" als eigenständige Zeit-Dimension\n",
    "conn.execute(\"\"\"\n",
    "    CREATE TABLE IF NOT EXISTS \"time\" (\n",
    "    \"date\" DATE,\n",
    "    \"year\" INTEGER,\n",
    "    \"month\" INTEGER,\n",
    "    \"quarter\" INTEGER,\n",
    "    \"week\" INTEGER,\n",
    "    \"weekday\" INTEGER,\n",
    "    \"weekday_name\" VARCHAR(255),\n",
    "    \"quarter_name\" VARCHAR(255),\n",
    "    \"month_name\" VARCHAR(255),\n",
    "    \"week_name\" VARCHAR(255)\n",
    ");\n",
    "\n",
    "-- Befüllen der Tabelle aus der Spalte date\n",
    "INSERT INTO time (\"date\", \"year\", \"month\", \"quarter\", \"week\", \"weekday\", \"weekday_name\", \"quarter_name\", \"month_name\", \"week_name\")\n",
    "SELECT \n",
    "    DISTINCT \"date\",\n",
    "    EXTRACT(YEAR FROM \"date\") AS \"year\",\n",
    "    EXTRACT(MONTH FROM \"date\") AS \"month\",\n",
    "    EXTRACT(QUARTER FROM \"date\") AS \"quarter\",\n",
    "    EXTRACT(WEEK FROM \"date\") AS \"week\",\n",
    "    EXTRACT(DOW FROM \"date\") AS \"weekday\",\n",
    "    -- Berechne den abgekürzten Wochentagnamen\n",
    "    CASE \n",
    "        WHEN EXTRACT(DOW FROM \"date\") = 0 THEN 'Sun'\n",
    "        WHEN EXTRACT(DOW FROM \"date\") = 1 THEN 'Mon'\n",
    "        WHEN EXTRACT(DOW FROM \"date\") = 2 THEN 'Tue'\n",
    "        WHEN EXTRACT(DOW FROM \"date\") = 3 THEN 'Wed'\n",
    "        WHEN EXTRACT(DOW FROM \"date\") = 4 THEN 'Thu'\n",
    "        WHEN EXTRACT(DOW FROM \"date\") = 5 THEN 'Fri'\n",
    "        WHEN EXTRACT(DOW FROM \"date\") = 6 THEN 'Sat'\n",
    "    END AS weekday_name,\n",
    "    -- Formatierung für Quartal\n",
    "    'Q' || EXTRACT(QUARTER FROM \"date\") || ' ' || EXTRACT(YEAR FROM \"date\") AS \"quarter_name\",\n",
    "    -- Formatierung für Monat\n",
    "    CASE EXTRACT(MONTH FROM \"date\")\n",
    "        WHEN 1 THEN 'Jan'\n",
    "        WHEN 2 THEN 'Feb'\n",
    "        WHEN 3 THEN 'Mar'\n",
    "        WHEN 4 THEN 'Apr'\n",
    "        WHEN 5 THEN 'May'\n",
    "        WHEN 6 THEN 'Jun'\n",
    "        WHEN 7 THEN 'Jul'\n",
    "        WHEN 8 THEN 'Aug'\n",
    "        WHEN 9 THEN 'Sep'\n",
    "        WHEN 10 THEN 'Oct'\n",
    "        WHEN 11 THEN 'Nov'\n",
    "        WHEN 12 THEN 'Dec'\n",
    "    END || ' ' || EXTRACT(YEAR FROM \"date\") AS \"month_name\",\n",
    "    -- Formatierung für Kalenderwoche\n",
    "    'W' || EXTRACT(WEEK FROM \"date\") || ' ' || EXTRACT(YEAR FROM \"date\") AS \"week_name\"\n",
    "FROM flights\n",
    "ORDER BY \"date\";\n",
    "\"\"\")\n"
   ]
  },
  {
   "cell_type": "markdown",
   "metadata": {},
   "source": [
    "### **Data Preparation**"
   ]
  },
  {
   "cell_type": "code",
   "execution_count": 14,
   "metadata": {},
   "outputs": [
    {
     "data": {
      "text/plain": [
       "<duckdb.duckdb.DuckDBPyConnection at 0x276518637f0>"
      ]
     },
     "execution_count": 14,
     "metadata": {},
     "output_type": "execute_result"
    }
   ],
   "source": [
    "# Umformen der Werte wie \"0054\" in \"00:54:00\" und CAST in Datentype \"TIME\"\n",
    "conn.execute(\"\"\"\n",
    "UPDATE flights\n",
    "SET \n",
    "    \"scheduled_departure\" = CASE\n",
    "        WHEN \"scheduled_departure\" IS NULL OR \"scheduled_departure\" = '' THEN NULL\n",
    "        ELSE TRY_CAST(CONCAT(SUBSTRING(\"scheduled_departure\", 1, 2), ':', SUBSTRING(\"scheduled_departure\", 3, 2), ':00') AS TIME)\n",
    "    END,\n",
    "    \"departure_time\" = CASE\n",
    "        WHEN \"departure_time\" IS NULL OR \"departure_time\" = '' THEN NULL\n",
    "        ELSE TRY_CAST(CONCAT(SUBSTRING(\"departure_time\", 1, 2), ':', SUBSTRING(\"departure_time\", 3, 2), ':00') AS TIME)\n",
    "    END,\n",
    "    \"wheels_off\" = CASE\n",
    "        WHEN \"wheels_off\" IS NULL OR \"wheels_off\" = '' THEN NULL\n",
    "        ELSE TRY_CAST(CONCAT(SUBSTRING(\"wheels_off\", 1, 2), ':', SUBSTRING(\"wheels_off\", 3, 2), ':00') AS TIME)\n",
    "    END,\n",
    "    \"wheels_on\" = CASE\n",
    "        WHEN \"wheels_on\" IS NULL OR \"wheels_on\" = '' THEN NULL\n",
    "        ELSE TRY_CAST(CONCAT(SUBSTRING(\"wheels_on\", 1, 2), ':', SUBSTRING(\"wheels_on\", 3, 2), ':00') AS TIME)\n",
    "    END,\n",
    "    \"scheduled_arrival\" = CASE\n",
    "        WHEN \"scheduled_arrival\" IS NULL OR \"scheduled_arrival\" = '' THEN NULL\n",
    "        ELSE TRY_CAST(CONCAT(SUBSTRING(\"scheduled_arrival\", 1, 2), ':', SUBSTRING(\"scheduled_arrival\", 3, 2), ':00') AS TIME)\n",
    "    END,\n",
    "    \"arrival_time\" = CASE\n",
    "        WHEN \"arrival_time\" IS NULL OR \"arrival_time\" = '' THEN NULL\n",
    "        ELSE TRY_CAST(CONCAT(SUBSTRING(\"arrival_time\", 1, 2), ':', SUBSTRING(\"arrival_time\", 3, 2), ':00') AS TIME)\n",
    "    END\n",
    "WHERE \"scheduled_departure\" IS NOT NULL OR \"departure_time\" IS NOT NULL OR \"wheels_off\" IS NOT NULL OR \"wheels_on\" IS NOT NULL OR \"scheduled_arrival\" IS NOT NULL OR \"arrival_time\" IS NOT NULL;\n",
    "\"\"\")\n",
    "\n",
    "# Weitere Spalten in \"flights\" anlegen\n",
    "conn.execute(\"\"\"\n",
    "ALTER TABLE flights\n",
    "ADD COLUMN IF NOT EXISTS \"weekday_name\" VARCHAR(255);\n",
    "\n",
    "ALTER TABLE flights\n",
    "ADD COLUMN IF NOT EXISTS \"quarter_name\" VARCHAR(255);\n",
    "\n",
    "ALTER TABLE flights\n",
    "ADD COLUMN IF NOT EXISTS \"month_name\" VARCHAR(255);\n",
    "\n",
    "ALTER TABLE flights\n",
    "ADD COLUMN IF NOT EXISTS \"week_name\" VARCHAR(255);\n",
    "\"\"\")\n",
    "\n",
    "# Aktualisieren der Spalten in \"flights\"\n",
    "conn.execute(\"\"\"\n",
    "UPDATE flights\n",
    "SET \"weekday_name\" = t.\"weekday_name\"\n",
    "FROM \"time\" t\n",
    "WHERE t.\"date\" = flights.\"date\";\n",
    "\n",
    "UPDATE flights\n",
    "SET \"week_name\" = t.\"week_name\"\n",
    "FROM \"time\" t\n",
    "WHERE t.\"date\" = flights.\"date\";\n",
    "\n",
    "UPDATE flights\n",
    "SET \"month_name\" = t.\"month_name\"\n",
    "FROM \"time\" t\n",
    "WHERE t.\"date\" = flights.\"date\";\n",
    "\n",
    "UPDATE flights\n",
    "SET \"quarter_name\" = t.\"quarter_name\"\n",
    "FROM \"time\" t\n",
    "WHERE t.\"date\" = flights.\"date\";\n",
    "\n",
    "UPDATE flights \n",
    "SET \n",
    "\"cancellation_reason\" = cr.\"reason\"  \n",
    "FROM cancellation_reasons cr\n",
    "WHERE cr.\"shortcut\" = flights.\"cancellation_reason\";\n",
    "\"\"\")\n",
    "\n",
    "# Einfügen weiterer Spalten in \"flights\"\n",
    "conn.execute(\"\"\"\n",
    "ALTER TABLE flights\n",
    "ADD COLUMN IF NOT EXISTS \"origin_airport_lon\" DOUBLE;\n",
    "\n",
    "ALTER TABLE flights\n",
    "ADD COLUMN IF NOT EXISTS \"origin_airport_lat\" DOUBLE;\n",
    "\n",
    "ALTER TABLE flights\n",
    "ADD COLUMN IF NOT EXISTS \"destination_airport_lon\" DOUBLE;\n",
    "\n",
    "ALTER TABLE flights\n",
    "ADD COLUMN IF NOT EXISTS \"destination_airport_lat\" DOUBLE;\n",
    "\n",
    "ALTER TABLE flights\n",
    "ADD COLUMN IF NOT EXISTS \"origin_city\" VARCHAR(255);\n",
    "\n",
    "ALTER TABLE flights\n",
    "ADD COLUMN IF NOT EXISTS \"destination_city\" VARCHAR(255);\n",
    "\n",
    "ALTER TABLE flights\n",
    "ADD COLUMN IF NOT EXISTS \"airline_name\" VARCHAR(255);\n",
    "\"\"\")\n",
    "\n",
    "# Aktualisieren der Spalten\n",
    "conn.execute(\"\"\"\n",
    "UPDATE flights \n",
    "SET \"origin_airport_lon\" = ap.\"longitude\"\n",
    "FROM airports ap\n",
    "WHERE ap.\"iata_code\" = flights.\"origin_airport\";\n",
    "\n",
    "UPDATE flights \n",
    "SET \"origin_airport_lat\" = ap.\"latitude\"\n",
    "FROM airports ap\n",
    "WHERE ap.\"iata_code\" = flights.\"origin_airport\";\n",
    "\n",
    "UPDATE flights \n",
    "SET \"destination_airport_lon\" = ap.\"longitude\"\n",
    "FROM airports ap\n",
    "WHERE ap.\"iata_code\" = flights.\"destination_airport\";\n",
    "\n",
    "UPDATE flights \n",
    "SET \"destination_airport_lat\" = ap.\"latitude\"\n",
    "FROM airports ap\n",
    "WHERE ap.\"iata_code\" = flights.\"destination_airport\";\n",
    "\n",
    "UPDATE flights \n",
    "SET \"destination_city\" = ap.\"city\"\n",
    "FROM airports ap\n",
    "WHERE ap.\"iata_code\" = flights.\"destination_airport\";\n",
    "\n",
    "UPDATE flights \n",
    "SET \"origin_city\" = ap.\"city\"\n",
    "FROM airports ap\n",
    "WHERE ap.\"iata_code\" = flights.\"origin_airport\";\n",
    "\n",
    "UPDATE flights \n",
    "SET \"airline_name\" = al.\"airline\"\n",
    "FROM airlines al\n",
    "WHERE al.\"iata_code\" = flights.\"airline\";\n",
    "\"\"\")"
   ]
  },
  {
   "cell_type": "markdown",
   "metadata": {},
   "source": [
    "### **Erstellen von DB-Views und Überführen jeweils in ein `pandas DataFrame`**"
   ]
  },
  {
   "cell_type": "markdown",
   "metadata": {},
   "source": [
    "**One Big Table**\n",
    "\n",
    "Eine \"One Big Table\" ist ein Datenmodellierungskonzept, bei dem eine einzelne, denormalisierte Tabelle verwendet wird, um eine Vielzahl von Attributen oder Merkmalen zu speichern, die für analytische Abfragen oder Berichterstattungszwecke relevant sind. Dieses Modell aggregiert Daten aus mehreren Tabellen oder Datenquellen in einer einzigen Tabelle, indem es Normalisierungsprinzipien aufgibt, um eine vereinfachte Sicht zu schaffen, die schnelle und effiziente Abfragen ermöglicht."
   ]
  },
  {
   "cell_type": "code",
   "execution_count": 15,
   "metadata": {},
   "outputs": [
    {
     "data": {
      "text/plain": [
       "<duckdb.duckdb.DuckDBPyConnection at 0x276518637f0>"
      ]
     },
     "execution_count": 15,
     "metadata": {},
     "output_type": "execute_result"
    }
   ],
   "source": [
    "conn.execute(\"\"\"\n",
    "CREATE VIEW IF NOT EXISTS vw_OneBigTable AS\n",
    "SELECT\n",
    "    \"flight_id\",\n",
    "    \"year\",\n",
    "    \"date\",\n",
    "    \"weekday_name\",\n",
    "    \"quarter_name\",\n",
    "    \"month_name\",\n",
    "    \"week_name\",    \n",
    "    \"airline\" AS \"iata_airline\",\n",
    "    \"airline_name\" AS \"airline\",\n",
    "    \"flight_number\",\n",
    "    \"tail_number\",\n",
    "    \"origin_airport\",\n",
    "    \"origin_city\",\n",
    "    \"origin_airport_lon\",\n",
    "    \"origin_airport_lat\",\n",
    "    \"destination_airport\",\n",
    "    \"destination_city\",\n",
    "    \"destination_airport_lon\",\n",
    "    \"destination_airport_lat\",\n",
    "    \"scheduled_departure\",\n",
    "    \"departure_time\",\n",
    "    \"departure_delay\",\n",
    "    \"taxi_out\",\n",
    "    \"wheels_off\",\n",
    "    \"scheduled_time\",\n",
    "    \"elapsed_time\",\n",
    "    \"air_time\",\n",
    "    \"distance\"*1.60934 AS \"distance_km\",\n",
    "    \"wheels_on\",\n",
    "    \"taxi_in\",\n",
    "    \"scheduled_arrival\",\n",
    "    \"arrival_time\",\n",
    "    \"arrival_delay\",\n",
    "    \"diverted\",\n",
    "    \"cancelled\",\n",
    "    \"cancellation_reason\",\n",
    "    \"air_system_delay\",\n",
    "    \"security_delay\",\n",
    "    \"airline_delay\",\n",
    "    \"late_aircraft_delay\",\n",
    "    \"weather_delay\"\n",
    "FROM flights;\n",
    "\"\"\")\n",
    "\n",
    "# Der auskommentierte Code würde die DuckDB-Sicht \"vw_OneBigTable\" in ein pandas DataFrame überführen, aber im Prinzip ist dies nicht nötig, da über DuckDB im Folgenden analytische Sichten vorbereitet wurden\n",
    "# aus Performance-Sicht ist der Ansatz, analytische Sichten vorzubereiten ohnehin besser, als laufend eine One Big Table abzufragen\n",
    "\n",
    "# Überführt die Daten aus der angelegten Relation in ein pandas DataFrame\n",
    "#OBT_df = conn.execute(\"SELECT * FROM vw_OneBigTable;\").df()\n",
    "\n",
    "# Testabfrage\n",
    "#OBT_df.head()"
   ]
  },
  {
   "cell_type": "markdown",
   "metadata": {},
   "source": [
    "**Nur die durchgeführten (\"cancelled = 0\") Flüge als One Big Table. Diese dient als View für alle weiteren Analysen**"
   ]
  },
  {
   "cell_type": "code",
   "execution_count": 16,
   "metadata": {},
   "outputs": [
    {
     "data": {
      "text/plain": [
       "<duckdb.duckdb.DuckDBPyConnection at 0x276518637f0>"
      ]
     },
     "execution_count": 16,
     "metadata": {},
     "output_type": "execute_result"
    }
   ],
   "source": [
    "conn.execute(\"\"\"\n",
    "CREATE VIEW IF NOT EXISTS vw_ABT AS\n",
    "SELECT * FROM vw_OneBigTable\n",
    "WHERE \"cancelled\" = 0;\n",
    "\"\"\")"
   ]
  },
  {
   "cell_type": "markdown",
   "metadata": {},
   "source": [
    "**Analysen im Kontext \"airlines\"**\n",
    "\n",
    "Annahme Verspätung: https://ansperformance.eu/definition/punctuality/#:~:text=The%20share%20of%20IFR%20flights,departure%20time%20(airline%20schedules)."
   ]
  },
  {
   "cell_type": "code",
   "execution_count": 17,
   "metadata": {},
   "outputs": [
    {
     "data": {
      "text/html": [
       "<div>\n",
       "<style scoped>\n",
       "    .dataframe tbody tr th:only-of-type {\n",
       "        vertical-align: middle;\n",
       "    }\n",
       "\n",
       "    .dataframe tbody tr th {\n",
       "        vertical-align: top;\n",
       "    }\n",
       "\n",
       "    .dataframe thead th {\n",
       "        text-align: right;\n",
       "    }\n",
       "</style>\n",
       "<table border=\"1\" class=\"dataframe\">\n",
       "  <thead>\n",
       "    <tr style=\"text-align: right;\">\n",
       "      <th></th>\n",
       "      <th>airline</th>\n",
       "      <th>iata_airline</th>\n",
       "      <th>average_arrival_delay</th>\n",
       "      <th>median_arrival_delay</th>\n",
       "      <th>average_departure_delay</th>\n",
       "      <th>median_departure_delay</th>\n",
       "      <th>total_flights</th>\n",
       "      <th>distance_km</th>\n",
       "      <th>punctuality_rate_percent</th>\n",
       "      <th>cancellation_rate_percent</th>\n",
       "      <th>cancellations</th>\n",
       "      <th>most_frequent_destination</th>\n",
       "      <th>most_frequent_origin</th>\n",
       "      <th>buffer_flight</th>\n",
       "    </tr>\n",
       "  </thead>\n",
       "  <tbody>\n",
       "    <tr>\n",
       "      <th>0</th>\n",
       "      <td>Alaska Airlines Inc.</td>\n",
       "      <td>AS</td>\n",
       "      <td>-0.976563</td>\n",
       "      <td>-5.0</td>\n",
       "      <td>1.785801</td>\n",
       "      <td>-4.0</td>\n",
       "      <td>172521</td>\n",
       "      <td>3.324571e+08</td>\n",
       "      <td>80.7</td>\n",
       "      <td>0.4</td>\n",
       "      <td>669.0</td>\n",
       "      <td>SEA</td>\n",
       "      <td>SEA</td>\n",
       "      <td>-2.5</td>\n",
       "    </tr>\n",
       "    <tr>\n",
       "      <th>1</th>\n",
       "      <td>Delta Air Lines Inc.</td>\n",
       "      <td>DL</td>\n",
       "      <td>0.186754</td>\n",
       "      <td>-8.0</td>\n",
       "      <td>7.369254</td>\n",
       "      <td>-1.0</td>\n",
       "      <td>875881</td>\n",
       "      <td>1.203257e+09</td>\n",
       "      <td>82.5</td>\n",
       "      <td>0.4</td>\n",
       "      <td>3824.0</td>\n",
       "      <td>ATL</td>\n",
       "      <td>ATL</td>\n",
       "      <td>-7.2</td>\n",
       "    </tr>\n",
       "    <tr>\n",
       "      <th>2</th>\n",
       "      <td>Hawaiian Airlines Inc.</td>\n",
       "      <td>HA</td>\n",
       "      <td>2.023093</td>\n",
       "      <td>-2.0</td>\n",
       "      <td>0.485713</td>\n",
       "      <td>-4.0</td>\n",
       "      <td>76272</td>\n",
       "      <td>7.764912e+07</td>\n",
       "      <td>87.4</td>\n",
       "      <td>0.2</td>\n",
       "      <td>171.0</td>\n",
       "      <td>HNL</td>\n",
       "      <td>HNL</td>\n",
       "      <td>1.5</td>\n",
       "    </tr>\n",
       "    <tr>\n",
       "      <th>3</th>\n",
       "      <td>American Airlines Inc.</td>\n",
       "      <td>AA</td>\n",
       "      <td>3.451372</td>\n",
       "      <td>-6.0</td>\n",
       "      <td>8.900856</td>\n",
       "      <td>-2.0</td>\n",
       "      <td>725984</td>\n",
       "      <td>1.216654e+09</td>\n",
       "      <td>78.1</td>\n",
       "      <td>1.5</td>\n",
       "      <td>10919.0</td>\n",
       "      <td>DFW</td>\n",
       "      <td>DFW</td>\n",
       "      <td>-5.3</td>\n",
       "    </tr>\n",
       "    <tr>\n",
       "      <th>4</th>\n",
       "      <td>US Airways Inc.</td>\n",
       "      <td>US</td>\n",
       "      <td>3.706209</td>\n",
       "      <td>-4.0</td>\n",
       "      <td>6.141137</td>\n",
       "      <td>-2.0</td>\n",
       "      <td>198715</td>\n",
       "      <td>2.914989e+08</td>\n",
       "      <td>78.7</td>\n",
       "      <td>2.0</td>\n",
       "      <td>4067.0</td>\n",
       "      <td>CLT</td>\n",
       "      <td>CLT</td>\n",
       "      <td>-2.0</td>\n",
       "    </tr>\n",
       "  </tbody>\n",
       "</table>\n",
       "</div>"
      ],
      "text/plain": [
       "                  airline iata_airline  average_arrival_delay  \\\n",
       "0    Alaska Airlines Inc.           AS              -0.976563   \n",
       "1    Delta Air Lines Inc.           DL               0.186754   \n",
       "2  Hawaiian Airlines Inc.           HA               2.023093   \n",
       "3  American Airlines Inc.           AA               3.451372   \n",
       "4         US Airways Inc.           US               3.706209   \n",
       "\n",
       "   median_arrival_delay  average_departure_delay  median_departure_delay  \\\n",
       "0                  -5.0                 1.785801                    -4.0   \n",
       "1                  -8.0                 7.369254                    -1.0   \n",
       "2                  -2.0                 0.485713                    -4.0   \n",
       "3                  -6.0                 8.900856                    -2.0   \n",
       "4                  -4.0                 6.141137                    -2.0   \n",
       "\n",
       "   total_flights   distance_km  punctuality_rate_percent  \\\n",
       "0         172521  3.324571e+08                      80.7   \n",
       "1         875881  1.203257e+09                      82.5   \n",
       "2          76272  7.764912e+07                      87.4   \n",
       "3         725984  1.216654e+09                      78.1   \n",
       "4         198715  2.914989e+08                      78.7   \n",
       "\n",
       "   cancellation_rate_percent  cancellations most_frequent_destination  \\\n",
       "0                        0.4          669.0                       SEA   \n",
       "1                        0.4         3824.0                       ATL   \n",
       "2                        0.2          171.0                       HNL   \n",
       "3                        1.5        10919.0                       DFW   \n",
       "4                        2.0         4067.0                       CLT   \n",
       "\n",
       "  most_frequent_origin  buffer_flight  \n",
       "0                  SEA           -2.5  \n",
       "1                  ATL           -7.2  \n",
       "2                  HNL            1.5  \n",
       "3                  DFW           -5.3  \n",
       "4                  CLT           -2.0  "
      ]
     },
     "execution_count": 17,
     "metadata": {},
     "output_type": "execute_result"
    }
   ],
   "source": [
    "conn.execute(\"\"\"\n",
    "CREATE VIEW IF NOT EXISTS vw_airlines_metrics AS\n",
    "SELECT \n",
    "    \"airline\",\n",
    "    \"iata_airline\",\n",
    "    AVG(\"arrival_delay\") AS \"average_arrival_delay\",\n",
    "    MEDIAN(\"arrival_delay\") AS \"median_arrival_delay\",\n",
    "    AVG(\"departure_delay\") AS \"average_departure_delay\",\n",
    "    MEDIAN(\"departure_delay\") AS \"median_departure_delay\",\n",
    "    COUNT(\"flight_id\") AS \"total_flights\",\n",
    "    ROUND(SUM(\"distance_km\"),0) AS distance_km,\n",
    "    ROUND((SUM(CASE \n",
    "        WHEN (\"arrival_delay\" >= 15 OR \"departure_delay\" >= 15 OR \"departure_delay\" <= -15) AND \"cancelled\" = 0 THEN 0\n",
    "        ELSE 1\n",
    "    END) / COUNT(\"flight_id\")) * 100, 1) AS \"punctuality_rate_percent\",\n",
    "    ROUND((SUM(CASE \n",
    "        WHEN \"cancelled\" = 1 THEN 1\n",
    "        ELSE 0\n",
    "    END) / COUNT(\"flight_id\")) * 100, 1) AS \"cancellation_rate_percent\",\n",
    "    SUM(\"cancelled\") AS \"cancellations\",\n",
    "    (SELECT \"destination_airport\" \n",
    "     FROM \"vw_OneBigTable\" sub \n",
    "     WHERE sub.\"airline\" = vw_OneBigTable.\"airline\"\n",
    "     GROUP BY \"destination_airport\"\n",
    "     ORDER BY COUNT(*) DESC\n",
    "     LIMIT 1) AS \"most_frequent_destination\",\n",
    "    (SELECT \"origin_airport\" \n",
    "     FROM vw_OneBigTable sub \n",
    "     WHERE sub.\"airline\" = vw_OneBigTable.\"airline\"\n",
    "     GROUP BY \"origin_airport\"\n",
    "     ORDER BY COUNT(*) DESC\n",
    "     LIMIT 1) AS \"most_frequent_origin\",\n",
    "     ROUND((AVG(\"elapsed_time\")- AVG(\"scheduled_time\")),1) AS \"buffer_flight\"\n",
    "FROM vw_OneBigTable\n",
    "GROUP BY \"airline\", \"iata_airline\"\n",
    "ORDER BY \"average_arrival_delay\";\n",
    "\"\"\")\n",
    "\n",
    "# Überführt die Daten aus der angelegten Relation in ein pandas DataFrame\n",
    "airlines_metrics_df = conn.execute(\"SELECT * FROM vw_airlines_metrics;\").df()\n",
    "\n",
    "# Testabfrage\n",
    "airlines_metrics_df.head()"
   ]
  },
  {
   "cell_type": "markdown",
   "metadata": {},
   "source": [
    "**Analysen im Kontext \"flights\"**"
   ]
  },
  {
   "cell_type": "code",
   "execution_count": 18,
   "metadata": {},
   "outputs": [
    {
     "data": {
      "text/html": [
       "<div>\n",
       "<style scoped>\n",
       "    .dataframe tbody tr th:only-of-type {\n",
       "        vertical-align: middle;\n",
       "    }\n",
       "\n",
       "    .dataframe tbody tr th {\n",
       "        vertical-align: top;\n",
       "    }\n",
       "\n",
       "    .dataframe thead th {\n",
       "        text-align: right;\n",
       "    }\n",
       "</style>\n",
       "<table border=\"1\" class=\"dataframe\">\n",
       "  <thead>\n",
       "    <tr style=\"text-align: right;\">\n",
       "      <th></th>\n",
       "      <th>tail_number</th>\n",
       "      <th>airline</th>\n",
       "      <th>origin_airport</th>\n",
       "      <th>total_flights</th>\n",
       "      <th>total_km</th>\n",
       "      <th>average_speed_km</th>\n",
       "    </tr>\n",
       "  </thead>\n",
       "  <tbody>\n",
       "    <tr>\n",
       "      <th>0</th>\n",
       "      <td>N480HA</td>\n",
       "      <td>Hawaiian Airlines Inc.</td>\n",
       "      <td>HNL</td>\n",
       "      <td>1561</td>\n",
       "      <td>346230.0</td>\n",
       "      <td>509.7</td>\n",
       "    </tr>\n",
       "    <tr>\n",
       "      <th>1</th>\n",
       "      <td>N488HA</td>\n",
       "      <td>Hawaiian Airlines Inc.</td>\n",
       "      <td>HNL</td>\n",
       "      <td>1531</td>\n",
       "      <td>345707.0</td>\n",
       "      <td>511.4</td>\n",
       "    </tr>\n",
       "    <tr>\n",
       "      <th>2</th>\n",
       "      <td>N484HA</td>\n",
       "      <td>Hawaiian Airlines Inc.</td>\n",
       "      <td>HNL</td>\n",
       "      <td>1498</td>\n",
       "      <td>338634.0</td>\n",
       "      <td>515.8</td>\n",
       "    </tr>\n",
       "    <tr>\n",
       "      <th>3</th>\n",
       "      <td>N493HA</td>\n",
       "      <td>Hawaiian Airlines Inc.</td>\n",
       "      <td>HNL</td>\n",
       "      <td>1481</td>\n",
       "      <td>324890.0</td>\n",
       "      <td>509.2</td>\n",
       "    </tr>\n",
       "    <tr>\n",
       "      <th>4</th>\n",
       "      <td>N478HA</td>\n",
       "      <td>Hawaiian Airlines Inc.</td>\n",
       "      <td>HNL</td>\n",
       "      <td>1464</td>\n",
       "      <td>324021.0</td>\n",
       "      <td>509.5</td>\n",
       "    </tr>\n",
       "  </tbody>\n",
       "</table>\n",
       "</div>"
      ],
      "text/plain": [
       "  tail_number                 airline origin_airport  total_flights  total_km  \\\n",
       "0      N480HA  Hawaiian Airlines Inc.            HNL           1561  346230.0   \n",
       "1      N488HA  Hawaiian Airlines Inc.            HNL           1531  345707.0   \n",
       "2      N484HA  Hawaiian Airlines Inc.            HNL           1498  338634.0   \n",
       "3      N493HA  Hawaiian Airlines Inc.            HNL           1481  324890.0   \n",
       "4      N478HA  Hawaiian Airlines Inc.            HNL           1464  324021.0   \n",
       "\n",
       "   average_speed_km  \n",
       "0             509.7  \n",
       "1             511.4  \n",
       "2             515.8  \n",
       "3             509.2  \n",
       "4             509.5  "
      ]
     },
     "execution_count": 18,
     "metadata": {},
     "output_type": "execute_result"
    }
   ],
   "source": [
    "conn.execute(\"\"\"\n",
    "CREATE VIEW IF NOT EXISTS vw_flight_metrics AS\n",
    "SELECT \n",
    "   \"tail_number\",\n",
    "   \"airline\",\n",
    "   \"origin_airport\",\n",
    "   COUNT(\"flight_id\") AS \"total_flights\",\n",
    "   ROUND(SUM(\"distance_km\"),0) AS \"total_km\",\n",
    "   ROUND((AVG(\"distance_km\") / AVG(\"air_time\" / 60.0)),1) AS \"average_speed_km\"\n",
    "FROM vw_ABT\n",
    "GROUP BY \"origin_airport\", \"tail_number\", \"airline\"\n",
    "ORDER BY \"total_flights\" DESC, \"total_km\" DESC;\n",
    "\"\"\")\n",
    "\n",
    "# Überführt die Daten aus der angelegten Relation in ein pandas DataFrame\n",
    "flight_metrics_df = conn.execute(\"SELECT * FROM vw_flight_metrics;\").df()\n",
    "\n",
    "# Testabfrage\n",
    "flight_metrics_df.head()"
   ]
  },
  {
   "cell_type": "markdown",
   "metadata": {},
   "source": [
    "**Analysen im Kontext \"flight routes\"**"
   ]
  },
  {
   "cell_type": "code",
   "execution_count": 19,
   "metadata": {},
   "outputs": [
    {
     "data": {
      "text/html": [
       "<div>\n",
       "<style scoped>\n",
       "    .dataframe tbody tr th:only-of-type {\n",
       "        vertical-align: middle;\n",
       "    }\n",
       "\n",
       "    .dataframe tbody tr th {\n",
       "        vertical-align: top;\n",
       "    }\n",
       "\n",
       "    .dataframe thead th {\n",
       "        text-align: right;\n",
       "    }\n",
       "</style>\n",
       "<table border=\"1\" class=\"dataframe\">\n",
       "  <thead>\n",
       "    <tr style=\"text-align: right;\">\n",
       "      <th></th>\n",
       "      <th>origin_airport</th>\n",
       "      <th>destination_airport</th>\n",
       "      <th>origin_city</th>\n",
       "      <th>destination_city</th>\n",
       "      <th>origin_airport_lon</th>\n",
       "      <th>origin_airport_lat</th>\n",
       "      <th>destination_airport_lon</th>\n",
       "      <th>destination_airport_lat</th>\n",
       "      <th>count(flight_id)</th>\n",
       "      <th>round(sum(distance_km), 0)</th>\n",
       "      <th>avg_distance_km</th>\n",
       "    </tr>\n",
       "  </thead>\n",
       "  <tbody>\n",
       "    <tr>\n",
       "      <th>0</th>\n",
       "      <td>SFO</td>\n",
       "      <td>MSP</td>\n",
       "      <td>San Francisco</td>\n",
       "      <td>Minneapolis</td>\n",
       "      <td>-122.37484</td>\n",
       "      <td>37.61900</td>\n",
       "      <td>-93.21692</td>\n",
       "      <td>44.88055</td>\n",
       "      <td>2441</td>\n",
       "      <td>6242226.0</td>\n",
       "      <td>2557.0</td>\n",
       "    </tr>\n",
       "    <tr>\n",
       "      <th>1</th>\n",
       "      <td>SFO</td>\n",
       "      <td>DFW</td>\n",
       "      <td>San Francisco</td>\n",
       "      <td>Dallas-Fort Worth</td>\n",
       "      <td>-122.37484</td>\n",
       "      <td>37.61900</td>\n",
       "      <td>-97.03720</td>\n",
       "      <td>32.89595</td>\n",
       "      <td>4476</td>\n",
       "      <td>10545786.0</td>\n",
       "      <td>2356.0</td>\n",
       "    </tr>\n",
       "    <tr>\n",
       "      <th>2</th>\n",
       "      <td>ANC</td>\n",
       "      <td>PDX</td>\n",
       "      <td>Anchorage</td>\n",
       "      <td>Portland</td>\n",
       "      <td>-149.99619</td>\n",
       "      <td>61.17432</td>\n",
       "      <td>-122.59750</td>\n",
       "      <td>45.58872</td>\n",
       "      <td>911</td>\n",
       "      <td>2260740.0</td>\n",
       "      <td>2482.0</td>\n",
       "    </tr>\n",
       "    <tr>\n",
       "      <th>3</th>\n",
       "      <td>LAX</td>\n",
       "      <td>IAH</td>\n",
       "      <td>Los Angeles</td>\n",
       "      <td>Houston</td>\n",
       "      <td>-118.40807</td>\n",
       "      <td>33.94254</td>\n",
       "      <td>-95.33972</td>\n",
       "      <td>29.98047</td>\n",
       "      <td>4194</td>\n",
       "      <td>9307660.0</td>\n",
       "      <td>2219.0</td>\n",
       "    </tr>\n",
       "    <tr>\n",
       "      <th>4</th>\n",
       "      <td>HNL</td>\n",
       "      <td>ITO</td>\n",
       "      <td>Honolulu</td>\n",
       "      <td>Hilo</td>\n",
       "      <td>-157.92241</td>\n",
       "      <td>21.31869</td>\n",
       "      <td>-155.04847</td>\n",
       "      <td>19.72026</td>\n",
       "      <td>4786</td>\n",
       "      <td>1663697.0</td>\n",
       "      <td>348.0</td>\n",
       "    </tr>\n",
       "  </tbody>\n",
       "</table>\n",
       "</div>"
      ],
      "text/plain": [
       "  origin_airport destination_airport    origin_city   destination_city  \\\n",
       "0            SFO                 MSP  San Francisco        Minneapolis   \n",
       "1            SFO                 DFW  San Francisco  Dallas-Fort Worth   \n",
       "2            ANC                 PDX      Anchorage           Portland   \n",
       "3            LAX                 IAH    Los Angeles            Houston   \n",
       "4            HNL                 ITO       Honolulu               Hilo   \n",
       "\n",
       "   origin_airport_lon  origin_airport_lat  destination_airport_lon  \\\n",
       "0          -122.37484            37.61900                -93.21692   \n",
       "1          -122.37484            37.61900                -97.03720   \n",
       "2          -149.99619            61.17432               -122.59750   \n",
       "3          -118.40807            33.94254                -95.33972   \n",
       "4          -157.92241            21.31869               -155.04847   \n",
       "\n",
       "   destination_airport_lat  count(flight_id)  round(sum(distance_km), 0)  \\\n",
       "0                 44.88055              2441                   6242226.0   \n",
       "1                 32.89595              4476                  10545786.0   \n",
       "2                 45.58872               911                   2260740.0   \n",
       "3                 29.98047              4194                   9307660.0   \n",
       "4                 19.72026              4786                   1663697.0   \n",
       "\n",
       "   avg_distance_km  \n",
       "0           2557.0  \n",
       "1           2356.0  \n",
       "2           2482.0  \n",
       "3           2219.0  \n",
       "4            348.0  "
      ]
     },
     "execution_count": 19,
     "metadata": {},
     "output_type": "execute_result"
    }
   ],
   "source": [
    "conn.execute(\"\"\"\n",
    "CREATE VIEW IF NOT EXISTS vw_flight_routes AS\n",
    "SELECT \"origin_airport\", \"destination_airport\", \"origin_city\", \"destination_city\", \"origin_airport_lon\", \"origin_airport_lat\", \"destination_airport_lon\", \"destination_airport_lat\", COUNT(\"flight_id\"), ROUND(SUM(\"distance_km\"),0), ROUND(AVG(\"distance_km\"),0) AS avg_distance_km\n",
    "FROM vw_ABT\n",
    "GROUP BY \"origin_airport\", \"destination_airport\", \"origin_city\", \"destination_city\", \"origin_airport_lon\", \"origin_airport_lat\", \"destination_airport_lon\", \"destination_airport_lat\";\n",
    "\"\"\")\n",
    "\n",
    "flight_routes_df = conn.execute(\"SELECT * FROM vw_flight_routes;\").df()\n",
    "\n",
    "# Testabfrage\n",
    "flight_routes_df.head()"
   ]
  },
  {
   "cell_type": "markdown",
   "metadata": {},
   "source": [
    "**Analysen im Kontext \"cancellations\"**"
   ]
  },
  {
   "cell_type": "code",
   "execution_count": 20,
   "metadata": {},
   "outputs": [
    {
     "data": {
      "text/html": [
       "<div>\n",
       "<style scoped>\n",
       "    .dataframe tbody tr th:only-of-type {\n",
       "        vertical-align: middle;\n",
       "    }\n",
       "\n",
       "    .dataframe tbody tr th {\n",
       "        vertical-align: top;\n",
       "    }\n",
       "\n",
       "    .dataframe thead th {\n",
       "        text-align: right;\n",
       "    }\n",
       "</style>\n",
       "<table border=\"1\" class=\"dataframe\">\n",
       "  <thead>\n",
       "    <tr style=\"text-align: right;\">\n",
       "      <th></th>\n",
       "      <th>airline</th>\n",
       "      <th>cancelled</th>\n",
       "      <th>cancellation_reason</th>\n",
       "      <th>cancellations</th>\n",
       "      <th>cancellation_rate</th>\n",
       "    </tr>\n",
       "  </thead>\n",
       "  <tbody>\n",
       "    <tr>\n",
       "      <th>0</th>\n",
       "      <td>American Airlines Inc.</td>\n",
       "      <td>0</td>\n",
       "      <td>None</td>\n",
       "      <td>0</td>\n",
       "      <td>0.0</td>\n",
       "    </tr>\n",
       "    <tr>\n",
       "      <th>1</th>\n",
       "      <td>US Airways Inc.</td>\n",
       "      <td>1</td>\n",
       "      <td>Airline/ Carrier</td>\n",
       "      <td>1007</td>\n",
       "      <td>100.0</td>\n",
       "    </tr>\n",
       "    <tr>\n",
       "      <th>2</th>\n",
       "      <td>American Airlines Inc.</td>\n",
       "      <td>1</td>\n",
       "      <td>Airline/ Carrier</td>\n",
       "      <td>2879</td>\n",
       "      <td>100.0</td>\n",
       "    </tr>\n",
       "    <tr>\n",
       "      <th>3</th>\n",
       "      <td>Southwest Airlines Co.</td>\n",
       "      <td>1</td>\n",
       "      <td>Security</td>\n",
       "      <td>12</td>\n",
       "      <td>100.0</td>\n",
       "    </tr>\n",
       "    <tr>\n",
       "      <th>4</th>\n",
       "      <td>Atlantic Southeast Airlines</td>\n",
       "      <td>0</td>\n",
       "      <td>None</td>\n",
       "      <td>0</td>\n",
       "      <td>0.0</td>\n",
       "    </tr>\n",
       "  </tbody>\n",
       "</table>\n",
       "</div>"
      ],
      "text/plain": [
       "                       airline  cancelled cancellation_reason  cancellations  \\\n",
       "0       American Airlines Inc.          0                None              0   \n",
       "1              US Airways Inc.          1    Airline/ Carrier           1007   \n",
       "2       American Airlines Inc.          1    Airline/ Carrier           2879   \n",
       "3       Southwest Airlines Co.          1            Security             12   \n",
       "4  Atlantic Southeast Airlines          0                None              0   \n",
       "\n",
       "   cancellation_rate  \n",
       "0                0.0  \n",
       "1              100.0  \n",
       "2              100.0  \n",
       "3              100.0  \n",
       "4                0.0  "
      ]
     },
     "execution_count": 20,
     "metadata": {},
     "output_type": "execute_result"
    }
   ],
   "source": [
    "conn.execute(\"\"\"\n",
    "CREATE VIEW IF NOT EXISTS vw_cancellations AS\n",
    "SELECT\n",
    "    \"airline\",\n",
    "    \"cancelled\",\n",
    "    \"cancellation_reason\",\n",
    "    CAST(SUM(\"cancelled\") AS INT) AS \"cancellations\",\n",
    "    ROUND(SUM(\"cancelled\")::FLOAT/ COUNT(*) *100, 1) AS \"cancellation_rate\"\n",
    "FROM vw_OneBigTable\n",
    "GROUP BY \"airline\", \"cancelled\", \"cancellation_reason\"\n",
    "\"\"\")\n",
    "\n",
    "# Überführt die Daten aus der angelegten Relation in ein pandas DataFrame\n",
    "cancellations_df = conn.execute(\"SELECT * FROM vw_cancellations;\").df()\n",
    "\n",
    "cancellations_df.head()"
   ]
  },
  {
   "cell_type": "markdown",
   "metadata": {},
   "source": [
    "**Analysen im Kontext \"time\"**"
   ]
  },
  {
   "cell_type": "code",
   "execution_count": 21,
   "metadata": {},
   "outputs": [
    {
     "data": {
      "text/html": [
       "<div>\n",
       "<style scoped>\n",
       "    .dataframe tbody tr th:only-of-type {\n",
       "        vertical-align: middle;\n",
       "    }\n",
       "\n",
       "    .dataframe tbody tr th {\n",
       "        vertical-align: top;\n",
       "    }\n",
       "\n",
       "    .dataframe thead th {\n",
       "        text-align: right;\n",
       "    }\n",
       "</style>\n",
       "<table border=\"1\" class=\"dataframe\">\n",
       "  <thead>\n",
       "    <tr style=\"text-align: right;\">\n",
       "      <th></th>\n",
       "      <th>year</th>\n",
       "      <th>quarter_name</th>\n",
       "      <th>month_name</th>\n",
       "      <th>weekday_name</th>\n",
       "      <th>airline</th>\n",
       "      <th>total_flights</th>\n",
       "      <th>avg_departure_delay</th>\n",
       "      <th>avg_arrival_delay</th>\n",
       "      <th>cancelled</th>\n",
       "      <th>cancellation_reason</th>\n",
       "    </tr>\n",
       "  </thead>\n",
       "  <tbody>\n",
       "    <tr>\n",
       "      <th>0</th>\n",
       "      <td>2015</td>\n",
       "      <td>Q2 2015</td>\n",
       "      <td>Apr 2015</td>\n",
       "      <td>Sun</td>\n",
       "      <td>United Air Lines Inc.</td>\n",
       "      <td>32</td>\n",
       "      <td>33.4</td>\n",
       "      <td>NaN</td>\n",
       "      <td>1</td>\n",
       "      <td>Airline/ Carrier</td>\n",
       "    </tr>\n",
       "    <tr>\n",
       "      <th>1</th>\n",
       "      <td>2015</td>\n",
       "      <td>Q2 2015</td>\n",
       "      <td>Apr 2015</td>\n",
       "      <td>Wed</td>\n",
       "      <td>Skywest Airlines Inc.</td>\n",
       "      <td>7</td>\n",
       "      <td>21.5</td>\n",
       "      <td>NaN</td>\n",
       "      <td>1</td>\n",
       "      <td>National Air System</td>\n",
       "    </tr>\n",
       "    <tr>\n",
       "      <th>2</th>\n",
       "      <td>2015</td>\n",
       "      <td>Q2 2015</td>\n",
       "      <td>Apr 2015</td>\n",
       "      <td>Thu</td>\n",
       "      <td>Atlantic Southeast Airlines</td>\n",
       "      <td>142</td>\n",
       "      <td>105.5</td>\n",
       "      <td>NaN</td>\n",
       "      <td>1</td>\n",
       "      <td>National Air System</td>\n",
       "    </tr>\n",
       "    <tr>\n",
       "      <th>3</th>\n",
       "      <td>2015</td>\n",
       "      <td>Q2 2015</td>\n",
       "      <td>Apr 2015</td>\n",
       "      <td>Thu</td>\n",
       "      <td>Atlantic Southeast Airlines</td>\n",
       "      <td>181</td>\n",
       "      <td>191.2</td>\n",
       "      <td>NaN</td>\n",
       "      <td>1</td>\n",
       "      <td>Weather</td>\n",
       "    </tr>\n",
       "    <tr>\n",
       "      <th>4</th>\n",
       "      <td>2015</td>\n",
       "      <td>Q2 2015</td>\n",
       "      <td>Apr 2015</td>\n",
       "      <td>Thu</td>\n",
       "      <td>Frontier Airlines Inc.</td>\n",
       "      <td>4</td>\n",
       "      <td>155.0</td>\n",
       "      <td>NaN</td>\n",
       "      <td>1</td>\n",
       "      <td>Airline/ Carrier</td>\n",
       "    </tr>\n",
       "  </tbody>\n",
       "</table>\n",
       "</div>"
      ],
      "text/plain": [
       "   year quarter_name month_name weekday_name                      airline  \\\n",
       "0  2015      Q2 2015   Apr 2015          Sun        United Air Lines Inc.   \n",
       "1  2015      Q2 2015   Apr 2015          Wed        Skywest Airlines Inc.   \n",
       "2  2015      Q2 2015   Apr 2015          Thu  Atlantic Southeast Airlines   \n",
       "3  2015      Q2 2015   Apr 2015          Thu  Atlantic Southeast Airlines   \n",
       "4  2015      Q2 2015   Apr 2015          Thu       Frontier Airlines Inc.   \n",
       "\n",
       "   total_flights  avg_departure_delay  avg_arrival_delay  cancelled  \\\n",
       "0             32                 33.4                NaN          1   \n",
       "1              7                 21.5                NaN          1   \n",
       "2            142                105.5                NaN          1   \n",
       "3            181                191.2                NaN          1   \n",
       "4              4                155.0                NaN          1   \n",
       "\n",
       "   cancellation_reason  \n",
       "0     Airline/ Carrier  \n",
       "1  National Air System  \n",
       "2  National Air System  \n",
       "3              Weather  \n",
       "4     Airline/ Carrier  "
      ]
     },
     "execution_count": 21,
     "metadata": {},
     "output_type": "execute_result"
    }
   ],
   "source": [
    "conn.execute(\"\"\"\n",
    "CREATE VIEW IF NOT EXISTS vw_time_analysis AS\n",
    "SELECT \n",
    "    \"year\", \n",
    "    \"quarter_name\", \n",
    "    \"month_name\", \n",
    "    \"weekday_name\", \n",
    "    \"airline\", \n",
    "    COUNT(*) AS total_flights,\n",
    "    ROUND(AVG(\"departure_delay\"), 1) AS avg_departure_delay,\n",
    "    ROUND(AVG(\"arrival_delay\"), 1) AS avg_arrival_delay,\n",
    "    \"cancelled\", \n",
    "    \"cancellation_reason\"\n",
    "FROM vw_OneBigTable\n",
    "GROUP BY \n",
    "    \"year\", \n",
    "    \"quarter_name\", \n",
    "    \"month_name\", \n",
    "    \"weekday_name\", \n",
    "    \"airline\",\n",
    "    \"cancelled\", \n",
    "    \"cancellation_reason\"\n",
    "HAVING AVG(\"departure_delay\") > 15\n",
    "ORDER BY \"month_name\";\n",
    "\"\"\")\n",
    "\n",
    "# Überführt die Daten aus der angelegten Relation in ein pandas DataFrame\n",
    "time_df = conn.execute(\"SELECT * FROM vw_time_analysis;\").df()\n",
    "\n",
    "# Testabfrage\n",
    "time_df.head()"
   ]
  },
  {
   "cell_type": "markdown",
   "metadata": {},
   "source": [
    "### **Beenden der Verbindung zur Datenbank**"
   ]
  },
  {
   "cell_type": "code",
   "execution_count": 22,
   "metadata": {},
   "outputs": [],
   "source": [
    "# Beendet die Verbindung zur im Arbeitsspeicher liegenden in-Memory-DB. Dabei gehen auch alle Daten im Arbeitsspeicher verloren. Die DataFrames bleiben für die Dauer der Arbeitssitzung erhalten\n",
    "conn.close()"
   ]
  },
  {
   "cell_type": "markdown",
   "metadata": {},
   "source": [
    "## **Datenvisualisierung und -analyse**\n",
    "\n",
    "Wir haben die Verbindung zur in-Memory DB DuckDB geschlossen (spart Ressourcen) und führen nun die Analysen mit `pandas` durch. Über DuckDB haben wir DB-Views für die Analysen vorbereitet und jeweils in ein DataFrame überführt. Diese dienen als Grundlage für die weiterführenden Analysen.  "
   ]
  },
  {
   "cell_type": "code",
   "execution_count": 23,
   "metadata": {},
   "outputs": [
    {
     "name": "stdout",
     "output_type": "stream",
     "text": [
      "['_', '__', '___', 'airports_df', '_4', 'airlines_df', '_5', 'cancellation_reasons_df', '_6', 'airlines_metrics_df', '_17', 'flight_metrics_df', '_18', 'flight_routes_df', '_19', 'cancellations_df', '_20', 'time_df', '_21']\n"
     ]
    }
   ],
   "source": [
    "# Auflisten aller DataFrames\n",
    "dfs = [var for var in globals() if isinstance(eval(var), pd.core.frame.DataFrame)]\n",
    "print(dfs)"
   ]
  },
  {
   "cell_type": "markdown",
   "metadata": {},
   "source": [
    "### **Statistiken zu den Fluggesellschaften**"
   ]
  },
  {
   "cell_type": "markdown",
   "metadata": {},
   "source": [
    "**Anzahl der Stornierungen pro Fluggesellschaft**"
   ]
  },
  {
   "cell_type": "code",
   "execution_count": 36,
   "metadata": {},
   "outputs": [
    {
     "data": {
      "text/html": [
       "<div>\n",
       "<style scoped>\n",
       "    .dataframe tbody tr th:only-of-type {\n",
       "        vertical-align: middle;\n",
       "    }\n",
       "\n",
       "    .dataframe tbody tr th {\n",
       "        vertical-align: top;\n",
       "    }\n",
       "\n",
       "    .dataframe thead th {\n",
       "        text-align: right;\n",
       "    }\n",
       "</style>\n",
       "<table border=\"1\" class=\"dataframe\">\n",
       "  <thead>\n",
       "    <tr style=\"text-align: right;\">\n",
       "      <th></th>\n",
       "      <th>cancellation_reason</th>\n",
       "      <th>airline</th>\n",
       "      <th>cancellations</th>\n",
       "      <th>percentage</th>\n",
       "    </tr>\n",
       "  </thead>\n",
       "  <tbody>\n",
       "    <tr>\n",
       "      <th>0</th>\n",
       "      <td>Airline/ Carrier</td>\n",
       "      <td>Alaska Airlines Inc.</td>\n",
       "      <td>334</td>\n",
       "      <td>0.371590</td>\n",
       "    </tr>\n",
       "    <tr>\n",
       "      <th>1</th>\n",
       "      <td>Airline/ Carrier</td>\n",
       "      <td>American Airlines Inc.</td>\n",
       "      <td>2879</td>\n",
       "      <td>3.203017</td>\n",
       "    </tr>\n",
       "    <tr>\n",
       "      <th>2</th>\n",
       "      <td>Airline/ Carrier</td>\n",
       "      <td>American Eagle Airlines Inc.</td>\n",
       "      <td>2475</td>\n",
       "      <td>2.753549</td>\n",
       "    </tr>\n",
       "    <tr>\n",
       "      <th>3</th>\n",
       "      <td>Airline/ Carrier</td>\n",
       "      <td>Atlantic Southeast Airlines</td>\n",
       "      <td>3604</td>\n",
       "      <td>4.009612</td>\n",
       "    </tr>\n",
       "    <tr>\n",
       "      <th>4</th>\n",
       "      <td>Airline/ Carrier</td>\n",
       "      <td>Delta Air Lines Inc.</td>\n",
       "      <td>594</td>\n",
       "      <td>0.660852</td>\n",
       "    </tr>\n",
       "  </tbody>\n",
       "</table>\n",
       "</div>"
      ],
      "text/plain": [
       "  cancellation_reason                       airline  cancellations  percentage\n",
       "0    Airline/ Carrier          Alaska Airlines Inc.            334    0.371590\n",
       "1    Airline/ Carrier        American Airlines Inc.           2879    3.203017\n",
       "2    Airline/ Carrier  American Eagle Airlines Inc.           2475    2.753549\n",
       "3    Airline/ Carrier   Atlantic Southeast Airlines           3604    4.009612\n",
       "4    Airline/ Carrier          Delta Air Lines Inc.            594    0.660852"
      ]
     },
     "execution_count": 36,
     "metadata": {},
     "output_type": "execute_result"
    }
   ],
   "source": [
    "cancellations_summary = cancellations_df.groupby(['cancellation_reason', 'airline'])['cancellations'].sum().reset_index()\n",
    "cancellations_summary['percentage'] = (cancellations_summary['cancellations'] / cancellations_summary['cancellations'].sum()) * 100\n",
    "\n",
    "# DataFrame als CSV speichern\n",
    "cancellations_summary.to_csv(r\"C:\\Users\\rober\\OneDrive\\Vorlesungen\\Datenbasierte Fallstudien\\Visualisierungen\\Flights\\Flights\\cancellations_summary.csv\", index=False)\n",
    "\n",
    "cancellations_summary.head()"
   ]
  },
  {
   "cell_type": "code",
   "execution_count": 38,
   "metadata": {},
   "outputs": [
    {
     "data": {
      "image/png": "[encoded data removed]",
      "text/plain": [
       "<Figure size 700x450 with 1 Axes>"
      ]
     },
     "metadata": {},
     "output_type": "display_data"
    }
   ],
   "source": [
    "import pandas as pd\n",
    "import seaborn as sns\n",
    "import matplotlib.pyplot as plt\n",
    "import matplotlib.ticker as ticker\n",
    "\n",
    "# Datframe nach Stornierungen absteigend sortiert\n",
    "cancellations_sorted = cancellations_summary.groupby('airline', as_index=False)['cancellations'].sum().sort_values(by='cancellations', ascending=False)\n",
    "\n",
    "# Visualisierung des DataFrames als liegendes Balkendiagramm\n",
    "plt.figure(figsize=(7, 4.5))\n",
    "barplot = sns.barplot(\n",
    "    data=cancellations_sorted,\n",
    "    y='airline',\n",
    "    x='cancellations',\n",
    "    orient='h',\n",
    "    color='#49a9db',  # Spezifische Farbe für die Balken\n",
    "    edgecolor='#3984aa',  # Farbe der Linien der Balken\n",
    "    alpha=0.6  # Angepasste Transparenz für eine klare Farbangabe\n",
    ")\n",
    "\n",
    "# Rahmen (Spines) links, oben und unten entfernen\n",
    "sns.despine(left=True, bottom=True, top=True)\n",
    "\n",
    "# Entferne die x-Achse\n",
    "barplot.get_xaxis().set_visible(False)\n",
    "\n",
    "# Entferne den Titel der y-Achse\n",
    "barplot.set_ylabel('')\n",
    "\n",
    "# Tick Marks an der y-Achse entfernen, ohne die Beschriftung zu beeinflussen\n",
    "barplot.tick_params(axis='y', which='both', length=0)  # Setzt die Länge der Tick Marks auf 0\n",
    "\n",
    "# Erhöhe den Abstand zum Balken für die Datenlabels\n",
    "label_padding = 200  \n",
    "\n",
    "# Füge Datenlabels im deutschen Zahlenformat hinzu, ohne Nachkommastellen\n",
    "for index, value in enumerate(cancellations_sorted['cancellations']):\n",
    "    formatted_value = \"{:,.0f}\".format(value).replace(\",\", \".\")\n",
    "    plt.text(value + label_padding, index, formatted_value, va='center', color='black')\n",
    "\n",
    "# Titel hinzufügen\n",
    "plt.title('Stornierungen (\"cancellations\") nach Fluggesellschaften (\"airline\")', pad=20)\n",
    "\n",
    "plt.tight_layout()\n",
    "plt.show()\n"
   ]
  },
  {
   "cell_type": "code",
   "execution_count": 92,
   "metadata": {},
   "outputs": [
    {
     "data": {
      "application/vnd.plotly.v1+json": {
       "config": {
        "plotlyServerURL": "https://plot.ly"
       },
       "data": [
        {
         "alignmentgroup": "True",
         "hovertemplate": "cancellations=%{x}<br>airline=%{y}<br>formatted_cancellations=%{text}<extra></extra>",
         "legendgroup": "",
         "marker": {
          "color": "#49a9db",
          "pattern": {
           "shape": ""
          }
         },
         "name": "",
         "offsetgroup": "",
         "orientation": "h",
         "showlegend": false,
         "text": [
          "171",
          "534",
          "588",
          "669",
          "2.004",
          "3.824",
          "4.067",
          "4.276",
          "6.573",
          "9.960",
          "10.919",
          "15.025",
          "15.231",
          "16.043"
         ],
         "textposition": "outside",
         "type": "bar",
         "x": [
          171,
          534,
          588,
          669,
          2004,
          3824,
          4067,
          4276,
          6573,
          9960,
          10919,
          15025,
          15231,
          16043
         ],
         "xaxis": "x",
         "y": [
          "Hawaiian Airlines Inc.",
          "Virgin America",
          "Frontier Airlines Inc.",
          "Alaska Airlines Inc.",
          "Spirit Air Lines",
          "Delta Air Lines Inc.",
          "US Airways Inc.",
          "JetBlue Airways",
          "United Air Lines Inc.",
          "Skywest Airlines Inc.",
          "American Airlines Inc.",
          "American Eagle Airlines Inc.",
          "Atlantic Southeast Airlines",
          "Southwest Airlines Co."
         ],
         "yaxis": "y"
        }
       ],
       "layout": {
        "barmode": "relative",
        "height": 450,
        "legend": {
         "tracegroupgap": 0
        },
        "margin": {
         "t": 60
        },
        "plot_bgcolor": "rgba(0,0,0,0)",
        "template": {
         "data": {
          "bar": [
           {
            "error_x": {
             "color": "#2a3f5f"
            },
            "error_y": {
             "color": "#2a3f5f"
            },
            "marker": {
             "line": {
              "color": "#E5ECF6",
              "width": 0.5
             },
             "pattern": {
              "fillmode": "overlay",
              "size": 10,
              "solidity": 0.2
             }
            },
            "type": "bar"
           }
          ],
          "barpolar": [
           {
            "marker": {
             "line": {
              "color": "#E5ECF6",
              "width": 0.5
             },
             "pattern": {
              "fillmode": "overlay",
              "size": 10,
              "solidity": 0.2
             }
            },
            "type": "barpolar"
           }
          ],
          "carpet": [
           {
            "aaxis": {
             "endlinecolor": "#2a3f5f",
             "gridcolor": "white",
             "linecolor": "white",
             "minorgridcolor": "white",
             "startlinecolor": "#2a3f5f"
            },
            "baxis": {
             "endlinecolor": "#2a3f5f",
             "gridcolor": "white",
             "linecolor": "white",
             "minorgridcolor": "white",
             "startlinecolor": "#2a3f5f"
            },
            "type": "carpet"
           }
          ],
          "choropleth": [
           {
            "colorbar": {
             "outlinewidth": 0,
             "ticks": ""
            },
            "type": "choropleth"
           }
          ],
          "contour": [
           {
            "colorbar": {
             "outlinewidth": 0,
             "ticks": ""
            },
            "colorscale": [
             [
              0,
              "#0d0887"
             ],
             [
              0.1111111111111111,
              "#46039f"
             ],
             [
              0.2222222222222222,
              "#7201a8"
             ],
             [
              0.3333333333333333,
              "#9c179e"
             ],
             [
              0.4444444444444444,
              "#bd3786"
             ],
             [
              0.5555555555555556,
              "#d8576b"
             ],
             [
              0.6666666666666666,
              "#ed7953"
             ],
             [
              0.7777777777777778,
              "#fb9f3a"
             ],
             [
              0.8888888888888888,
              "#fdca26"
             ],
             [
              1,
              "#f0f921"
             ]
            ],
            "type": "contour"
           }
          ],
          "contourcarpet": [
           {
            "colorbar": {
             "outlinewidth": 0,
             "ticks": ""
            },
            "type": "contourcarpet"
           }
          ],
          "heatmap": [
           {
            "colorbar": {
             "outlinewidth": 0,
             "ticks": ""
            },
            "colorscale": [
             [
              0,
              "#0d0887"
             ],
             [
              0.1111111111111111,
              "#46039f"
             ],
             [
              0.2222222222222222,
              "#7201a8"
             ],
             [
              0.3333333333333333,
              "#9c179e"
             ],
             [
              0.4444444444444444,
              "#bd3786"
             ],
             [
              0.5555555555555556,
              "#d8576b"
             ],
             [
              0.6666666666666666,
              "#ed7953"
             ],
             [
              0.7777777777777778,
              "#fb9f3a"
             ],
             [
              0.8888888888888888,
              "#fdca26"
             ],
             [
              1,
              "#f0f921"
             ]
            ],
            "type": "heatmap"
           }
          ],
          "heatmapgl": [
           {
            "colorbar": {
             "outlinewidth": 0,
             "ticks": ""
            },
            "colorscale": [
             [
              0,
              "#0d0887"
             ],
             [
              0.1111111111111111,
              "#46039f"
             ],
             [
              0.2222222222222222,
              "#7201a8"
             ],
             [
              0.3333333333333333,
              "#9c179e"
             ],
             [
              0.4444444444444444,
              "#bd3786"
             ],
             [
              0.5555555555555556,
              "#d8576b"
             ],
             [
              0.6666666666666666,
              "#ed7953"
             ],
             [
              0.7777777777777778,
              "#fb9f3a"
             ],
             [
              0.8888888888888888,
              "#fdca26"
             ],
             [
              1,
              "#f0f921"
             ]
            ],
            "type": "heatmapgl"
           }
          ],
          "histogram": [
           {
            "marker": {
             "pattern": {
              "fillmode": "overlay",
              "size": 10,
              "solidity": 0.2
             }
            },
            "type": "histogram"
           }
          ],
          "histogram2d": [
           {
            "colorbar": {
             "outlinewidth": 0,
             "ticks": ""
            },
            "colorscale": [
             [
              0,
              "#0d0887"
             ],
             [
              0.1111111111111111,
              "#46039f"
             ],
             [
              0.2222222222222222,
              "#7201a8"
             ],
             [
              0.3333333333333333,
              "#9c179e"
             ],
             [
              0.4444444444444444,
              "#bd3786"
             ],
             [
              0.5555555555555556,
              "#d8576b"
             ],
             [
              0.6666666666666666,
              "#ed7953"
             ],
             [
              0.7777777777777778,
              "#fb9f3a"
             ],
             [
              0.8888888888888888,
              "#fdca26"
             ],
             [
              1,
              "#f0f921"
             ]
            ],
            "type": "histogram2d"
           }
          ],
          "histogram2dcontour": [
           {
            "colorbar": {
             "outlinewidth": 0,
             "ticks": ""
            },
            "colorscale": [
             [
              0,
              "#0d0887"
             ],
             [
              0.1111111111111111,
              "#46039f"
             ],
             [
              0.2222222222222222,
              "#7201a8"
             ],
             [
              0.3333333333333333,
              "#9c179e"
             ],
             [
              0.4444444444444444,
              "#bd3786"
             ],
             [
              0.5555555555555556,
              "#d8576b"
             ],
             [
              0.6666666666666666,
              "#ed7953"
             ],
             [
              0.7777777777777778,
              "#fb9f3a"
             ],
             [
              0.8888888888888888,
              "#fdca26"
             ],
             [
              1,
              "#f0f921"
             ]
            ],
            "type": "histogram2dcontour"
           }
          ],
          "mesh3d": [
           {
            "colorbar": {
             "outlinewidth": 0,
             "ticks": ""
            },
            "type": "mesh3d"
           }
          ],
          "parcoords": [
           {
            "line": {
             "colorbar": {
              "outlinewidth": 0,
              "ticks": ""
             }
            },
            "type": "parcoords"
           }
          ],
          "pie": [
           {
            "automargin": true,
            "type": "pie"
           }
          ],
          "scatter": [
           {
            "fillpattern": {
             "fillmode": "overlay",
             "size": 10,
             "solidity": 0.2
            },
            "type": "scatter"
           }
          ],
          "scatter3d": [
           {
            "line": {
             "colorbar": {
              "outlinewidth": 0,
              "ticks": ""
             }
            },
            "marker": {
             "colorbar": {
              "outlinewidth": 0,
              "ticks": ""
             }
            },
            "type": "scatter3d"
           }
          ],
          "scattercarpet": [
           {
            "marker": {
             "colorbar": {
              "outlinewidth": 0,
              "ticks": ""
             }
            },
            "type": "scattercarpet"
           }
          ],
          "scattergeo": [
           {
            "marker": {
             "colorbar": {
              "outlinewidth": 0,
              "ticks": ""
             }
            },
            "type": "scattergeo"
           }
          ],
          "scattergl": [
           {
            "marker": {
             "colorbar": {
              "outlinewidth": 0,
              "ticks": ""
             }
            },
            "type": "scattergl"
           }
          ],
          "scattermapbox": [
           {
            "marker": {
             "colorbar": {
              "outlinewidth": 0,
              "ticks": ""
             }
            },
            "type": "scattermapbox"
           }
          ],
          "scatterpolar": [
           {
            "marker": {
             "colorbar": {
              "outlinewidth": 0,
              "ticks": ""
             }
            },
            "type": "scatterpolar"
           }
          ],
          "scatterpolargl": [
           {
            "marker": {
             "colorbar": {
              "outlinewidth": 0,
              "ticks": ""
             }
            },
            "type": "scatterpolargl"
           }
          ],
          "scatterternary": [
           {
            "marker": {
             "colorbar": {
              "outlinewidth": 0,
              "ticks": ""
             }
            },
            "type": "scatterternary"
           }
          ],
          "surface": [
           {
            "colorbar": {
             "outlinewidth": 0,
             "ticks": ""
            },
            "colorscale": [
             [
              0,
              "#0d0887"
             ],
             [
              0.1111111111111111,
              "#46039f"
             ],
             [
              0.2222222222222222,
              "#7201a8"
             ],
             [
              0.3333333333333333,
              "#9c179e"
             ],
             [
              0.4444444444444444,
              "#bd3786"
             ],
             [
              0.5555555555555556,
              "#d8576b"
             ],
             [
              0.6666666666666666,
              "#ed7953"
             ],
             [
              0.7777777777777778,
              "#fb9f3a"
             ],
             [
              0.8888888888888888,
              "#fdca26"
             ],
             [
              1,
              "#f0f921"
             ]
            ],
            "type": "surface"
           }
          ],
          "table": [
           {
            "cells": {
             "fill": {
              "color": "#EBF0F8"
             },
             "line": {
              "color": "white"
             }
            },
            "header": {
             "fill": {
              "color": "#C8D4E3"
             },
             "line": {
              "color": "white"
             }
            },
            "type": "table"
           }
          ]
         },
         "layout": {
          "annotationdefaults": {
           "arrowcolor": "#2a3f5f",
           "arrowhead": 0,
           "arrowwidth": 1
          },
          "autotypenumbers": "strict",
          "coloraxis": {
           "colorbar": {
            "outlinewidth": 0,
            "ticks": ""
           }
          },
          "colorscale": {
           "diverging": [
            [
             0,
             "#8e0152"
            ],
            [
             0.1,
             "#c51b7d"
            ],
            [
             0.2,
             "#de77ae"
            ],
            [
             0.3,
             "#f1b6da"
            ],
            [
             0.4,
             "#fde0ef"
            ],
            [
             0.5,
             "#f7f7f7"
            ],
            [
             0.6,
             "#e6f5d0"
            ],
            [
             0.7,
             "#b8e186"
            ],
            [
             0.8,
             "#7fbc41"
            ],
            [
             0.9,
             "#4d9221"
            ],
            [
             1,
             "#276419"
            ]
           ],
           "sequential": [
            [
             0,
             "#0d0887"
            ],
            [
             0.1111111111111111,
             "#46039f"
            ],
            [
             0.2222222222222222,
             "#7201a8"
            ],
            [
             0.3333333333333333,
             "#9c179e"
            ],
            [
             0.4444444444444444,
             "#bd3786"
            ],
            [
             0.5555555555555556,
             "#d8576b"
            ],
            [
             0.6666666666666666,
             "#ed7953"
            ],
            [
             0.7777777777777778,
             "#fb9f3a"
            ],
            [
             0.8888888888888888,
             "#fdca26"
            ],
            [
             1,
             "#f0f921"
            ]
           ],
           "sequentialminus": [
            [
             0,
             "#0d0887"
            ],
            [
             0.1111111111111111,
             "#46039f"
            ],
            [
             0.2222222222222222,
             "#7201a8"
            ],
            [
             0.3333333333333333,
             "#9c179e"
            ],
            [
             0.4444444444444444,
             "#bd3786"
            ],
            [
             0.5555555555555556,
             "#d8576b"
            ],
            [
             0.6666666666666666,
             "#ed7953"
            ],
            [
             0.7777777777777778,
             "#fb9f3a"
            ],
            [
             0.8888888888888888,
             "#fdca26"
            ],
            [
             1,
             "#f0f921"
            ]
           ]
          },
          "colorway": [
           "#636efa",
           "#EF553B",
           "#00cc96",
           "#ab63fa",
           "#FFA15A",
           "#19d3f3",
           "#FF6692",
           "#B6E880",
           "#FF97FF",
           "#FECB52"
          ],
          "font": {
           "color": "#2a3f5f"
          },
          "geo": {
           "bgcolor": "white",
           "lakecolor": "white",
           "landcolor": "#E5ECF6",
           "showlakes": true,
           "showland": true,
           "subunitcolor": "white"
          },
          "hoverlabel": {
           "align": "left"
          },
          "hovermode": "closest",
          "mapbox": {
           "style": "light"
          },
          "paper_bgcolor": "white",
          "plot_bgcolor": "#E5ECF6",
          "polar": {
           "angularaxis": {
            "gridcolor": "white",
            "linecolor": "white",
            "ticks": ""
           },
           "bgcolor": "#E5ECF6",
           "radialaxis": {
            "gridcolor": "white",
            "linecolor": "white",
            "ticks": ""
           }
          },
          "scene": {
           "xaxis": {
            "backgroundcolor": "#E5ECF6",
            "gridcolor": "white",
            "gridwidth": 2,
            "linecolor": "white",
            "showbackground": true,
            "ticks": "",
            "zerolinecolor": "white"
           },
           "yaxis": {
            "backgroundcolor": "#E5ECF6",
            "gridcolor": "white",
            "gridwidth": 2,
            "linecolor": "white",
            "showbackground": true,
            "ticks": "",
            "zerolinecolor": "white"
           },
           "zaxis": {
            "backgroundcolor": "#E5ECF6",
            "gridcolor": "white",
            "gridwidth": 2,
            "linecolor": "white",
            "showbackground": true,
            "ticks": "",
            "zerolinecolor": "white"
           }
          },
          "shapedefaults": {
           "line": {
            "color": "#2a3f5f"
           }
          },
          "ternary": {
           "aaxis": {
            "gridcolor": "white",
            "linecolor": "white",
            "ticks": ""
           },
           "baxis": {
            "gridcolor": "white",
            "linecolor": "white",
            "ticks": ""
           },
           "bgcolor": "#E5ECF6",
           "caxis": {
            "gridcolor": "white",
            "linecolor": "white",
            "ticks": ""
           }
          },
          "title": {
           "x": 0.05
          },
          "xaxis": {
           "automargin": true,
           "gridcolor": "white",
           "linecolor": "white",
           "ticks": "",
           "title": {
            "standoff": 15
           },
           "zerolinecolor": "white",
           "zerolinewidth": 2
          },
          "yaxis": {
           "automargin": true,
           "gridcolor": "white",
           "linecolor": "white",
           "ticks": "",
           "title": {
            "standoff": 15
           },
           "zerolinecolor": "white",
           "zerolinewidth": 2
          }
         }
        },
        "title": {
         "text": "Stornierungen (\"cancellations\") nach Fluggesellschaften (\"airline\")"
        },
        "width": 700,
        "xaxis": {
         "anchor": "y",
         "domain": [
          0,
          1
         ],
         "range": [
          0,
          19251.6
         ],
         "showgrid": false,
         "showticklabels": false,
         "title": {
          "text": ""
         },
         "zeroline": false
        },
        "yaxis": {
         "anchor": "x",
         "domain": [
          0,
          1
         ],
         "showgrid": false,
         "showticklabels": true,
         "title": {
          "text": ""
         },
         "zeroline": false
        }
       }
      }
     },
     "metadata": {},
     "output_type": "display_data"
    }
   ],
   "source": [
    "import pandas as pd\n",
    "import plotly.express as px\n",
    "\n",
    "# Angenommen, `cancellations_summary` ist bereits definiert\n",
    "cancellations_sorted = cancellations_summary.groupby('airline', as_index=False)['cancellations'].sum().sort_values(by='cancellations', ascending=True)\n",
    "\n",
    "# Formatieren der 'cancellations' für das deutsche Zahlenformat (mit Punkt als Tausendertrennzeichen)\n",
    "cancellations_sorted['formatted_cancellations'] = cancellations_sorted['cancellations'].apply(lambda x: \"{:,.0f}\".format(x).replace(\",\", \".\"))\n",
    "\n",
    "# Visualisierung des DataFrames als liegendes Balkendiagramm mit Plotly Express\n",
    "fig = px.bar(\n",
    "    cancellations_sorted, \n",
    "    y='airline', \n",
    "    x='cancellations', \n",
    "    orientation='h', \n",
    "    color_discrete_sequence=['#49a9db'],  # Spezifische Farbe für die Balken\n",
    "    text='formatted_cancellations'  # Verwendet die vorformatierten Datenlabels\n",
    ")\n",
    "\n",
    "# Rahmen (Spines) entfernen und Layout anpassen\n",
    "fig.update_layout(\n",
    "    xaxis=dict(showgrid=False, zeroline=False, showticklabels=False),  # X-Achse anpassen\n",
    "    yaxis=dict(showgrid=False, zeroline=False),  # Y-Achse anpassen\n",
    "    plot_bgcolor='rgba(0,0,0,0)',  # Hintergrundfarbe des Plots\n",
    "    title_text='Stornierungen (\"cancellations\") nach Fluggesellschaften (\"airline\")',  # Titel hinzufügen\n",
    "    width=700,  # Breite des Diagramms\n",
    "    height=450  # Höhe des Diagramms\n",
    ")\n",
    "\n",
    "# Den maximalen Wert von 'cancellations' ermitteln/ Justierung der Beschriftung\n",
    "max_cancellations = cancellations_sorted['cancellations'].max()\n",
    "\n",
    "# Einen zusätzlichen Platz zum maximalen Wert hinzufügen, um Platz für Datenlabels zu schaffen\n",
    "padding = max_cancellations * 0.2  # Skalierungsfaktor\n",
    "\n",
    "# Textposition für die Datenlabels \n",
    "fig.update_traces(textposition='outside')\n",
    "\n",
    "# Diagramm-Layout anpassen, um den Bereich der x-Achse zu erweitern\n",
    "fig.update_layout(\n",
    "    xaxis=dict(\n",
    "        range=[0, max_cancellations + padding],  # Setze das Range-Ende auf den maximalen Wert plus Padding\n",
    "    )\n",
    ")\n",
    "\n",
    "# Aktualisiere das Layout, um Achsenbeschriftungen und Achsentitel zu entfernen\n",
    "fig.update_layout(\n",
    "    xaxis=dict(\n",
    "        showticklabels=False,  \n",
    "        title_text='',  \n",
    "    ),\n",
    "    yaxis=dict(\n",
    "        showticklabels=True,  \n",
    "        title_text='',  \n",
    "    )\n",
    ")\n",
    "\n",
    "\n",
    "# Diagramm anzeigen\n",
    "fig.show()\n",
    "\n",
    "\n",
    "\n"
   ]
  },
  {
   "cell_type": "markdown",
   "metadata": {},
   "source": [
    "**Gründe für Stornierungen**"
   ]
  },
  {
   "cell_type": "code",
   "execution_count": 25,
   "metadata": {},
   "outputs": [
    {
     "data": {
      "text/html": [
       "<div>\n",
       "<style scoped>\n",
       "    .dataframe tbody tr th:only-of-type {\n",
       "        vertical-align: middle;\n",
       "    }\n",
       "\n",
       "    .dataframe tbody tr th {\n",
       "        vertical-align: top;\n",
       "    }\n",
       "\n",
       "    .dataframe thead th {\n",
       "        text-align: right;\n",
       "    }\n",
       "</style>\n",
       "<table border=\"1\" class=\"dataframe\">\n",
       "  <thead>\n",
       "    <tr style=\"text-align: right;\">\n",
       "      <th></th>\n",
       "      <th>cancellation_reason</th>\n",
       "      <th>airline</th>\n",
       "      <th>cancellations</th>\n",
       "      <th>percentage</th>\n",
       "    </tr>\n",
       "  </thead>\n",
       "  <tbody>\n",
       "    <tr>\n",
       "      <th>0</th>\n",
       "      <td>Airline/ Carrier</td>\n",
       "      <td>Alaska Airlines Inc.</td>\n",
       "      <td>334</td>\n",
       "      <td>0.371590</td>\n",
       "    </tr>\n",
       "    <tr>\n",
       "      <th>1</th>\n",
       "      <td>Airline/ Carrier</td>\n",
       "      <td>American Airlines Inc.</td>\n",
       "      <td>2879</td>\n",
       "      <td>3.203017</td>\n",
       "    </tr>\n",
       "    <tr>\n",
       "      <th>2</th>\n",
       "      <td>Airline/ Carrier</td>\n",
       "      <td>American Eagle Airlines Inc.</td>\n",
       "      <td>2475</td>\n",
       "      <td>2.753549</td>\n",
       "    </tr>\n",
       "    <tr>\n",
       "      <th>3</th>\n",
       "      <td>Airline/ Carrier</td>\n",
       "      <td>Atlantic Southeast Airlines</td>\n",
       "      <td>3604</td>\n",
       "      <td>4.009612</td>\n",
       "    </tr>\n",
       "    <tr>\n",
       "      <th>4</th>\n",
       "      <td>Airline/ Carrier</td>\n",
       "      <td>Delta Air Lines Inc.</td>\n",
       "      <td>594</td>\n",
       "      <td>0.660852</td>\n",
       "    </tr>\n",
       "  </tbody>\n",
       "</table>\n",
       "</div>"
      ],
      "text/plain": [
       "  cancellation_reason                       airline  cancellations  percentage\n",
       "0    Airline/ Carrier          Alaska Airlines Inc.            334    0.371590\n",
       "1    Airline/ Carrier        American Airlines Inc.           2879    3.203017\n",
       "2    Airline/ Carrier  American Eagle Airlines Inc.           2475    2.753549\n",
       "3    Airline/ Carrier   Atlantic Southeast Airlines           3604    4.009612\n",
       "4    Airline/ Carrier          Delta Air Lines Inc.            594    0.660852"
      ]
     },
     "execution_count": 25,
     "metadata": {},
     "output_type": "execute_result"
    }
   ],
   "source": []
  },
  {
   "cell_type": "code",
   "execution_count": 30,
   "metadata": {},
   "outputs": [
    {
     "data": {
      "application/vnd.plotly.v1+json": {
       "config": {
        "plotlyServerURL": "https://plot.ly"
       },
       "data": [
        {
         "direction": "clockwise",
         "hole": 0.6,
         "hoverinfo": "label+percent",
         "hovertemplate": [
          "<b> %{label}</b><b> | Anzahl der Vorfälle nach Airline</b><br>Alaska Airlines Inc.: 334<br>American Airlines Inc.: 2879<br>American Eagle Airlines Inc.: 2475<br>Atlantic Southeast Airlines: 3604<br>Delta Air Lines Inc.: 594<br>Frontier Airlines Inc.: 308<br>Hawaiian Airlines Inc.: 170<br>JetBlue Airways: 883<br>Skywest Airlines Inc.: 3205<br>Southwest Airlines Co.: 6122<br>Spirit Air Lines: 654<br>US Airways Inc.: 1007<br>United Air Lines Inc.: 2870<br>Virgin America: 157<extra></extra>",
          "<b> %{label}</b><b> | Anzahl der Vorfälle nach Airline</b><br>Alaska Airlines Inc.: 18<br>American Airlines Inc.: 730<br>American Eagle Airlines Inc.: 3385<br>Atlantic Southeast Airlines: 6544<br>Delta Air Lines Inc.: 257<br>JetBlue Airways: 928<br>Skywest Airlines Inc.: 1216<br>Southwest Airlines Co.: 1066<br>Spirit Air Lines: 279<br>US Airways Inc.: 570<br>United Air Lines Inc.: 391<br>Virgin America: 365<extra></extra>",
          "<b> %{label}</b><b> | Anzahl der Vorfälle nach Airline</b><br>American Airlines Inc.: 4<br>American Eagle Airlines Inc.: 1<br>Atlantic Southeast Airlines: 1<br>JetBlue Airways: 1<br>Southwest Airlines Co.: 12<br>Spirit Air Lines: 3<extra></extra>",
          "<b> %{label}</b><b> | Anzahl der Vorfälle nach Airline</b><br>Alaska Airlines Inc.: 317<br>American Airlines Inc.: 7306<br>American Eagle Airlines Inc.: 9164<br>Atlantic Southeast Airlines: 5082<br>Delta Air Lines Inc.: 2973<br>Frontier Airlines Inc.: 280<br>Hawaiian Airlines Inc.: 1<br>JetBlue Airways: 2464<br>Skywest Airlines Inc.: 5539<br>Southwest Airlines Co.: 8843<br>Spirit Air Lines: 1068<br>US Airways Inc.: 2490<br>United Air Lines Inc.: 3312<br>Virgin America: 12<extra></extra>"
         ],
         "labels": [
          "Airline/ Carrier",
          "National Air System",
          "Security",
          "Weather"
         ],
         "marker": {
          "colors": [
           "rgba(236, 81, 26, 0.65)",
           "rgba(248, 125, 7, 0.65)",
           "rgba(255, 166, 0, 0.65)",
           "rgba(219, 13, 39, 0.65)"
          ]
         },
         "rotation": 194,
         "sort": false,
         "text": [
          "<b>Airline/ Carrier</b><br>25.262<br>(28.1 %)",
          "<b>National Air System</b><br>15.749<br>(17.5 %)",
          "<b>Security</b><br>22<br>(0.0 %)",
          "<b>Weather</b><br>48.851<br>(54.3 %)"
         ],
         "textfont": {
          "size": 13
         },
         "textinfo": "text",
         "type": "pie",
         "values": [
          25262,
          15749,
          22,
          48851
         ]
        }
       ],
       "layout": {
        "height": 400,
        "showlegend": false,
        "template": {
         "data": {
          "bar": [
           {
            "error_x": {
             "color": "#2a3f5f"
            },
            "error_y": {
             "color": "#2a3f5f"
            },
            "marker": {
             "line": {
              "color": "#E5ECF6",
              "width": 0.5
             },
             "pattern": {
              "fillmode": "overlay",
              "size": 10,
              "solidity": 0.2
             }
            },
            "type": "bar"
           }
          ],
          "barpolar": [
           {
            "marker": {
             "line": {
              "color": "#E5ECF6",
              "width": 0.5
             },
             "pattern": {
              "fillmode": "overlay",
              "size": 10,
              "solidity": 0.2
             }
            },
            "type": "barpolar"
           }
          ],
          "carpet": [
           {
            "aaxis": {
             "endlinecolor": "#2a3f5f",
             "gridcolor": "white",
             "linecolor": "white",
             "minorgridcolor": "white",
             "startlinecolor": "#2a3f5f"
            },
            "baxis": {
             "endlinecolor": "#2a3f5f",
             "gridcolor": "white",
             "linecolor": "white",
             "minorgridcolor": "white",
             "startlinecolor": "#2a3f5f"
            },
            "type": "carpet"
           }
          ],
          "choropleth": [
           {
            "colorbar": {
             "outlinewidth": 0,
             "ticks": ""
            },
            "type": "choropleth"
           }
          ],
          "contour": [
           {
            "colorbar": {
             "outlinewidth": 0,
             "ticks": ""
            },
            "colorscale": [
             [
              0,
              "#0d0887"
             ],
             [
              0.1111111111111111,
              "#46039f"
             ],
             [
              0.2222222222222222,
              "#7201a8"
             ],
             [
              0.3333333333333333,
              "#9c179e"
             ],
             [
              0.4444444444444444,
              "#bd3786"
             ],
             [
              0.5555555555555556,
              "#d8576b"
             ],
             [
              0.6666666666666666,
              "#ed7953"
             ],
             [
              0.7777777777777778,
              "#fb9f3a"
             ],
             [
              0.8888888888888888,
              "#fdca26"
             ],
             [
              1,
              "#f0f921"
             ]
            ],
            "type": "contour"
           }
          ],
          "contourcarpet": [
           {
            "colorbar": {
             "outlinewidth": 0,
             "ticks": ""
            },
            "type": "contourcarpet"
           }
          ],
          "heatmap": [
           {
            "colorbar": {
             "outlinewidth": 0,
             "ticks": ""
            },
            "colorscale": [
             [
              0,
              "#0d0887"
             ],
             [
              0.1111111111111111,
              "#46039f"
             ],
             [
              0.2222222222222222,
              "#7201a8"
             ],
             [
              0.3333333333333333,
              "#9c179e"
             ],
             [
              0.4444444444444444,
              "#bd3786"
             ],
             [
              0.5555555555555556,
              "#d8576b"
             ],
             [
              0.6666666666666666,
              "#ed7953"
             ],
             [
              0.7777777777777778,
              "#fb9f3a"
             ],
             [
              0.8888888888888888,
              "#fdca26"
             ],
             [
              1,
              "#f0f921"
             ]
            ],
            "type": "heatmap"
           }
          ],
          "heatmapgl": [
           {
            "colorbar": {
             "outlinewidth": 0,
             "ticks": ""
            },
            "colorscale": [
             [
              0,
              "#0d0887"
             ],
             [
              0.1111111111111111,
              "#46039f"
             ],
             [
              0.2222222222222222,
              "#7201a8"
             ],
             [
              0.3333333333333333,
              "#9c179e"
             ],
             [
              0.4444444444444444,
              "#bd3786"
             ],
             [
              0.5555555555555556,
              "#d8576b"
             ],
             [
              0.6666666666666666,
              "#ed7953"
             ],
             [
              0.7777777777777778,
              "#fb9f3a"
             ],
             [
              0.8888888888888888,
              "#fdca26"
             ],
             [
              1,
              "#f0f921"
             ]
            ],
            "type": "heatmapgl"
           }
          ],
          "histogram": [
           {
            "marker": {
             "pattern": {
              "fillmode": "overlay",
              "size": 10,
              "solidity": 0.2
             }
            },
            "type": "histogram"
           }
          ],
          "histogram2d": [
           {
            "colorbar": {
             "outlinewidth": 0,
             "ticks": ""
            },
            "colorscale": [
             [
              0,
              "#0d0887"
             ],
             [
              0.1111111111111111,
              "#46039f"
             ],
             [
              0.2222222222222222,
              "#7201a8"
             ],
             [
              0.3333333333333333,
              "#9c179e"
             ],
             [
              0.4444444444444444,
              "#bd3786"
             ],
             [
              0.5555555555555556,
              "#d8576b"
             ],
             [
              0.6666666666666666,
              "#ed7953"
             ],
             [
              0.7777777777777778,
              "#fb9f3a"
             ],
             [
              0.8888888888888888,
              "#fdca26"
             ],
             [
              1,
              "#f0f921"
             ]
            ],
            "type": "histogram2d"
           }
          ],
          "histogram2dcontour": [
           {
            "colorbar": {
             "outlinewidth": 0,
             "ticks": ""
            },
            "colorscale": [
             [
              0,
              "#0d0887"
             ],
             [
              0.1111111111111111,
              "#46039f"
             ],
             [
              0.2222222222222222,
              "#7201a8"
             ],
             [
              0.3333333333333333,
              "#9c179e"
             ],
             [
              0.4444444444444444,
              "#bd3786"
             ],
             [
              0.5555555555555556,
              "#d8576b"
             ],
             [
              0.6666666666666666,
              "#ed7953"
             ],
             [
              0.7777777777777778,
              "#fb9f3a"
             ],
             [
              0.8888888888888888,
              "#fdca26"
             ],
             [
              1,
              "#f0f921"
             ]
            ],
            "type": "histogram2dcontour"
           }
          ],
          "mesh3d": [
           {
            "colorbar": {
             "outlinewidth": 0,
             "ticks": ""
            },
            "type": "mesh3d"
           }
          ],
          "parcoords": [
           {
            "line": {
             "colorbar": {
              "outlinewidth": 0,
              "ticks": ""
             }
            },
            "type": "parcoords"
           }
          ],
          "pie": [
           {
            "automargin": true,
            "type": "pie"
           }
          ],
          "scatter": [
           {
            "fillpattern": {
             "fillmode": "overlay",
             "size": 10,
             "solidity": 0.2
            },
            "type": "scatter"
           }
          ],
          "scatter3d": [
           {
            "line": {
             "colorbar": {
              "outlinewidth": 0,
              "ticks": ""
             }
            },
            "marker": {
             "colorbar": {
              "outlinewidth": 0,
              "ticks": ""
             }
            },
            "type": "scatter3d"
           }
          ],
          "scattercarpet": [
           {
            "marker": {
             "colorbar": {
              "outlinewidth": 0,
              "ticks": ""
             }
            },
            "type": "scattercarpet"
           }
          ],
          "scattergeo": [
           {
            "marker": {
             "colorbar": {
              "outlinewidth": 0,
              "ticks": ""
             }
            },
            "type": "scattergeo"
           }
          ],
          "scattergl": [
           {
            "marker": {
             "colorbar": {
              "outlinewidth": 0,
              "ticks": ""
             }
            },
            "type": "scattergl"
           }
          ],
          "scattermapbox": [
           {
            "marker": {
             "colorbar": {
              "outlinewidth": 0,
              "ticks": ""
             }
            },
            "type": "scattermapbox"
           }
          ],
          "scatterpolar": [
           {
            "marker": {
             "colorbar": {
              "outlinewidth": 0,
              "ticks": ""
             }
            },
            "type": "scatterpolar"
           }
          ],
          "scatterpolargl": [
           {
            "marker": {
             "colorbar": {
              "outlinewidth": 0,
              "ticks": ""
             }
            },
            "type": "scatterpolargl"
           }
          ],
          "scatterternary": [
           {
            "marker": {
             "colorbar": {
              "outlinewidth": 0,
              "ticks": ""
             }
            },
            "type": "scatterternary"
           }
          ],
          "surface": [
           {
            "colorbar": {
             "outlinewidth": 0,
             "ticks": ""
            },
            "colorscale": [
             [
              0,
              "#0d0887"
             ],
             [
              0.1111111111111111,
              "#46039f"
             ],
             [
              0.2222222222222222,
              "#7201a8"
             ],
             [
              0.3333333333333333,
              "#9c179e"
             ],
             [
              0.4444444444444444,
              "#bd3786"
             ],
             [
              0.5555555555555556,
              "#d8576b"
             ],
             [
              0.6666666666666666,
              "#ed7953"
             ],
             [
              0.7777777777777778,
              "#fb9f3a"
             ],
             [
              0.8888888888888888,
              "#fdca26"
             ],
             [
              1,
              "#f0f921"
             ]
            ],
            "type": "surface"
           }
          ],
          "table": [
           {
            "cells": {
             "fill": {
              "color": "#EBF0F8"
             },
             "line": {
              "color": "white"
             }
            },
            "header": {
             "fill": {
              "color": "#C8D4E3"
             },
             "line": {
              "color": "white"
             }
            },
            "type": "table"
           }
          ]
         },
         "layout": {
          "annotationdefaults": {
           "arrowcolor": "#2a3f5f",
           "arrowhead": 0,
           "arrowwidth": 1
          },
          "autotypenumbers": "strict",
          "coloraxis": {
           "colorbar": {
            "outlinewidth": 0,
            "ticks": ""
           }
          },
          "colorscale": {
           "diverging": [
            [
             0,
             "#8e0152"
            ],
            [
             0.1,
             "#c51b7d"
            ],
            [
             0.2,
             "#de77ae"
            ],
            [
             0.3,
             "#f1b6da"
            ],
            [
             0.4,
             "#fde0ef"
            ],
            [
             0.5,
             "#f7f7f7"
            ],
            [
             0.6,
             "#e6f5d0"
            ],
            [
             0.7,
             "#b8e186"
            ],
            [
             0.8,
             "#7fbc41"
            ],
            [
             0.9,
             "#4d9221"
            ],
            [
             1,
             "#276419"
            ]
           ],
           "sequential": [
            [
             0,
             "#0d0887"
            ],
            [
             0.1111111111111111,
             "#46039f"
            ],
            [
             0.2222222222222222,
             "#7201a8"
            ],
            [
             0.3333333333333333,
             "#9c179e"
            ],
            [
             0.4444444444444444,
             "#bd3786"
            ],
            [
             0.5555555555555556,
             "#d8576b"
            ],
            [
             0.6666666666666666,
             "#ed7953"
            ],
            [
             0.7777777777777778,
             "#fb9f3a"
            ],
            [
             0.8888888888888888,
             "#fdca26"
            ],
            [
             1,
             "#f0f921"
            ]
           ],
           "sequentialminus": [
            [
             0,
             "#0d0887"
            ],
            [
             0.1111111111111111,
             "#46039f"
            ],
            [
             0.2222222222222222,
             "#7201a8"
            ],
            [
             0.3333333333333333,
             "#9c179e"
            ],
            [
             0.4444444444444444,
             "#bd3786"
            ],
            [
             0.5555555555555556,
             "#d8576b"
            ],
            [
             0.6666666666666666,
             "#ed7953"
            ],
            [
             0.7777777777777778,
             "#fb9f3a"
            ],
            [
             0.8888888888888888,
             "#fdca26"
            ],
            [
             1,
             "#f0f921"
            ]
           ]
          },
          "colorway": [
           "#636efa",
           "#EF553B",
           "#00cc96",
           "#ab63fa",
           "#FFA15A",
           "#19d3f3",
           "#FF6692",
           "#B6E880",
           "#FF97FF",
           "#FECB52"
          ],
          "font": {
           "color": "#2a3f5f"
          },
          "geo": {
           "bgcolor": "white",
           "lakecolor": "white",
           "landcolor": "#E5ECF6",
           "showlakes": true,
           "showland": true,
           "subunitcolor": "white"
          },
          "hoverlabel": {
           "align": "left"
          },
          "hovermode": "closest",
          "mapbox": {
           "style": "light"
          },
          "paper_bgcolor": "white",
          "plot_bgcolor": "#E5ECF6",
          "polar": {
           "angularaxis": {
            "gridcolor": "white",
            "linecolor": "white",
            "ticks": ""
           },
           "bgcolor": "#E5ECF6",
           "radialaxis": {
            "gridcolor": "white",
            "linecolor": "white",
            "ticks": ""
           }
          },
          "scene": {
           "xaxis": {
            "backgroundcolor": "#E5ECF6",
            "gridcolor": "white",
            "gridwidth": 2,
            "linecolor": "white",
            "showbackground": true,
            "ticks": "",
            "zerolinecolor": "white"
           },
           "yaxis": {
            "backgroundcolor": "#E5ECF6",
            "gridcolor": "white",
            "gridwidth": 2,
            "linecolor": "white",
            "showbackground": true,
            "ticks": "",
            "zerolinecolor": "white"
           },
           "zaxis": {
            "backgroundcolor": "#E5ECF6",
            "gridcolor": "white",
            "gridwidth": 2,
            "linecolor": "white",
            "showbackground": true,
            "ticks": "",
            "zerolinecolor": "white"
           }
          },
          "shapedefaults": {
           "line": {
            "color": "#2a3f5f"
           }
          },
          "ternary": {
           "aaxis": {
            "gridcolor": "white",
            "linecolor": "white",
            "ticks": ""
           },
           "baxis": {
            "gridcolor": "white",
            "linecolor": "white",
            "ticks": ""
           },
           "bgcolor": "#E5ECF6",
           "caxis": {
            "gridcolor": "white",
            "linecolor": "white",
            "ticks": ""
           }
          },
          "title": {
           "x": 0.05
          },
          "xaxis": {
           "automargin": true,
           "gridcolor": "white",
           "linecolor": "white",
           "ticks": "",
           "title": {
            "standoff": 15
           },
           "zerolinecolor": "white",
           "zerolinewidth": 2
          },
          "yaxis": {
           "automargin": true,
           "gridcolor": "white",
           "linecolor": "white",
           "ticks": "",
           "title": {
            "standoff": 15
           },
           "zerolinecolor": "white",
           "zerolinewidth": 2
          }
         }
        },
        "width": 450
       }
      }
     },
     "metadata": {},
     "output_type": "display_data"
    }
   ],
   "source": [
    "import pandas as pd\n",
    "import plotly.graph_objects as go\n",
    "\n",
    "# Daten vorbereiten und nach 'cancellations' sortieren\n",
    "sorted_data = cancellations_summary.groupby('cancellation_reason', as_index=False)['cancellations'].sum().sort_values(by='cancellations', ascending=False)\n",
    "sorted_data['percentage'] = (sorted_data['cancellations'] / sorted_data['cancellations'].sum() * 100).round(1)\n",
    "sorted_data['text'] = sorted_data.apply(lambda x: f\"{x['cancellation_reason']}<br>{x['cancellations']:,}\".replace(\",\", \".\") + f\"<br>({x['percentage']}%)\", axis=1)\n",
    "\n",
    "\n",
    "# Gruppierung der Fluggesellschaften und Berechnung der Gesamtanteile\n",
    "grouped_data = cancellations_summary.groupby(['cancellation_reason', 'airline'], as_index=False)['cancellations'].sum()\n",
    "hover_texts = grouped_data.groupby('cancellation_reason').apply(\n",
    "    lambda x: \"<br>\".join([f\"{row['airline']}: {row['cancellations']}\" for index, row in x.iterrows()])\n",
    ").reset_index(name='info')\n",
    "\n",
    "# Füge den vorbereiteten Hover-Text den ursprünglichen Daten hinzu\n",
    "final_data = cancellations_summary.groupby('cancellation_reason', as_index=False)['cancellations'].sum()\n",
    "final_data = final_data.merge(hover_texts, on='cancellation_reason', how='left')\n",
    "\n",
    "# Prozentwerte und formatierten Text zu 'final_data' hinzufügen\n",
    "final_data['percentage'] = (final_data['cancellations'] / final_data['cancellations'].sum() * 100).round(1)\n",
    "final_data['text'] = final_data.apply(lambda x: f\"<b>{x['cancellation_reason']}</b><br>{x['cancellations']:,}\".replace(\",\", \".\") + f\"<br>({x['percentage']} %)\", axis=1)\n",
    "\n",
    "\n",
    "# Farbschema mit Alpha-Wert\n",
    "colors_hex = [\"rgba(236, 81, 26, 0.65)\", \"rgba(248, 125, 7, 0.65)\", \n",
    "              \"rgba(255, 166, 0, 0.65)\", \"rgba(219, 13, 39, 0.65)\"]\n",
    "\n",
    "# Erstellung des Kreisdiagramms\n",
    "fig = go.Figure(data=[go.Pie(labels=final_data['cancellation_reason'], values=final_data['cancellations'],\n",
    "                             hoverinfo='label+percent', text=final_data['text'],  # Verwende 'final_data' für 'text'\n",
    "                             textinfo='text',\n",
    "                             marker=dict(colors=colors_hex),\n",
    "                             rotation=194,\n",
    "                             direction=\"clockwise\",\n",
    "                             hovertemplate=final_data['info'].apply(lambda x: f'<b> %{{label}}</b><b> | Anzahl der Vorfälle nach Airline</b><br>{x}<extra></extra>'),\n",
    "                             hole=.6,\n",
    "                             sort=False)])\n",
    "\n",
    "# Anpassen der Fontsize bei den Labels\n",
    "fig.update_traces(textfont_size=13) \n",
    "\n",
    "# Anpassen der Größe des Diagramms und Legende entfernen\n",
    "fig.update_layout(width=450, height=400, showlegend=False)\n",
    "\n",
    "\n",
    "# Diagramm anzeigen\n",
    "fig.show()"
   ]
  },
  {
   "cell_type": "code",
   "execution_count": 48,
   "metadata": {},
   "outputs": [],
   "source": [
    "import pandas as pd\n",
    "import pygwalker as pyg"
   ]
  },
  {
   "cell_type": "code",
   "execution_count": 49,
   "metadata": {},
   "outputs": [
    {
     "data": {
      "application/vnd.jupyter.widget-view+json": {
       "model_id": "e8a341237e12435989a534c687562cd1",
       "version_major": 2,
       "version_minor": 0
      },
      "text/plain": [
       "Box(children=(HTML(value='<div id=\"ifr-pyg-0006159177f9ec91MTPaZlujANx4bryq\" style=\"height: auto\">\\n    <head>…"
      ]
     },
     "metadata": {},
     "output_type": "display_data"
    },
    {
     "data": {
      "text/html": [],
      "text/plain": [
       "<IPython.core.display.HTML object>"
      ]
     },
     "metadata": {},
     "output_type": "display_data"
    }
   ],
   "source": [
    "walker = pyg.walk(cancellations_df)"
   ]
  },
  {
   "cell_type": "markdown",
   "metadata": {},
   "source": [
    "## **Erstellen einer Streamlit-Anwendung**"
   ]
  },
  {
   "cell_type": "markdown",
   "metadata": {},
   "source": [
    "Da es einigen konfigurativen Aufwand bedeutet, eine Streamlit-App aus einem Jupyter-Notebook heraus zu starten, wird eine eigene py-Datei dafür aufgesetzt, die sich leichter als Streamlit-App deployen lässt. "
   ]
  }
 ],
 "metadata": {
  "kernelspec": {
   "display_name": "base",
   "language": "python",
   "name": "python3"
  },
  "language_info": {
   "codemirror_mode": {
    "name": "ipython",
    "version": 3
   },
   "file_extension": ".py",
   "mimetype": "text/x-python",
   "name": "python",
   "nbconvert_exporter": "python",
   "pygments_lexer": "ipython3",
   "version": "3.10.9"
  }
 },
 "nbformat": 4,
 "nbformat_minor": 2
}
